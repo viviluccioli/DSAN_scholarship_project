{
 "cells": [
  {
   "cell_type": "code",
   "execution_count": 20,
   "metadata": {},
   "outputs": [],
   "source": [
    "import plotly.express as px\n",
    "import pandas as pd\n",
    "import janitor  # this adds `.clean_names()` to pandas\n",
    "\n",
    "\n",
    "# Example: load your data (replace this with your real file)\n",
    "df = pd.read_csv('../data/security_incidents.csv')\n",
    "df = df.clean_names()\n",
    "df.columns = df.columns.str.replace('_', '.', regex=False)\n"
   ]
  },
  {
   "cell_type": "code",
   "execution_count": 21,
   "metadata": {},
   "outputs": [
    {
     "name": "stdout",
     "output_type": "stream",
     "text": [
      "Index(['incident.id', 'year', 'month', 'day', 'country.code', 'country',\n",
      "       'region', 'district', 'city', 'un', 'ingo', 'icrc', 'nrcs.and.ifrc',\n",
      "       'nngo', 'other', 'nationals.killed', 'nationals.wounded',\n",
      "       'nationals.kidnapped', 'total.nationals', 'internationals.killed',\n",
      "       'internationals.wounded', 'internationals.kidnapped',\n",
      "       'total.internationals', 'total.killed', 'total.wounded',\n",
      "       'total.kidnapped', 'total.affected', 'gender.male', 'gender.female',\n",
      "       'gender.unknown', 'means.of.attack', 'attack.context', 'location',\n",
      "       'latitude', 'longitude', 'motive', 'actor.type', 'actor.name',\n",
      "       'details', 'verified', 'source'],\n",
      "      dtype='object')\n"
     ]
    }
   ],
   "source": [
    "print(df.columns)\n"
   ]
  },
  {
   "cell_type": "code",
   "execution_count": 12,
   "metadata": {},
   "outputs": [
    {
     "name": "stderr",
     "output_type": "stream",
     "text": [
      "/opt/anaconda3/envs/dataviz5200/lib/python3.13/site-packages/_plotly_utils/basevalidators.py:2596: DeprecationWarning:\n",
      "\n",
      "*scattermapbox* is deprecated! Use *scattermap* instead. Learn more at: https://plotly.com/python/mapbox-to-maplibre/\n",
      "\n",
      "/opt/anaconda3/envs/dataviz5200/lib/python3.13/site-packages/_plotly_utils/basevalidators.py:2596: DeprecationWarning:\n",
      "\n",
      "*scattermapbox* is deprecated! Use *scattermap* instead. Learn more at: https://plotly.com/python/mapbox-to-maplibre/\n",
      "\n"
     ]
    },
    {
     "data": {
      "application/vnd.plotly.v1+json": {
       "config": {
        "plotlyServerURL": "https://plot.ly"
       },
       "data": [
        {
         "coloraxis": "coloraxis",
         "geo": "geo",
         "hovertemplate": "<b>%{hovertext}</b><br>Total killed: %{z}<extra></extra>",
         "hovertext": [
          "Afghanistan",
          "Angola",
          "Bangladesh",
          "Cambodia",
          "Congo",
          "Ethiopia",
          "Rwanda",
          "Sierra Leone",
          "Somalia",
          "South Sudan",
          "Tajikistan"
         ],
         "locationmode": "ISO-3",
         "locations": [
          "AFG",
          "AGO",
          "BGD",
          "KHM",
          "COG",
          "ETH",
          "RWA",
          "SLE",
          "SOM",
          "SSD",
          "TJK"
         ],
         "name": "",
         "type": "choropleth",
         "z": {
          "bdata": "AQMBAQECCQEGAQE=",
          "dtype": "i1"
         }
        }
       ],
       "frames": [
        {
         "data": [
          {
           "coloraxis": "coloraxis",
           "geo": "geo",
           "hovertemplate": "<b>%{hovertext}</b><br><br>year=1997<br>ISO=%{location}<br>total.killed=%{z}<extra></extra>",
           "hovertext": [
            "Afghanistan",
            "Angola",
            "Bangladesh",
            "Cambodia",
            "Congo",
            "Ethiopia",
            "Rwanda",
            "Sierra Leone",
            "Somalia",
            "South Sudan",
            "Tajikistan"
           ],
           "locationmode": "ISO-3",
           "locations": [
            "AFG",
            "AGO",
            "BGD",
            "KHM",
            "COG",
            "ETH",
            "RWA",
            "SLE",
            "SOM",
            "SSD",
            "TJK"
           ],
           "name": "",
           "type": "choropleth",
           "z": {
            "bdata": "AQMBAQECCQEGAQE=",
            "dtype": "i1"
           }
          }
         ],
         "name": "1997"
        },
        {
         "data": [
          {
           "coloraxis": "coloraxis",
           "geo": "geo",
           "hovertemplate": "<b>%{hovertext}</b><br><br>year=1998<br>ISO=%{location}<br>total.killed=%{z}<extra></extra>",
           "hovertext": [
            "Afghanistan",
            "Angola",
            "Burundi",
            "Ethiopia",
            "Rwanda",
            "Sierra Leone",
            "Somalia",
            "Sri Lanka",
            "Sudan",
            "Uganda"
           ],
           "locationmode": "ISO-3",
           "locations": [
            "AFG",
            "AGO",
            "BDI",
            "ETH",
            "RWA",
            "SLE",
            "SOM",
            "LKA",
            "SDN",
            "UGA"
           ],
           "name": "",
           "type": "choropleth",
           "z": {
            "bdata": "AwQGAAMBAgEEAg==",
            "dtype": "i1"
           }
          }
         ],
         "name": "1998"
        },
        {
         "data": [
          {
           "coloraxis": "coloraxis",
           "geo": "geo",
           "hovertemplate": "<b>%{hovertext}</b><br><br>year=1999<br>ISO=%{location}<br>total.killed=%{z}<extra></extra>",
           "hovertext": [
            "Afghanistan",
            "Angola",
            "Burundi",
            "Colombia",
            "Ethiopia",
            "Indonesia",
            "Kenya",
            "Liberia",
            "Sierra Leone",
            "Somalia",
            "Sudan",
            "Tajikistan",
            "Yemen"
           ],
           "locationmode": "ISO-3",
           "locations": [
            "AFG",
            "AGO",
            "BDI",
            "COL",
            "ETH",
            "IDN",
            "KEN",
            "LBR",
            "SLE",
            "SOM",
            "SDN",
            "TJK",
            "YEM"
           ],
           "name": "",
           "type": "choropleth",
           "z": {
            "bdata": "AQsDAAABAQABBwUBAA==",
            "dtype": "i1"
           }
          }
         ],
         "name": "1999"
        },
        {
         "data": [
          {
           "coloraxis": "coloraxis",
           "geo": "geo",
           "hovertemplate": "<b>%{hovertext}</b><br><br>year=2000<br>ISO=%{location}<br>total.killed=%{z}<extra></extra>",
           "hovertext": [
            "Afghanistan",
            "Angola",
            "Burundi",
            "Colombia",
            "Ethiopia",
            "Georgia",
            "Guinea",
            "Indonesia",
            "Iraq",
            "Kenya",
            "Mozambique",
            "Rwanda",
            "Sierra Leone",
            "Somalia",
            "Sudan"
           ],
           "locationmode": "ISO-3",
           "locations": [
            "AFG",
            "AGO",
            "BDI",
            "COL",
            "ETH",
            "GEO",
            "GIN",
            "IDN",
            "IRQ",
            "KEN",
            "MOZ",
            "RWA",
            "SLE",
            "SOM",
            "SDN"
           ],
           "name": "",
           "type": "choropleth",
           "z": {
            "bdata": "CAUBAAEAAgYCAQEBAAsP",
            "dtype": "i1"
           }
          }
         ],
         "name": "2000"
        },
        {
         "data": [
          {
           "coloraxis": "coloraxis",
           "geo": "geo",
           "hovertemplate": "<b>%{hovertext}</b><br><br>year=2001<br>ISO=%{location}<br>total.killed=%{z}<extra></extra>",
           "hovertext": [
            "Afghanistan",
            "Angola",
            "Burundi",
            "Cameroon",
            "Central African Republic",
            "Fiji",
            "Indonesia",
            "Madagascar",
            "Pakistan",
            "Somalia",
            "Sudan",
            "Tajikistan"
           ],
           "locationmode": "ISO-3",
           "locations": [
            "AFG",
            "AGO",
            "BDI",
            "CMR",
            "CAF",
            "FJI",
            "IDN",
            "MDG",
            "PAK",
            "SOM",
            "SDN",
            "TJK"
           ],
           "name": "",
           "type": "choropleth",
           "z": {
            "bdata": "AgECAQEBAQEABgIA",
            "dtype": "i1"
           }
          }
         ],
         "name": "2001"
        },
        {
         "data": [
          {
           "coloraxis": "coloraxis",
           "geo": "geo",
           "hovertemplate": "<b>%{hovertext}</b><br><br>year=2002<br>ISO=%{location}<br>total.killed=%{z}<extra></extra>",
           "hovertext": [
            "Afghanistan",
            "Angola",
            "Burundi",
            "Colombia",
            "Congo",
            "Iraq",
            "Jordan",
            "Liberia",
            "Somalia",
            "South Africa",
            "South Sudan",
            "Sudan",
            "Uganda",
            "Yemen"
           ],
           "locationmode": "ISO-3",
           "locations": [
            "AFG",
            "AGO",
            "BDI",
            "COL",
            "COG",
            "IRQ",
            "JOR",
            "LBR",
            "SOM",
            "ZAF",
            "SSD",
            "SDN",
            "UGA",
            "YEM"
           ],
           "name": "",
           "type": "choropleth",
           "z": {
            "bdata": "AwcCBAABAgEEAQEBAgM=",
            "dtype": "i1"
           }
          }
         ],
         "name": "2002"
        },
        {
         "data": [
          {
           "coloraxis": "coloraxis",
           "geo": "geo",
           "hovertemplate": "<b>%{hovertext}</b><br><br>year=2003<br>ISO=%{location}<br>total.killed=%{z}<extra></extra>",
           "hovertext": [
            "Afghanistan",
            "Angola",
            "Burundi",
            "Eritrea",
            "Iraq",
            "Kenya",
            "Liberia",
            "Philippines",
            "Senegal",
            "Somalia",
            "South Africa",
            "South Sudan",
            "Sudan",
            "Uganda"
           ],
           "locationmode": "ISO-3",
           "locations": [
            "AFG",
            "AGO",
            "BDI",
            "ERI",
            "IRQ",
            "KEN",
            "LBR",
            "PHL",
            "SEN",
            "SOM",
            "ZAF",
            "SSD",
            "SDN",
            "UGA"
           ],
           "name": "",
           "type": "choropleth",
           "z": {
            "bdata": "DQYBAh0BBAAABgABCAE=",
            "dtype": "i1"
           }
          }
         ],
         "name": "2003"
        },
        {
         "data": [
          {
           "coloraxis": "coloraxis",
           "geo": "geo",
           "hovertemplate": "<b>%{hovertext}</b><br><br>year=2004<br>ISO=%{location}<br>total.killed=%{z}<extra></extra>",
           "hovertext": [
            "Afghanistan",
            "Colombia",
            "Haiti",
            "Iraq",
            "Kenya",
            "Nigeria",
            "Pakistan",
            "Somalia",
            "Sudan",
            "Uganda"
           ],
           "locationmode": "ISO-3",
           "locations": [
            "AFG",
            "COL",
            "HTI",
            "IRQ",
            "KEN",
            "NGA",
            "PAK",
            "SOM",
            "SDN",
            "UGA"
           ],
           "name": "",
           "type": "choropleth",
           "z": {
            "bdata": "GgIACwEAAAIGAg==",
            "dtype": "i1"
           }
          }
         ],
         "name": "2004"
        },
        {
         "data": [
          {
           "coloraxis": "coloraxis",
           "geo": "geo",
           "hovertemplate": "<b>%{hovertext}</b><br><br>year=2005<br>ISO=%{location}<br>total.killed=%{z}<extra></extra>",
           "hovertext": [
            "Afghanistan",
            "Chad",
            "Colombia",
            "Guyana",
            "Haiti",
            "Indonesia",
            "Iraq",
            "Kenya",
            "Madagascar",
            "Malawi",
            "Nepal",
            "Somalia",
            "South Sudan",
            "Sudan",
            "Uganda",
            "Zimbabwe"
           ],
           "locationmode": "ISO-3",
           "locations": [
            "AFG",
            "TCD",
            "COL",
            "GUY",
            "HTI",
            "IDN",
            "IRQ",
            "KEN",
            "MDG",
            "MWI",
            "NPL",
            "SOM",
            "SSD",
            "SDN",
            "UGA",
            "ZWE"
           ],
           "name": "",
           "type": "choropleth",
           "z": {
            "bdata": "FAAAAAEABQMBAAAFAgsCAQ==",
            "dtype": "i1"
           }
          }
         ],
         "name": "2005"
        },
        {
         "data": [
          {
           "coloraxis": "coloraxis",
           "geo": "geo",
           "hovertemplate": "<b>%{hovertext}</b><br><br>year=2006<br>ISO=%{location}<br>total.killed=%{z}<extra></extra>",
           "hovertext": [
            "Afghanistan",
            "Central African Republic",
            "Chad",
            "Colombia",
            "El Salvador",
            "Eritrea",
            "Ethiopia",
            "Guatemala",
            "Haiti",
            "India",
            "Iraq",
            "Lesotho",
            "Malawi",
            "Senegal",
            "Somalia",
            "South Africa",
            "Sri Lanka",
            "Sudan"
           ],
           "locationmode": "ISO-3",
           "locations": [
            "AFG",
            "CAF",
            "TCD",
            "COL",
            "SLV",
            "ERI",
            "ETH",
            "GTM",
            "HTI",
            "IND",
            "IRQ",
            "LSO",
            "MWI",
            "SEN",
            "SOM",
            "ZAF",
            "LKA",
            "SDN"
           ],
           "name": "",
           "type": "choropleth",
           "z": {
            "bdata": "HgIBAAAAAAAAAQQBAAEFARgM",
            "dtype": "i1"
           }
          }
         ],
         "name": "2006"
        },
        {
         "data": [
          {
           "coloraxis": "coloraxis",
           "geo": "geo",
           "hovertemplate": "<b>%{hovertext}</b><br><br>year=2007<br>ISO=%{location}<br>total.killed=%{z}<extra></extra>",
           "hovertext": [
            "Afghanistan",
            "Algeria",
            "Bangladesh",
            "Burundi",
            "Central African Republic",
            "Chad",
            "Fiji",
            "Haiti",
            "Indonesia",
            "Iraq",
            "Kenya",
            "Lebanon",
            "Malawi",
            "Mali",
            "Pakistan",
            "Papua New Guinea",
            "Somalia",
            "Sri Lanka",
            "Sudan",
            "Tanzania",
            "Thailand",
            "Uganda",
            "Vietnam",
            "Yemen"
           ],
           "locationmode": "ISO-3",
           "locations": [
            "AFG",
            "DZA",
            "BGD",
            "BDI",
            "CAF",
            "TCD",
            "FJI",
            "HTI",
            "IDN",
            "IRQ",
            "KEN",
            "LBN",
            "MWI",
            "MLI",
            "PAK",
            "PNG",
            "SOM",
            "LKA",
            "SDN",
            "TZA",
            "THA",
            "UGA",
            "VNM",
            "YEM"
           ],
           "name": "",
           "type": "choropleth",
           "z": {
            "bdata": "FQgAAQICAAAABQECAQAEAAkQCwABBAAA",
            "dtype": "i1"
           }
          }
         ],
         "name": "2007"
        },
        {
         "data": [
          {
           "coloraxis": "coloraxis",
           "geo": "geo",
           "hovertemplate": "<b>%{hovertext}</b><br><br>year=2008<br>ISO=%{location}<br>total.killed=%{z}<extra></extra>",
           "hovertext": [
            "Afghanistan",
            "Burundi",
            "Cameroon",
            "Chad",
            "El Salvador",
            "Ethiopia",
            "Haiti",
            "Indonesia",
            "Kenya",
            "Malawi",
            "Mozambique",
            "Nepal",
            "Nicaragua",
            "Pakistan",
            "Philippines",
            "Sierra Leone",
            "Somalia",
            "Sri Lanka",
            "Sudan",
            "Tanzania",
            "Yemen"
           ],
           "locationmode": "ISO-3",
           "locations": [
            "AFG",
            "BDI",
            "CMR",
            "TCD",
            "SLV",
            "ETH",
            "HTI",
            "IDN",
            "KEN",
            "MWI",
            "MOZ",
            "NPL",
            "NIC",
            "PAK",
            "PHL",
            "SLE",
            "SOM",
            "LKA",
            "SDN",
            "TZA",
            "YEM"
           ],
           "name": "",
           "type": "choropleth",
           "z": {
            "bdata": "IAEABAEDAQABAAAAAAgBAC4DFAEA",
            "dtype": "i1"
           }
          }
         ],
         "name": "2008"
        },
        {
         "data": [
          {
           "coloraxis": "coloraxis",
           "geo": "geo",
           "hovertemplate": "<b>%{hovertext}</b><br><br>year=2009<br>ISO=%{location}<br>total.killed=%{z}<extra></extra>",
           "hovertext": [
            "Afghanistan",
            "Bangladesh",
            "Cambodia",
            "Central African Republic",
            "Chad",
            "Ethiopia",
            "Haiti",
            "Indonesia",
            "Iraq",
            "Kenya",
            "Liberia",
            "Mali",
            "Mauritania",
            "Mozambique",
            "Pakistan",
            "Philippines",
            "Somalia",
            "Sri Lanka",
            "Sudan",
            "Uganda",
            "Yemen",
            "Zambia"
           ],
           "locationmode": "ISO-3",
           "locations": [
            "AFG",
            "BGD",
            "KHM",
            "CAF",
            "TCD",
            "ETH",
            "HTI",
            "IDN",
            "IRQ",
            "KEN",
            "LBR",
            "MLI",
            "MRT",
            "MOZ",
            "PAK",
            "PHL",
            "SOM",
            "LKA",
            "SDN",
            "UGA",
            "YEM",
            "ZMB"
           ],
           "name": "",
           "type": "choropleth",
           "z": {
            "bdata": "GAEBBAEAAAABAAAAAQMSARMIBgAEAA==",
            "dtype": "i1"
           }
          }
         ],
         "name": "2009"
        },
        {
         "data": [
          {
           "coloraxis": "coloraxis",
           "geo": "geo",
           "hovertemplate": "<b>%{hovertext}</b><br><br>year=2010<br>ISO=%{location}<br>total.killed=%{z}<extra></extra>",
           "hovertext": [
            "Afghanistan",
            "Bangladesh",
            "Cameroon",
            "Chad",
            "Ethiopia",
            "Haiti",
            "Iraq",
            "Kenya",
            "Kyrgyzstan",
            "Madagascar",
            "Malawi",
            "Nicaragua",
            "Niger",
            "Pakistan",
            "Philippines",
            "Sierra Leone",
            "Somalia",
            "Sudan",
            "Uganda",
            "Yemen"
           ],
           "locationmode": "ISO-3",
           "locations": [
            "AFG",
            "BGD",
            "CMR",
            "TCD",
            "ETH",
            "HTI",
            "IRQ",
            "KEN",
            "KGZ",
            "MDG",
            "MWI",
            "NIC",
            "NER",
            "PAK",
            "PHL",
            "SLE",
            "SOM",
            "SDN",
            "UGA",
            "YEM"
           ],
           "name": "",
           "type": "choropleth",
           "z": {
            "bdata": "IwAAAAAEBwAAAAAAAQ4BAAUEAQA=",
            "dtype": "i1"
           }
          }
         ],
         "name": "2010"
        },
        {
         "data": [
          {
           "coloraxis": "coloraxis",
           "geo": "geo",
           "hovertemplate": "<b>%{hovertext}</b><br><br>year=2011<br>ISO=%{location}<br>total.killed=%{z}<extra></extra>",
           "hovertext": [
            "Afghanistan",
            "Burundi",
            "Central African Republic",
            "Chad",
            "Colombia",
            "El Salvador",
            "Ethiopia",
            "Haiti",
            "Honduras",
            "Kenya",
            "Myanmar",
            "Niger",
            "Nigeria",
            "Pakistan",
            "Papua New Guinea",
            "Philippines",
            "Somalia",
            "South Sudan",
            "Sudan",
            "Syrian Arab Republic",
            "Tanzania",
            "Uganda",
            "Western Sahara",
            "Yemen"
           ],
           "locationmode": "ISO-3",
           "locations": [
            "AFG",
            "BDI",
            "CAF",
            "TCD",
            "COL",
            "SLV",
            "ETH",
            "HTI",
            "HND",
            "KEN",
            "MMR",
            "NER",
            "NGA",
            "PAK",
            "PNG",
            "PHL",
            "SOM",
            "SSD",
            "SDN",
            "SYR",
            "TZA",
            "UGA",
            "ESH",
            "YEM"
           ],
           "name": "",
           "type": "choropleth",
           "z": {
            "bdata": "HwEBAAABAQAAAQABCQUAAA0JBgABAAAA",
            "dtype": "i1"
           }
          }
         ],
         "name": "2011"
        },
        {
         "data": [
          {
           "coloraxis": "coloraxis",
           "geo": "geo",
           "hovertemplate": "<b>%{hovertext}</b><br><br>year=2012<br>ISO=%{location}<br>total.killed=%{z}<extra></extra>",
           "hovertext": [
            "Afghanistan",
            "Cameroon",
            "Chad",
            "Ethiopia",
            "Haiti",
            "Kenya",
            "Niger",
            "Pakistan",
            "Philippines",
            "Senegal",
            "Somalia",
            "South Sudan",
            "Sri Lanka",
            "Sudan",
            "Syrian Arab Republic",
            "Tunisia",
            "Yemen"
           ],
           "locationmode": "ISO-3",
           "locations": [
            "AFG",
            "CMR",
            "TCD",
            "ETH",
            "HTI",
            "KEN",
            "NER",
            "PAK",
            "PHL",
            "SEN",
            "SOM",
            "SSD",
            "LKA",
            "SDN",
            "SYR",
            "TUN",
            "YEM"
           ],
           "name": "",
           "type": "choropleth",
           "z": {
            "bdata": "CwABAAIDAQ0BAAgJAAETAAE=",
            "dtype": "i1"
           }
          }
         ],
         "name": "2012"
        },
        {
         "data": [
          {
           "coloraxis": "coloraxis",
           "geo": "geo",
           "hovertemplate": "<b>%{hovertext}</b><br><br>year=2013<br>ISO=%{location}<br>total.killed=%{z}<extra></extra>",
           "hovertext": [
            "Afghanistan",
            "Argentina",
            "Armenia",
            "Central African Republic",
            "El Salvador",
            "Ethiopia",
            "Haiti",
            "India",
            "Indonesia",
            "Iraq",
            "Jordan",
            "Kenya",
            "Kyrgyzstan",
            "Mali",
            "Mauritania",
            "Myanmar",
            "Nigeria",
            "Pakistan",
            "Philippines",
            "Senegal",
            "Somalia",
            "South Sudan",
            "Sudan",
            "Syrian Arab Republic",
            "Uganda",
            "Yemen"
           ],
           "locationmode": "ISO-3",
           "locations": [
            "AFG",
            "ARG",
            "ARM",
            "CAF",
            "SLV",
            "ETH",
            "HTI",
            "IND",
            "IDN",
            "IRQ",
            "JOR",
            "KEN",
            "KGZ",
            "MLI",
            "MRT",
            "MMR",
            "NGA",
            "PAK",
            "PHL",
            "SEN",
            "SOM",
            "SSD",
            "SDN",
            "SYR",
            "UGA",
            "YEM"
           ],
           "name": "",
           "type": "choropleth",
           "z": {
            "bdata": "MAAABAEBAQAAAAAEAAEAAAgWAAAPDwcZAQM=",
            "dtype": "i1"
           }
          }
         ],
         "name": "2013"
        },
        {
         "data": [
          {
           "coloraxis": "coloraxis",
           "geo": "geo",
           "hovertemplate": "<b>%{hovertext}</b><br><br>year=2014<br>ISO=%{location}<br>total.killed=%{z}<extra></extra>",
           "hovertext": [
            "Afghanistan",
            "Benin",
            "Cambodia",
            "Cameroon",
            "Central African Republic",
            "Chad",
            "Ethiopia",
            "Guinea",
            "Iraq",
            "Israel",
            "Kenya",
            "Lebanon",
            "Mali",
            "Myanmar",
            "Nepal",
            "Pakistan",
            "Philippines",
            "Somalia",
            "South Sudan",
            "Sudan",
            "Syrian Arab Republic",
            "Tanzania",
            "Uganda",
            "Ukraine",
            "Yemen"
           ],
           "locationmode": "ISO-3",
           "locations": [
            "AFG",
            "BEN",
            "KHM",
            "CMR",
            "CAF",
            "TCD",
            "ETH",
            "GIN",
            "IRQ",
            "ISR",
            "KEN",
            "LBN",
            "MLI",
            "MMR",
            "NPL",
            "PAK",
            "PHL",
            "SOM",
            "SSD",
            "SDN",
            "SYR",
            "TZA",
            "UGA",
            "UKR",
            "YEM"
           ],
           "name": "",
           "type": "choropleth",
           "z": {
            "bdata": "KgABAAoAAAEAAQABAwAACAIJCwISAAEBAg==",
            "dtype": "i1"
           }
          }
         ],
         "name": "2014"
        },
        {
         "data": [
          {
           "coloraxis": "coloraxis",
           "geo": "geo",
           "hovertemplate": "<b>%{hovertext}</b><br><br>year=2015<br>ISO=%{location}<br>total.killed=%{z}<extra></extra>",
           "hovertext": [
            "Afghanistan",
            "Bangladesh",
            "Burundi",
            "Cameroon",
            "Central African Republic",
            "Ethiopia",
            "Guatemala",
            "Guinea",
            "Haiti",
            "Iraq",
            "Kenya",
            "Mali",
            "Myanmar",
            "Pakistan",
            "Sierra Leone",
            "Somalia",
            "South Africa",
            "South Sudan",
            "Sudan",
            "Syrian Arab Republic",
            "Uganda",
            "Yemen",
            "Zambia"
           ],
           "locationmode": "ISO-3",
           "locations": [
            "AFG",
            "BGD",
            "BDI",
            "CMR",
            "CAF",
            "ETH",
            "GTM",
            "GIN",
            "HTI",
            "IRQ",
            "KEN",
            "MLI",
            "MMR",
            "PAK",
            "SLE",
            "SOM",
            "ZAF",
            "SSD",
            "SDN",
            "SYR",
            "UGA",
            "YEM",
            "ZMB"
           ],
           "name": "",
           "type": "choropleth",
           "z": {
            "bdata": "KQEDAAYAAQABAAACAQEACwAPBQkADAA=",
            "dtype": "i1"
           }
          }
         ],
         "name": "2015"
        },
        {
         "data": [
          {
           "coloraxis": "coloraxis",
           "geo": "geo",
           "hovertemplate": "<b>%{hovertext}</b><br><br>year=2016<br>ISO=%{location}<br>total.killed=%{z}<extra></extra>",
           "hovertext": [
            "Afghanistan",
            "Angola",
            "Bangladesh",
            "Burkina Faso",
            "Central African Republic",
            "El Salvador",
            "Haiti",
            "Honduras",
            "Iraq",
            "Kenya",
            "Mali",
            "Nicaragua",
            "Niger",
            "Nigeria",
            "Pakistan",
            "Somalia",
            "South Sudan",
            "Sudan",
            "Syrian Arab Republic",
            "Yemen"
           ],
           "locationmode": "ISO-3",
           "locations": [
            "AFG",
            "AGO",
            "BGD",
            "BFA",
            "CAF",
            "SLV",
            "HTI",
            "HND",
            "IRQ",
            "KEN",
            "MLI",
            "NIC",
            "NER",
            "NGA",
            "PAK",
            "SOM",
            "SSD",
            "SDN",
            "SYR",
            "YEM"
           ],
           "name": "",
           "type": "choropleth",
           "z": {
            "bdata": "DgABAAUBAAEAAgIAAAABChoAJQY=",
            "dtype": "i1"
           }
          }
         ],
         "name": "2016"
        },
        {
         "data": [
          {
           "coloraxis": "coloraxis",
           "geo": "geo",
           "hovertemplate": "<b>%{hovertext}</b><br><br>year=2017<br>ISO=%{location}<br>total.killed=%{z}<extra></extra>",
           "hovertext": [
            "Afghanistan",
            "Central African Republic",
            "Chad",
            "Haiti",
            "Iraq",
            "Kenya",
            "Madagascar",
            "Mali",
            "Mauritius",
            "Mexico",
            "Myanmar",
            "Nigeria",
            "Pakistan",
            "Sierra Leone",
            "Somalia",
            "South Sudan",
            "Sudan",
            "Syrian Arab Republic",
            "Uganda",
            "Yemen"
           ],
           "locationmode": "ISO-3",
           "locations": [
            "AFG",
            "CAF",
            "TCD",
            "HTI",
            "IRQ",
            "KEN",
            "MDG",
            "MLI",
            "MUS",
            "MEX",
            "MMR",
            "NGA",
            "PAK",
            "SLE",
            "SOM",
            "SSD",
            "SDN",
            "SYR",
            "UGA",
            "YEM"
           ],
           "name": "",
           "type": "choropleth",
           "z": {
            "bdata": "DxEBAAABAAQAAgALAgAJIQErAAE=",
            "dtype": "i1"
           }
          }
         ],
         "name": "2017"
        },
        {
         "data": [
          {
           "coloraxis": "coloraxis",
           "geo": "geo",
           "hovertemplate": "<b>%{hovertext}</b><br><br>year=2018<br>ISO=%{location}<br>total.killed=%{z}<extra></extra>",
           "hovertext": [
            "Afghanistan",
            "Algeria",
            "Azerbaijan",
            "Bangladesh",
            "Cameroon",
            "Central African Republic",
            "El Salvador",
            "Ethiopia",
            "Guatemala",
            "Guinea",
            "Haiti",
            "Iraq",
            "Kenya",
            "Mali",
            "Mexico",
            "Myanmar",
            "Nicaragua",
            "Niger",
            "Nigeria",
            "Pakistan",
            "Papua New Guinea",
            "Philippines",
            "Saudi Arabia",
            "Sierra Leone",
            "Somalia",
            "South Sudan",
            "Sri Lanka",
            "Sudan",
            "Syrian Arab Republic",
            "Tanzania",
            "Tunisia",
            "Uganda",
            "Yemen"
           ],
           "locationmode": "ISO-3",
           "locations": [
            "AFG",
            "DZA",
            "AZE",
            "BGD",
            "CMR",
            "CAF",
            "SLV",
            "ETH",
            "GTM",
            "GIN",
            "HTI",
            "IRQ",
            "KEN",
            "MLI",
            "MEX",
            "MMR",
            "NIC",
            "NER",
            "NGA",
            "PAK",
            "PNG",
            "PHL",
            "SAU",
            "SLE",
            "SOM",
            "SSD",
            "LKA",
            "SDN",
            "SYR",
            "TZA",
            "TUN",
            "UGA",
            "YEM"
           ],
           "name": "",
           "type": "choropleth",
           "z": {
            "bdata": "DgADAgAKAAIBAAAAAAABAQAABQEAAAAAAxAAAzgAAAAC",
            "dtype": "i1"
           }
          }
         ],
         "name": "2018"
        },
        {
         "data": [
          {
           "coloraxis": "coloraxis",
           "geo": "geo",
           "hovertemplate": "<b>%{hovertext}</b><br><br>year=2019<br>ISO=%{location}<br>total.killed=%{z}<extra></extra>",
           "hovertext": [
            "Afghanistan",
            "Bangladesh",
            "Bolivia",
            "Burkina Faso",
            "Burundi",
            "Cambodia",
            "Cameroon",
            "Central African Republic",
            "Chad",
            "Ecuador",
            "Ethiopia",
            "Guatemala",
            "Haiti",
            "Iraq",
            "Jordan",
            "Kenya",
            "Malawi",
            "Mali",
            "Mexico",
            "Mozambique",
            "Myanmar",
            "Niger",
            "Nigeria",
            "Pakistan",
            "Papua New Guinea",
            "Philippines",
            "Senegal",
            "Somalia",
            "South Sudan",
            "Sri Lanka",
            "Sudan",
            "Syrian Arab Republic",
            "Tanzania",
            "Tunisia",
            "Uganda",
            "Ukraine",
            "Yemen"
           ],
           "locationmode": "ISO-3",
           "locations": [
            "AFG",
            "BGD",
            "BOL",
            "BFA",
            "BDI",
            "KHM",
            "CMR",
            "CAF",
            "TCD",
            "ECU",
            "ETH",
            "GTM",
            "HTI",
            "IRQ",
            "JOR",
            "KEN",
            "MWI",
            "MLI",
            "MEX",
            "MOZ",
            "MMR",
            "NER",
            "NGA",
            "PAK",
            "PNG",
            "PHL",
            "SEN",
            "SOM",
            "SSD",
            "LKA",
            "SDN",
            "SYR",
            "TZA",
            "TUN",
            "UGA",
            "UKR",
            "YEM"
           ],
           "name": "",
           "type": "choropleth",
           "z": {
            "bdata": "EgEAAAAAAQYCAAUAAQAAAQAAAQABAg4CAAEABQYAASQAAAIABQ==",
            "dtype": "i1"
           }
          }
         ],
         "name": "2019"
        },
        {
         "data": [
          {
           "coloraxis": "coloraxis",
           "geo": "geo",
           "hovertemplate": "<b>%{hovertext}</b><br><br>year=2020<br>ISO=%{location}<br>total.killed=%{z}<extra></extra>",
           "hovertext": [
            "Afghanistan",
            "Bangladesh",
            "Botswana",
            "Burkina Faso",
            "Burundi",
            "Cameroon",
            "Central African Republic",
            "Chile",
            "Colombia",
            "Congo",
            "Ethiopia",
            "Fiji",
            "Haiti",
            "India",
            "Iraq",
            "Jordan",
            "Kenya",
            "Kyrgyzstan",
            "Madagascar",
            "Mali",
            "Mexico",
            "Mozambique",
            "Myanmar",
            "Niger",
            "Nigeria",
            "Pakistan",
            "Papua New Guinea",
            "Peru",
            "Somalia",
            "South Sudan",
            "Sudan",
            "Syrian Arab Republic",
            "Uganda",
            "Uruguay",
            "Yemen",
            "Zambia",
            "Zimbabwe"
           ],
           "locationmode": "ISO-3",
           "locations": [
            "AFG",
            "BGD",
            "BWA",
            "BFA",
            "BDI",
            "CMR",
            "CAF",
            "CHL",
            "COL",
            "COG",
            "ETH",
            "FJI",
            "HTI",
            "IND",
            "IRQ",
            "JOR",
            "KEN",
            "KGZ",
            "MDG",
            "MLI",
            "MEX",
            "MOZ",
            "MMR",
            "NER",
            "NGA",
            "PAK",
            "PNG",
            "PER",
            "SOM",
            "SSD",
            "SDN",
            "SYR",
            "UGA",
            "URY",
            "YEM",
            "ZMB",
            "ZWE"
           ],
           "name": "",
           "type": "choropleth",
           "z": {
            "bdata": "AgEAAwACAwAAAA4AAQABAAEAAAEAAAEHBgIAAAsYARgBAAcAAA==",
            "dtype": "i1"
           }
          }
         ],
         "name": "2020"
        },
        {
         "data": [
          {
           "coloraxis": "coloraxis",
           "geo": "geo",
           "hovertemplate": "<b>%{hovertext}</b><br><br>year=2021<br>ISO=%{location}<br>total.killed=%{z}<extra></extra>",
           "hovertext": [
            "Afghanistan",
            "Bangladesh",
            "Bolivia",
            "Burkina Faso",
            "Cameroon",
            "Central African Republic",
            "Chad",
            "Colombia",
            "El Salvador",
            "Ethiopia",
            "Guinea-Bissau",
            "Haiti",
            "Kenya",
            "Lesotho",
            "Liberia",
            "Madagascar",
            "Mali",
            "Myanmar",
            "Namibia",
            "Niger",
            "Nigeria",
            "Pakistan",
            "Sierra Leone",
            "Somalia",
            "South Sudan",
            "Sri Lanka",
            "Sudan",
            "Syrian Arab Republic",
            "Uganda",
            "Yemen"
           ],
           "locationmode": "ISO-3",
           "locations": [
            "AFG",
            "BGD",
            "BOL",
            "BFA",
            "CMR",
            "CAF",
            "TCD",
            "COL",
            "SLV",
            "ETH",
            "GNB",
            "HTI",
            "KEN",
            "LSO",
            "LBR",
            "MDG",
            "MLI",
            "MMR",
            "NAM",
            "NER",
            "NGA",
            "PAK",
            "SLE",
            "SOM",
            "SSD",
            "LKA",
            "SDN",
            "SYR",
            "UGA",
            "YEM"
           ],
           "name": "",
           "type": "choropleth",
           "z": {
            "bdata": "FQAAAAMIAAAAFAABAAEAAQMOAAAFBAAFHQADDgAD",
            "dtype": "i1"
           }
          }
         ],
         "name": "2021"
        },
        {
         "data": [
          {
           "coloraxis": "coloraxis",
           "geo": "geo",
           "hovertemplate": "<b>%{hovertext}</b><br><br>year=2022<br>ISO=%{location}<br>total.killed=%{z}<extra></extra>",
           "hovertext": [
            "Afghanistan",
            "Bangladesh",
            "Burkina Faso",
            "Cameroon",
            "Central African Republic",
            "Colombia",
            "Dominican Republic",
            "Egypt",
            "Ethiopia",
            "Haiti",
            "Honduras",
            "Iran, Islamic Republic of",
            "Iraq",
            "Kenya",
            "Lebanon",
            "Mali",
            "Mozambique",
            "Myanmar",
            "Niger",
            "Nigeria",
            "Pakistan",
            "Papua New Guinea",
            "Poland",
            "Somalia",
            "South Sudan",
            "Sudan",
            "Syrian Arab Republic",
            "Tanzania",
            "Tunisia",
            "Uganda",
            "Ukraine",
            "Venezuela",
            "Yemen"
           ],
           "locationmode": "ISO-3",
           "locations": [
            "AFG",
            "BGD",
            "BFA",
            "CMR",
            "CAF",
            "COL",
            "DOM",
            "EGY",
            "ETH",
            "HTI",
            "HND",
            "IRN",
            "IRQ",
            "KEN",
            "LBN",
            "MLI",
            "MOZ",
            "MMR",
            "NER",
            "NGA",
            "PAK",
            "PNG",
            "POL",
            "SOM",
            "SSD",
            "SDN",
            "SYR",
            "TZA",
            "TUN",
            "UGA",
            "UKR",
            "VEN",
            "YEM"
           ],
           "name": "",
           "type": "choropleth",
           "z": {
            "bdata": "CQICAAIBAAACAQAAAQEAAwEUAQEAAAAOFwoGAAABCgAA",
            "dtype": "i1"
           }
          }
         ],
         "name": "2022"
        },
        {
         "data": [
          {
           "coloraxis": "coloraxis",
           "geo": "geo",
           "hovertemplate": "<b>%{hovertext}</b><br><br>year=2023<br>ISO=%{location}<br>total.killed=%{z}<extra></extra>",
           "hovertext": [
            "Afghanistan",
            "Bangladesh",
            "Burkina Faso",
            "Central African Republic",
            "Colombia",
            "Ethiopia",
            "Guatemala",
            "Guinea-Bissau",
            "Haiti",
            "India",
            "Israel",
            "Kenya",
            "Lebanon",
            "Lesotho",
            "Mali",
            "Mozambique",
            "Myanmar",
            "Niger",
            "Nigeria",
            "Pakistan",
            "Rwanda",
            "Sierra Leone",
            "Somalia",
            "South Africa",
            "South Sudan",
            "Sri Lanka",
            "Sudan",
            "Syrian Arab Republic",
            "Tanzania",
            "Ukraine",
            "Yemen"
           ],
           "locationmode": "ISO-3",
           "locations": [
            "AFG",
            "BGD",
            "BFA",
            "CAF",
            "COL",
            "ETH",
            "GTM",
            "GNB",
            "HTI",
            "IND",
            "ISR",
            "KEN",
            "LBN",
            "LSO",
            "MLI",
            "MOZ",
            "MMR",
            "NER",
            "NGA",
            "PAK",
            "RWA",
            "SLE",
            "SOM",
            "ZAF",
            "SSD",
            "LKA",
            "SDN",
            "SYR",
            "TZA",
            "UKR",
            "YEM"
           ],
           "name": "",
           "type": "choropleth",
           "z": {
            "bdata": "AQIDAgAGAAAAAAcAAAEDAQQBAgAAAAUAIgAZBwAGAw==",
            "dtype": "i1"
           }
          }
         ],
         "name": "2023"
        },
        {
         "data": [
          {
           "coloraxis": "coloraxis",
           "geo": "geo",
           "hovertemplate": "<b>%{hovertext}</b><br><br>year=2024<br>ISO=%{location}<br>total.killed=%{z}<extra></extra>",
           "hovertext": [
            "Afghanistan",
            "Angola",
            "Burkina Faso",
            "Burundi",
            "Cameroon",
            "Central African Republic",
            "Chad",
            "Chile",
            "Colombia",
            "Ethiopia",
            "Guinea",
            "Haiti",
            "Iraq",
            "Jamaica",
            "Kenya",
            "Lebanon",
            "Mali",
            "Mozambique",
            "Myanmar",
            "Niger",
            "Nigeria",
            "Pakistan",
            "Poland",
            "Somalia",
            "South Sudan",
            "Sudan",
            "Syrian Arab Republic",
            "Ukraine",
            "Yemen"
           ],
           "locationmode": "ISO-3",
           "locations": [
            "AFG",
            "AGO",
            "BFA",
            "BDI",
            "CMR",
            "CAF",
            "TCD",
            "CHL",
            "COL",
            "ETH",
            "GIN",
            "HTI",
            "IRQ",
            "JAM",
            "KEN",
            "LBN",
            "MLI",
            "MOZ",
            "MMR",
            "NER",
            "NGA",
            "PAK",
            "POL",
            "SOM",
            "SSD",
            "SDN",
            "SYR",
            "UKR",
            "YEM"
           ],
           "name": "",
           "type": "choropleth",
           "z": {
            "bdata": "AAAFAAEAAQABCAEBAQAADwICCAENAAAJCTYOCwI=",
            "dtype": "i1"
           }
          }
         ],
         "name": "2024"
        },
        {
         "data": [
          {
           "coloraxis": "coloraxis",
           "geo": "geo",
           "hovertemplate": "<b>%{hovertext}</b><br><br>year=2025<br>ISO=%{location}<br>total.killed=%{z}<extra></extra>",
           "hovertext": [
            "Afghanistan",
            "Mali",
            "Myanmar",
            "Nigeria",
            "Pakistan",
            "South Sudan",
            "Sudan",
            "Syrian Arab Republic",
            "Ukraine",
            "Yemen"
           ],
           "locationmode": "ISO-3",
           "locations": [
            "AFG",
            "MLI",
            "MMR",
            "NGA",
            "PAK",
            "SSD",
            "SDN",
            "SYR",
            "UKR",
            "YEM"
           ],
           "name": "",
           "type": "choropleth",
           "z": {
            "bdata": "AAIBAgADBwIAAQ==",
            "dtype": "i1"
           }
          }
         ],
         "name": "2025"
        }
       ],
       "layout": {
        "coloraxis": {
         "colorbar": {
          "title": {
           "text": "Total Killed"
          }
         },
         "colorscale": [
          [
           0,
           "rgb(255,245,240)"
          ],
          [
           0.125,
           "rgb(254,224,210)"
          ],
          [
           0.25,
           "rgb(252,187,161)"
          ],
          [
           0.375,
           "rgb(252,146,114)"
          ],
          [
           0.5,
           "rgb(251,106,74)"
          ],
          [
           0.625,
           "rgb(239,59,44)"
          ],
          [
           0.75,
           "rgb(203,24,29)"
          ],
          [
           0.875,
           "rgb(165,15,21)"
          ],
          [
           1,
           "rgb(103,0,13)"
          ]
         ]
        },
        "geo": {
         "center": {},
         "domain": {
          "x": [
           0,
           1
          ],
          "y": [
           0,
           1
          ]
         },
         "showcoastlines": true,
         "showframe": false
        },
        "height": 600,
        "legend": {
         "tracegroupgap": 0
        },
        "sliders": [
         {
          "active": 0,
          "currentvalue": {
           "prefix": "year="
          },
          "len": 0.9,
          "pad": {
           "b": 10,
           "t": 60
          },
          "steps": [
           {
            "args": [
             [
              "1997"
             ],
             {
              "frame": {
               "duration": 0,
               "redraw": true
              },
              "fromcurrent": true,
              "mode": "immediate",
              "transition": {
               "duration": 0,
               "easing": "linear"
              }
             }
            ],
            "label": "1997",
            "method": "animate"
           },
           {
            "args": [
             [
              "1998"
             ],
             {
              "frame": {
               "duration": 0,
               "redraw": true
              },
              "fromcurrent": true,
              "mode": "immediate",
              "transition": {
               "duration": 0,
               "easing": "linear"
              }
             }
            ],
            "label": "1998",
            "method": "animate"
           },
           {
            "args": [
             [
              "1999"
             ],
             {
              "frame": {
               "duration": 0,
               "redraw": true
              },
              "fromcurrent": true,
              "mode": "immediate",
              "transition": {
               "duration": 0,
               "easing": "linear"
              }
             }
            ],
            "label": "1999",
            "method": "animate"
           },
           {
            "args": [
             [
              "2000"
             ],
             {
              "frame": {
               "duration": 0,
               "redraw": true
              },
              "fromcurrent": true,
              "mode": "immediate",
              "transition": {
               "duration": 0,
               "easing": "linear"
              }
             }
            ],
            "label": "2000",
            "method": "animate"
           },
           {
            "args": [
             [
              "2001"
             ],
             {
              "frame": {
               "duration": 0,
               "redraw": true
              },
              "fromcurrent": true,
              "mode": "immediate",
              "transition": {
               "duration": 0,
               "easing": "linear"
              }
             }
            ],
            "label": "2001",
            "method": "animate"
           },
           {
            "args": [
             [
              "2002"
             ],
             {
              "frame": {
               "duration": 0,
               "redraw": true
              },
              "fromcurrent": true,
              "mode": "immediate",
              "transition": {
               "duration": 0,
               "easing": "linear"
              }
             }
            ],
            "label": "2002",
            "method": "animate"
           },
           {
            "args": [
             [
              "2003"
             ],
             {
              "frame": {
               "duration": 0,
               "redraw": true
              },
              "fromcurrent": true,
              "mode": "immediate",
              "transition": {
               "duration": 0,
               "easing": "linear"
              }
             }
            ],
            "label": "2003",
            "method": "animate"
           },
           {
            "args": [
             [
              "2004"
             ],
             {
              "frame": {
               "duration": 0,
               "redraw": true
              },
              "fromcurrent": true,
              "mode": "immediate",
              "transition": {
               "duration": 0,
               "easing": "linear"
              }
             }
            ],
            "label": "2004",
            "method": "animate"
           },
           {
            "args": [
             [
              "2005"
             ],
             {
              "frame": {
               "duration": 0,
               "redraw": true
              },
              "fromcurrent": true,
              "mode": "immediate",
              "transition": {
               "duration": 0,
               "easing": "linear"
              }
             }
            ],
            "label": "2005",
            "method": "animate"
           },
           {
            "args": [
             [
              "2006"
             ],
             {
              "frame": {
               "duration": 0,
               "redraw": true
              },
              "fromcurrent": true,
              "mode": "immediate",
              "transition": {
               "duration": 0,
               "easing": "linear"
              }
             }
            ],
            "label": "2006",
            "method": "animate"
           },
           {
            "args": [
             [
              "2007"
             ],
             {
              "frame": {
               "duration": 0,
               "redraw": true
              },
              "fromcurrent": true,
              "mode": "immediate",
              "transition": {
               "duration": 0,
               "easing": "linear"
              }
             }
            ],
            "label": "2007",
            "method": "animate"
           },
           {
            "args": [
             [
              "2008"
             ],
             {
              "frame": {
               "duration": 0,
               "redraw": true
              },
              "fromcurrent": true,
              "mode": "immediate",
              "transition": {
               "duration": 0,
               "easing": "linear"
              }
             }
            ],
            "label": "2008",
            "method": "animate"
           },
           {
            "args": [
             [
              "2009"
             ],
             {
              "frame": {
               "duration": 0,
               "redraw": true
              },
              "fromcurrent": true,
              "mode": "immediate",
              "transition": {
               "duration": 0,
               "easing": "linear"
              }
             }
            ],
            "label": "2009",
            "method": "animate"
           },
           {
            "args": [
             [
              "2010"
             ],
             {
              "frame": {
               "duration": 0,
               "redraw": true
              },
              "fromcurrent": true,
              "mode": "immediate",
              "transition": {
               "duration": 0,
               "easing": "linear"
              }
             }
            ],
            "label": "2010",
            "method": "animate"
           },
           {
            "args": [
             [
              "2011"
             ],
             {
              "frame": {
               "duration": 0,
               "redraw": true
              },
              "fromcurrent": true,
              "mode": "immediate",
              "transition": {
               "duration": 0,
               "easing": "linear"
              }
             }
            ],
            "label": "2011",
            "method": "animate"
           },
           {
            "args": [
             [
              "2012"
             ],
             {
              "frame": {
               "duration": 0,
               "redraw": true
              },
              "fromcurrent": true,
              "mode": "immediate",
              "transition": {
               "duration": 0,
               "easing": "linear"
              }
             }
            ],
            "label": "2012",
            "method": "animate"
           },
           {
            "args": [
             [
              "2013"
             ],
             {
              "frame": {
               "duration": 0,
               "redraw": true
              },
              "fromcurrent": true,
              "mode": "immediate",
              "transition": {
               "duration": 0,
               "easing": "linear"
              }
             }
            ],
            "label": "2013",
            "method": "animate"
           },
           {
            "args": [
             [
              "2014"
             ],
             {
              "frame": {
               "duration": 0,
               "redraw": true
              },
              "fromcurrent": true,
              "mode": "immediate",
              "transition": {
               "duration": 0,
               "easing": "linear"
              }
             }
            ],
            "label": "2014",
            "method": "animate"
           },
           {
            "args": [
             [
              "2015"
             ],
             {
              "frame": {
               "duration": 0,
               "redraw": true
              },
              "fromcurrent": true,
              "mode": "immediate",
              "transition": {
               "duration": 0,
               "easing": "linear"
              }
             }
            ],
            "label": "2015",
            "method": "animate"
           },
           {
            "args": [
             [
              "2016"
             ],
             {
              "frame": {
               "duration": 0,
               "redraw": true
              },
              "fromcurrent": true,
              "mode": "immediate",
              "transition": {
               "duration": 0,
               "easing": "linear"
              }
             }
            ],
            "label": "2016",
            "method": "animate"
           },
           {
            "args": [
             [
              "2017"
             ],
             {
              "frame": {
               "duration": 0,
               "redraw": true
              },
              "fromcurrent": true,
              "mode": "immediate",
              "transition": {
               "duration": 0,
               "easing": "linear"
              }
             }
            ],
            "label": "2017",
            "method": "animate"
           },
           {
            "args": [
             [
              "2018"
             ],
             {
              "frame": {
               "duration": 0,
               "redraw": true
              },
              "fromcurrent": true,
              "mode": "immediate",
              "transition": {
               "duration": 0,
               "easing": "linear"
              }
             }
            ],
            "label": "2018",
            "method": "animate"
           },
           {
            "args": [
             [
              "2019"
             ],
             {
              "frame": {
               "duration": 0,
               "redraw": true
              },
              "fromcurrent": true,
              "mode": "immediate",
              "transition": {
               "duration": 0,
               "easing": "linear"
              }
             }
            ],
            "label": "2019",
            "method": "animate"
           },
           {
            "args": [
             [
              "2020"
             ],
             {
              "frame": {
               "duration": 0,
               "redraw": true
              },
              "fromcurrent": true,
              "mode": "immediate",
              "transition": {
               "duration": 0,
               "easing": "linear"
              }
             }
            ],
            "label": "2020",
            "method": "animate"
           },
           {
            "args": [
             [
              "2021"
             ],
             {
              "frame": {
               "duration": 0,
               "redraw": true
              },
              "fromcurrent": true,
              "mode": "immediate",
              "transition": {
               "duration": 0,
               "easing": "linear"
              }
             }
            ],
            "label": "2021",
            "method": "animate"
           },
           {
            "args": [
             [
              "2022"
             ],
             {
              "frame": {
               "duration": 0,
               "redraw": true
              },
              "fromcurrent": true,
              "mode": "immediate",
              "transition": {
               "duration": 0,
               "easing": "linear"
              }
             }
            ],
            "label": "2022",
            "method": "animate"
           },
           {
            "args": [
             [
              "2023"
             ],
             {
              "frame": {
               "duration": 0,
               "redraw": true
              },
              "fromcurrent": true,
              "mode": "immediate",
              "transition": {
               "duration": 0,
               "easing": "linear"
              }
             }
            ],
            "label": "2023",
            "method": "animate"
           },
           {
            "args": [
             [
              "2024"
             ],
             {
              "frame": {
               "duration": 0,
               "redraw": true
              },
              "fromcurrent": true,
              "mode": "immediate",
              "transition": {
               "duration": 0,
               "easing": "linear"
              }
             }
            ],
            "label": "2024",
            "method": "animate"
           },
           {
            "args": [
             [
              "2025"
             ],
             {
              "frame": {
               "duration": 0,
               "redraw": true
              },
              "fromcurrent": true,
              "mode": "immediate",
              "transition": {
               "duration": 0,
               "easing": "linear"
              }
             }
            ],
            "label": "2025",
            "method": "animate"
           }
          ],
          "x": 0.1,
          "xanchor": "left",
          "y": 0,
          "yanchor": "top"
         }
        ],
        "template": {
         "data": {
          "bar": [
           {
            "error_x": {
             "color": "#2a3f5f"
            },
            "error_y": {
             "color": "#2a3f5f"
            },
            "marker": {
             "line": {
              "color": "white",
              "width": 0.5
             },
             "pattern": {
              "fillmode": "overlay",
              "size": 10,
              "solidity": 0.2
             }
            },
            "type": "bar"
           }
          ],
          "barpolar": [
           {
            "marker": {
             "line": {
              "color": "white",
              "width": 0.5
             },
             "pattern": {
              "fillmode": "overlay",
              "size": 10,
              "solidity": 0.2
             }
            },
            "type": "barpolar"
           }
          ],
          "carpet": [
           {
            "aaxis": {
             "endlinecolor": "#2a3f5f",
             "gridcolor": "#C8D4E3",
             "linecolor": "#C8D4E3",
             "minorgridcolor": "#C8D4E3",
             "startlinecolor": "#2a3f5f"
            },
            "baxis": {
             "endlinecolor": "#2a3f5f",
             "gridcolor": "#C8D4E3",
             "linecolor": "#C8D4E3",
             "minorgridcolor": "#C8D4E3",
             "startlinecolor": "#2a3f5f"
            },
            "type": "carpet"
           }
          ],
          "choropleth": [
           {
            "colorbar": {
             "outlinewidth": 0,
             "ticks": ""
            },
            "type": "choropleth"
           }
          ],
          "contour": [
           {
            "colorbar": {
             "outlinewidth": 0,
             "ticks": ""
            },
            "colorscale": [
             [
              0,
              "#0d0887"
             ],
             [
              0.1111111111111111,
              "#46039f"
             ],
             [
              0.2222222222222222,
              "#7201a8"
             ],
             [
              0.3333333333333333,
              "#9c179e"
             ],
             [
              0.4444444444444444,
              "#bd3786"
             ],
             [
              0.5555555555555556,
              "#d8576b"
             ],
             [
              0.6666666666666666,
              "#ed7953"
             ],
             [
              0.7777777777777778,
              "#fb9f3a"
             ],
             [
              0.8888888888888888,
              "#fdca26"
             ],
             [
              1,
              "#f0f921"
             ]
            ],
            "type": "contour"
           }
          ],
          "contourcarpet": [
           {
            "colorbar": {
             "outlinewidth": 0,
             "ticks": ""
            },
            "type": "contourcarpet"
           }
          ],
          "heatmap": [
           {
            "colorbar": {
             "outlinewidth": 0,
             "ticks": ""
            },
            "colorscale": [
             [
              0,
              "#0d0887"
             ],
             [
              0.1111111111111111,
              "#46039f"
             ],
             [
              0.2222222222222222,
              "#7201a8"
             ],
             [
              0.3333333333333333,
              "#9c179e"
             ],
             [
              0.4444444444444444,
              "#bd3786"
             ],
             [
              0.5555555555555556,
              "#d8576b"
             ],
             [
              0.6666666666666666,
              "#ed7953"
             ],
             [
              0.7777777777777778,
              "#fb9f3a"
             ],
             [
              0.8888888888888888,
              "#fdca26"
             ],
             [
              1,
              "#f0f921"
             ]
            ],
            "type": "heatmap"
           }
          ],
          "histogram": [
           {
            "marker": {
             "pattern": {
              "fillmode": "overlay",
              "size": 10,
              "solidity": 0.2
             }
            },
            "type": "histogram"
           }
          ],
          "histogram2d": [
           {
            "colorbar": {
             "outlinewidth": 0,
             "ticks": ""
            },
            "colorscale": [
             [
              0,
              "#0d0887"
             ],
             [
              0.1111111111111111,
              "#46039f"
             ],
             [
              0.2222222222222222,
              "#7201a8"
             ],
             [
              0.3333333333333333,
              "#9c179e"
             ],
             [
              0.4444444444444444,
              "#bd3786"
             ],
             [
              0.5555555555555556,
              "#d8576b"
             ],
             [
              0.6666666666666666,
              "#ed7953"
             ],
             [
              0.7777777777777778,
              "#fb9f3a"
             ],
             [
              0.8888888888888888,
              "#fdca26"
             ],
             [
              1,
              "#f0f921"
             ]
            ],
            "type": "histogram2d"
           }
          ],
          "histogram2dcontour": [
           {
            "colorbar": {
             "outlinewidth": 0,
             "ticks": ""
            },
            "colorscale": [
             [
              0,
              "#0d0887"
             ],
             [
              0.1111111111111111,
              "#46039f"
             ],
             [
              0.2222222222222222,
              "#7201a8"
             ],
             [
              0.3333333333333333,
              "#9c179e"
             ],
             [
              0.4444444444444444,
              "#bd3786"
             ],
             [
              0.5555555555555556,
              "#d8576b"
             ],
             [
              0.6666666666666666,
              "#ed7953"
             ],
             [
              0.7777777777777778,
              "#fb9f3a"
             ],
             [
              0.8888888888888888,
              "#fdca26"
             ],
             [
              1,
              "#f0f921"
             ]
            ],
            "type": "histogram2dcontour"
           }
          ],
          "mesh3d": [
           {
            "colorbar": {
             "outlinewidth": 0,
             "ticks": ""
            },
            "type": "mesh3d"
           }
          ],
          "parcoords": [
           {
            "line": {
             "colorbar": {
              "outlinewidth": 0,
              "ticks": ""
             }
            },
            "type": "parcoords"
           }
          ],
          "pie": [
           {
            "automargin": true,
            "type": "pie"
           }
          ],
          "scatter": [
           {
            "fillpattern": {
             "fillmode": "overlay",
             "size": 10,
             "solidity": 0.2
            },
            "type": "scatter"
           }
          ],
          "scatter3d": [
           {
            "line": {
             "colorbar": {
              "outlinewidth": 0,
              "ticks": ""
             }
            },
            "marker": {
             "colorbar": {
              "outlinewidth": 0,
              "ticks": ""
             }
            },
            "type": "scatter3d"
           }
          ],
          "scattercarpet": [
           {
            "marker": {
             "colorbar": {
              "outlinewidth": 0,
              "ticks": ""
             }
            },
            "type": "scattercarpet"
           }
          ],
          "scattergeo": [
           {
            "marker": {
             "colorbar": {
              "outlinewidth": 0,
              "ticks": ""
             }
            },
            "type": "scattergeo"
           }
          ],
          "scattergl": [
           {
            "marker": {
             "colorbar": {
              "outlinewidth": 0,
              "ticks": ""
             }
            },
            "type": "scattergl"
           }
          ],
          "scattermap": [
           {
            "marker": {
             "colorbar": {
              "outlinewidth": 0,
              "ticks": ""
             }
            },
            "type": "scattermap"
           }
          ],
          "scattermapbox": [
           {
            "marker": {
             "colorbar": {
              "outlinewidth": 0,
              "ticks": ""
             }
            },
            "type": "scattermapbox"
           }
          ],
          "scatterpolar": [
           {
            "marker": {
             "colorbar": {
              "outlinewidth": 0,
              "ticks": ""
             }
            },
            "type": "scatterpolar"
           }
          ],
          "scatterpolargl": [
           {
            "marker": {
             "colorbar": {
              "outlinewidth": 0,
              "ticks": ""
             }
            },
            "type": "scatterpolargl"
           }
          ],
          "scatterternary": [
           {
            "marker": {
             "colorbar": {
              "outlinewidth": 0,
              "ticks": ""
             }
            },
            "type": "scatterternary"
           }
          ],
          "surface": [
           {
            "colorbar": {
             "outlinewidth": 0,
             "ticks": ""
            },
            "colorscale": [
             [
              0,
              "#0d0887"
             ],
             [
              0.1111111111111111,
              "#46039f"
             ],
             [
              0.2222222222222222,
              "#7201a8"
             ],
             [
              0.3333333333333333,
              "#9c179e"
             ],
             [
              0.4444444444444444,
              "#bd3786"
             ],
             [
              0.5555555555555556,
              "#d8576b"
             ],
             [
              0.6666666666666666,
              "#ed7953"
             ],
             [
              0.7777777777777778,
              "#fb9f3a"
             ],
             [
              0.8888888888888888,
              "#fdca26"
             ],
             [
              1,
              "#f0f921"
             ]
            ],
            "type": "surface"
           }
          ],
          "table": [
           {
            "cells": {
             "fill": {
              "color": "#EBF0F8"
             },
             "line": {
              "color": "white"
             }
            },
            "header": {
             "fill": {
              "color": "#C8D4E3"
             },
             "line": {
              "color": "white"
             }
            },
            "type": "table"
           }
          ]
         },
         "layout": {
          "annotationdefaults": {
           "arrowcolor": "#2a3f5f",
           "arrowhead": 0,
           "arrowwidth": 1
          },
          "autotypenumbers": "strict",
          "coloraxis": {
           "colorbar": {
            "outlinewidth": 0,
            "ticks": ""
           }
          },
          "colorscale": {
           "diverging": [
            [
             0,
             "#8e0152"
            ],
            [
             0.1,
             "#c51b7d"
            ],
            [
             0.2,
             "#de77ae"
            ],
            [
             0.3,
             "#f1b6da"
            ],
            [
             0.4,
             "#fde0ef"
            ],
            [
             0.5,
             "#f7f7f7"
            ],
            [
             0.6,
             "#e6f5d0"
            ],
            [
             0.7,
             "#b8e186"
            ],
            [
             0.8,
             "#7fbc41"
            ],
            [
             0.9,
             "#4d9221"
            ],
            [
             1,
             "#276419"
            ]
           ],
           "sequential": [
            [
             0,
             "#0d0887"
            ],
            [
             0.1111111111111111,
             "#46039f"
            ],
            [
             0.2222222222222222,
             "#7201a8"
            ],
            [
             0.3333333333333333,
             "#9c179e"
            ],
            [
             0.4444444444444444,
             "#bd3786"
            ],
            [
             0.5555555555555556,
             "#d8576b"
            ],
            [
             0.6666666666666666,
             "#ed7953"
            ],
            [
             0.7777777777777778,
             "#fb9f3a"
            ],
            [
             0.8888888888888888,
             "#fdca26"
            ],
            [
             1,
             "#f0f921"
            ]
           ],
           "sequentialminus": [
            [
             0,
             "#0d0887"
            ],
            [
             0.1111111111111111,
             "#46039f"
            ],
            [
             0.2222222222222222,
             "#7201a8"
            ],
            [
             0.3333333333333333,
             "#9c179e"
            ],
            [
             0.4444444444444444,
             "#bd3786"
            ],
            [
             0.5555555555555556,
             "#d8576b"
            ],
            [
             0.6666666666666666,
             "#ed7953"
            ],
            [
             0.7777777777777778,
             "#fb9f3a"
            ],
            [
             0.8888888888888888,
             "#fdca26"
            ],
            [
             1,
             "#f0f921"
            ]
           ]
          },
          "colorway": [
           "#636efa",
           "#EF553B",
           "#00cc96",
           "#ab63fa",
           "#FFA15A",
           "#19d3f3",
           "#FF6692",
           "#B6E880",
           "#FF97FF",
           "#FECB52"
          ],
          "font": {
           "color": "#2a3f5f"
          },
          "geo": {
           "bgcolor": "white",
           "lakecolor": "white",
           "landcolor": "white",
           "showlakes": true,
           "showland": true,
           "subunitcolor": "#C8D4E3"
          },
          "hoverlabel": {
           "align": "left"
          },
          "hovermode": "closest",
          "mapbox": {
           "style": "light"
          },
          "paper_bgcolor": "white",
          "plot_bgcolor": "white",
          "polar": {
           "angularaxis": {
            "gridcolor": "#EBF0F8",
            "linecolor": "#EBF0F8",
            "ticks": ""
           },
           "bgcolor": "white",
           "radialaxis": {
            "gridcolor": "#EBF0F8",
            "linecolor": "#EBF0F8",
            "ticks": ""
           }
          },
          "scene": {
           "xaxis": {
            "backgroundcolor": "white",
            "gridcolor": "#DFE8F3",
            "gridwidth": 2,
            "linecolor": "#EBF0F8",
            "showbackground": true,
            "ticks": "",
            "zerolinecolor": "#EBF0F8"
           },
           "yaxis": {
            "backgroundcolor": "white",
            "gridcolor": "#DFE8F3",
            "gridwidth": 2,
            "linecolor": "#EBF0F8",
            "showbackground": true,
            "ticks": "",
            "zerolinecolor": "#EBF0F8"
           },
           "zaxis": {
            "backgroundcolor": "white",
            "gridcolor": "#DFE8F3",
            "gridwidth": 2,
            "linecolor": "#EBF0F8",
            "showbackground": true,
            "ticks": "",
            "zerolinecolor": "#EBF0F8"
           }
          },
          "shapedefaults": {
           "line": {
            "color": "#2a3f5f"
           }
          },
          "ternary": {
           "aaxis": {
            "gridcolor": "#DFE8F3",
            "linecolor": "#A2B1C6",
            "ticks": ""
           },
           "baxis": {
            "gridcolor": "#DFE8F3",
            "linecolor": "#A2B1C6",
            "ticks": ""
           },
           "bgcolor": "white",
           "caxis": {
            "gridcolor": "#DFE8F3",
            "linecolor": "#A2B1C6",
            "ticks": ""
           }
          },
          "title": {
           "x": 0.05
          },
          "xaxis": {
           "automargin": true,
           "gridcolor": "#EBF0F8",
           "linecolor": "#EBF0F8",
           "ticks": "",
           "title": {
            "standoff": 15
           },
           "zerolinecolor": "#EBF0F8",
           "zerolinewidth": 2
          },
          "yaxis": {
           "automargin": true,
           "gridcolor": "#EBF0F8",
           "linecolor": "#EBF0F8",
           "ticks": "",
           "title": {
            "standoff": 15
           },
           "zerolinecolor": "#EBF0F8",
           "zerolinewidth": 2
          }
         }
        },
        "title": {
         "text": "Total Humanitarian Workers Killed by Country (1997–2025)",
         "x": 0.5
        },
        "updatemenus": [
         {
          "buttons": [
           {
            "args": [
             null,
             {
              "frame": {
               "duration": 500,
               "redraw": true
              },
              "fromcurrent": true,
              "mode": "immediate",
              "transition": {
               "duration": 500,
               "easing": "linear"
              }
             }
            ],
            "label": "&#9654;",
            "method": "animate"
           },
           {
            "args": [
             [
              null
             ],
             {
              "frame": {
               "duration": 0,
               "redraw": true
              },
              "fromcurrent": true,
              "mode": "immediate",
              "transition": {
               "duration": 0,
               "easing": "linear"
              }
             }
            ],
            "label": "&#9724;",
            "method": "animate"
           }
          ],
          "direction": "left",
          "pad": {
           "r": 10,
           "t": 70
          },
          "showactive": false,
          "type": "buttons",
          "x": 0.1,
          "xanchor": "right",
          "y": 0,
          "yanchor": "top"
         }
        ],
        "width": 1000
       }
      }
     },
     "metadata": {},
     "output_type": "display_data"
    }
   ],
   "source": [
    "\n",
    "# 1. Map Country to ISO codes (use your own `iso_codes` mapping if you already have it)\n",
    "# Or use `pycountry` to auto-map (optional)\n",
    "import pycountry\n",
    "\n",
    "def get_iso_code(name):\n",
    "    try:\n",
    "        return pycountry.countries.lookup(name).alpha_3\n",
    "    except:\n",
    "        return None\n",
    "\n",
    "df['ISO'] = df['country'].apply(get_iso_code)\n",
    "\n",
    "# 2. Filter by years in your range\n",
    "df = df[(df['year'] >= 1997) & (df['year'] <= 2025)]\n",
    "\n",
    "# 3. Group by Country and Year (summing Total.killed per country-year if needed)\n",
    "df_grouped = df.groupby(['country', 'ISO', 'year'], as_index=False)['total.killed'].sum()\n",
    "\n",
    "# 4. Plot the choropleth map\n",
    "fig = px.choropleth(\n",
    "    df_grouped,\n",
    "    locations='ISO',\n",
    "    locationmode='ISO-3',\n",
    "    color='total.killed',\n",
    "    hover_name='country',\n",
    "    animation_frame='year',\n",
    "    color_continuous_scale='Reds',\n",
    "    title='Total Humanitarian Workers Killed by Country (1997–2025)'\n",
    ")\n",
    "\n",
    "fig.update_layout(\n",
    "    title_x=0.5,\n",
    "    geo=dict(showframe=False, showcoastlines=True),\n",
    "    width=1000,\n",
    "    height=600,\n",
    "    template='plotly_white',\n",
    "    coloraxis_colorbar=dict(title=\"Total Killed\")\n",
    ")\n",
    "\n",
    "fig.update_traces(\n",
    "    hovertemplate=\"<b>%{hovertext}</b><br>Total killed: %{z}<extra></extra>\"\n",
    ")\n",
    "\n",
    "fig.show()\n"
   ]
  },
  {
   "cell_type": "code",
   "execution_count": null,
   "metadata": {},
   "outputs": [
    {
     "name": "stderr",
     "output_type": "stream",
     "text": [
      "/opt/anaconda3/envs/dataviz5200/lib/python3.13/site-packages/_plotly_utils/basevalidators.py:2596: DeprecationWarning:\n",
      "\n",
      "*scattermapbox* is deprecated! Use *scattermap* instead. Learn more at: https://plotly.com/python/mapbox-to-maplibre/\n",
      "\n"
     ]
    },
    {
     "data": {
      "application/vnd.plotly.v1+json": {
       "config": {
        "plotlyServerURL": "https://plot.ly"
       },
       "data": [
        {
         "coloraxis": "coloraxis",
         "geo": "geo",
         "hovertemplate": "<b>%{hovertext}</b><br><br>year=1997<br>ISO=%{location}<br>total.killed=%{z}<extra></extra>",
         "hovertext": [
          "Afghanistan",
          "Angola",
          "Bangladesh",
          "Cambodia",
          "Congo",
          "Ethiopia",
          "Rwanda",
          "Sierra Leone",
          "Somalia",
          "South Sudan",
          "Tajikistan"
         ],
         "locationmode": "ISO-3",
         "locations": [
          "AFG",
          "AGO",
          "BGD",
          "KHM",
          "COG",
          "ETH",
          "RWA",
          "SLE",
          "SOM",
          "SSD",
          "TJK"
         ],
         "name": "",
         "type": "choropleth",
         "z": {
          "bdata": "AQMBAQECCQEGAQE=",
          "dtype": "i1"
         }
        },
        {
         "lat": {
          "bdata": "/TIYIxJpP0B5lEp4Ql1CQP0yGCMSaT9AAAAAAAAAJED9MhgjEmk/QArXo3A9KkJAhhvw+WFMP0Am4q3zb48iQOq/GNu1pkBAHogs0sSDP0A=",
          "dtype": "f8"
         },
         "lon": {
          "bdata": "aDef35wcQUBAMbJkjjdRQGg3n9+cHEFAAAAAAAAAIEBoN5/fnBxBQEjhehSuJ1FAuRyvQPQeQUCT/8nfvcc9QCDg/318MEZAEvbtJCI6QUA=",
          "dtype": "f8"
         },
         "marker": {
          "color": "red",
          "opacity": 0.8,
          "size": 12,
          "symbol": "circle"
         },
         "name": "Top 10 Events",
         "text": [
          "Occupied Palestinian Territories",
          "Afghanistan",
          "Occupied Palestinian Territories",
          "Nigeria",
          "Occupied Palestinian Territories",
          "Afghanistan",
          "Occupied Palestinian Territories",
          "South Sudan",
          "Iraq",
          "Occupied Palestinian Territories"
         ],
         "type": "scattergeo"
        }
       ],
       "frames": [
        {
         "data": [
          {
           "coloraxis": "coloraxis",
           "geo": "geo",
           "hovertemplate": "<b>%{hovertext}</b><br><br>year=1997<br>ISO=%{location}<br>total.killed=%{z}<extra></extra>",
           "hovertext": [
            "Afghanistan",
            "Angola",
            "Bangladesh",
            "Cambodia",
            "Congo",
            "Ethiopia",
            "Rwanda",
            "Sierra Leone",
            "Somalia",
            "South Sudan",
            "Tajikistan"
           ],
           "locationmode": "ISO-3",
           "locations": [
            "AFG",
            "AGO",
            "BGD",
            "KHM",
            "COG",
            "ETH",
            "RWA",
            "SLE",
            "SOM",
            "SSD",
            "TJK"
           ],
           "name": "",
           "type": "choropleth",
           "z": {
            "bdata": "AQMBAQECCQEGAQE=",
            "dtype": "i1"
           }
          }
         ],
         "name": "1997"
        },
        {
         "data": [
          {
           "coloraxis": "coloraxis",
           "geo": "geo",
           "hovertemplate": "<b>%{hovertext}</b><br><br>year=1998<br>ISO=%{location}<br>total.killed=%{z}<extra></extra>",
           "hovertext": [
            "Afghanistan",
            "Angola",
            "Burundi",
            "Ethiopia",
            "Rwanda",
            "Sierra Leone",
            "Somalia",
            "Sri Lanka",
            "Sudan",
            "Uganda"
           ],
           "locationmode": "ISO-3",
           "locations": [
            "AFG",
            "AGO",
            "BDI",
            "ETH",
            "RWA",
            "SLE",
            "SOM",
            "LKA",
            "SDN",
            "UGA"
           ],
           "name": "",
           "type": "choropleth",
           "z": {
            "bdata": "AwQGAAMBAgEEAg==",
            "dtype": "i1"
           }
          }
         ],
         "name": "1998"
        },
        {
         "data": [
          {
           "coloraxis": "coloraxis",
           "geo": "geo",
           "hovertemplate": "<b>%{hovertext}</b><br><br>year=1999<br>ISO=%{location}<br>total.killed=%{z}<extra></extra>",
           "hovertext": [
            "Afghanistan",
            "Angola",
            "Burundi",
            "Colombia",
            "Ethiopia",
            "Indonesia",
            "Kenya",
            "Liberia",
            "Sierra Leone",
            "Somalia",
            "Sudan",
            "Tajikistan",
            "Yemen"
           ],
           "locationmode": "ISO-3",
           "locations": [
            "AFG",
            "AGO",
            "BDI",
            "COL",
            "ETH",
            "IDN",
            "KEN",
            "LBR",
            "SLE",
            "SOM",
            "SDN",
            "TJK",
            "YEM"
           ],
           "name": "",
           "type": "choropleth",
           "z": {
            "bdata": "AQsDAAABAQABBwUBAA==",
            "dtype": "i1"
           }
          }
         ],
         "name": "1999"
        },
        {
         "data": [
          {
           "coloraxis": "coloraxis",
           "geo": "geo",
           "hovertemplate": "<b>%{hovertext}</b><br><br>year=2000<br>ISO=%{location}<br>total.killed=%{z}<extra></extra>",
           "hovertext": [
            "Afghanistan",
            "Angola",
            "Burundi",
            "Colombia",
            "Ethiopia",
            "Georgia",
            "Guinea",
            "Indonesia",
            "Iraq",
            "Kenya",
            "Mozambique",
            "Rwanda",
            "Sierra Leone",
            "Somalia",
            "Sudan"
           ],
           "locationmode": "ISO-3",
           "locations": [
            "AFG",
            "AGO",
            "BDI",
            "COL",
            "ETH",
            "GEO",
            "GIN",
            "IDN",
            "IRQ",
            "KEN",
            "MOZ",
            "RWA",
            "SLE",
            "SOM",
            "SDN"
           ],
           "name": "",
           "type": "choropleth",
           "z": {
            "bdata": "CAUBAAEAAgYCAQEBAAsP",
            "dtype": "i1"
           }
          }
         ],
         "name": "2000"
        },
        {
         "data": [
          {
           "coloraxis": "coloraxis",
           "geo": "geo",
           "hovertemplate": "<b>%{hovertext}</b><br><br>year=2001<br>ISO=%{location}<br>total.killed=%{z}<extra></extra>",
           "hovertext": [
            "Afghanistan",
            "Angola",
            "Burundi",
            "Cameroon",
            "Central African Republic",
            "Fiji",
            "Indonesia",
            "Madagascar",
            "Pakistan",
            "Somalia",
            "Sudan",
            "Tajikistan"
           ],
           "locationmode": "ISO-3",
           "locations": [
            "AFG",
            "AGO",
            "BDI",
            "CMR",
            "CAF",
            "FJI",
            "IDN",
            "MDG",
            "PAK",
            "SOM",
            "SDN",
            "TJK"
           ],
           "name": "",
           "type": "choropleth",
           "z": {
            "bdata": "AgECAQEBAQEABgIA",
            "dtype": "i1"
           }
          }
         ],
         "name": "2001"
        },
        {
         "data": [
          {
           "coloraxis": "coloraxis",
           "geo": "geo",
           "hovertemplate": "<b>%{hovertext}</b><br><br>year=2002<br>ISO=%{location}<br>total.killed=%{z}<extra></extra>",
           "hovertext": [
            "Afghanistan",
            "Angola",
            "Burundi",
            "Colombia",
            "Congo",
            "Iraq",
            "Jordan",
            "Liberia",
            "Somalia",
            "South Africa",
            "South Sudan",
            "Sudan",
            "Uganda",
            "Yemen"
           ],
           "locationmode": "ISO-3",
           "locations": [
            "AFG",
            "AGO",
            "BDI",
            "COL",
            "COG",
            "IRQ",
            "JOR",
            "LBR",
            "SOM",
            "ZAF",
            "SSD",
            "SDN",
            "UGA",
            "YEM"
           ],
           "name": "",
           "type": "choropleth",
           "z": {
            "bdata": "AwcCBAABAgEEAQEBAgM=",
            "dtype": "i1"
           }
          }
         ],
         "name": "2002"
        },
        {
         "data": [
          {
           "coloraxis": "coloraxis",
           "geo": "geo",
           "hovertemplate": "<b>%{hovertext}</b><br><br>year=2003<br>ISO=%{location}<br>total.killed=%{z}<extra></extra>",
           "hovertext": [
            "Afghanistan",
            "Angola",
            "Burundi",
            "Eritrea",
            "Iraq",
            "Kenya",
            "Liberia",
            "Philippines",
            "Senegal",
            "Somalia",
            "South Africa",
            "South Sudan",
            "Sudan",
            "Uganda"
           ],
           "locationmode": "ISO-3",
           "locations": [
            "AFG",
            "AGO",
            "BDI",
            "ERI",
            "IRQ",
            "KEN",
            "LBR",
            "PHL",
            "SEN",
            "SOM",
            "ZAF",
            "SSD",
            "SDN",
            "UGA"
           ],
           "name": "",
           "type": "choropleth",
           "z": {
            "bdata": "DQYBAh0BBAAABgABCAE=",
            "dtype": "i1"
           }
          }
         ],
         "name": "2003"
        },
        {
         "data": [
          {
           "coloraxis": "coloraxis",
           "geo": "geo",
           "hovertemplate": "<b>%{hovertext}</b><br><br>year=2004<br>ISO=%{location}<br>total.killed=%{z}<extra></extra>",
           "hovertext": [
            "Afghanistan",
            "Colombia",
            "Haiti",
            "Iraq",
            "Kenya",
            "Nigeria",
            "Pakistan",
            "Somalia",
            "Sudan",
            "Uganda"
           ],
           "locationmode": "ISO-3",
           "locations": [
            "AFG",
            "COL",
            "HTI",
            "IRQ",
            "KEN",
            "NGA",
            "PAK",
            "SOM",
            "SDN",
            "UGA"
           ],
           "name": "",
           "type": "choropleth",
           "z": {
            "bdata": "GgIACwEAAAIGAg==",
            "dtype": "i1"
           }
          }
         ],
         "name": "2004"
        },
        {
         "data": [
          {
           "coloraxis": "coloraxis",
           "geo": "geo",
           "hovertemplate": "<b>%{hovertext}</b><br><br>year=2005<br>ISO=%{location}<br>total.killed=%{z}<extra></extra>",
           "hovertext": [
            "Afghanistan",
            "Chad",
            "Colombia",
            "Guyana",
            "Haiti",
            "Indonesia",
            "Iraq",
            "Kenya",
            "Madagascar",
            "Malawi",
            "Nepal",
            "Somalia",
            "South Sudan",
            "Sudan",
            "Uganda",
            "Zimbabwe"
           ],
           "locationmode": "ISO-3",
           "locations": [
            "AFG",
            "TCD",
            "COL",
            "GUY",
            "HTI",
            "IDN",
            "IRQ",
            "KEN",
            "MDG",
            "MWI",
            "NPL",
            "SOM",
            "SSD",
            "SDN",
            "UGA",
            "ZWE"
           ],
           "name": "",
           "type": "choropleth",
           "z": {
            "bdata": "FAAAAAEABQMBAAAFAgsCAQ==",
            "dtype": "i1"
           }
          }
         ],
         "name": "2005"
        },
        {
         "data": [
          {
           "coloraxis": "coloraxis",
           "geo": "geo",
           "hovertemplate": "<b>%{hovertext}</b><br><br>year=2006<br>ISO=%{location}<br>total.killed=%{z}<extra></extra>",
           "hovertext": [
            "Afghanistan",
            "Central African Republic",
            "Chad",
            "Colombia",
            "El Salvador",
            "Eritrea",
            "Ethiopia",
            "Guatemala",
            "Haiti",
            "India",
            "Iraq",
            "Lesotho",
            "Malawi",
            "Senegal",
            "Somalia",
            "South Africa",
            "Sri Lanka",
            "Sudan"
           ],
           "locationmode": "ISO-3",
           "locations": [
            "AFG",
            "CAF",
            "TCD",
            "COL",
            "SLV",
            "ERI",
            "ETH",
            "GTM",
            "HTI",
            "IND",
            "IRQ",
            "LSO",
            "MWI",
            "SEN",
            "SOM",
            "ZAF",
            "LKA",
            "SDN"
           ],
           "name": "",
           "type": "choropleth",
           "z": {
            "bdata": "HgIBAAAAAAAAAQQBAAEFARgM",
            "dtype": "i1"
           }
          }
         ],
         "name": "2006"
        },
        {
         "data": [
          {
           "coloraxis": "coloraxis",
           "geo": "geo",
           "hovertemplate": "<b>%{hovertext}</b><br><br>year=2007<br>ISO=%{location}<br>total.killed=%{z}<extra></extra>",
           "hovertext": [
            "Afghanistan",
            "Algeria",
            "Bangladesh",
            "Burundi",
            "Central African Republic",
            "Chad",
            "Fiji",
            "Haiti",
            "Indonesia",
            "Iraq",
            "Kenya",
            "Lebanon",
            "Malawi",
            "Mali",
            "Pakistan",
            "Papua New Guinea",
            "Somalia",
            "Sri Lanka",
            "Sudan",
            "Tanzania",
            "Thailand",
            "Uganda",
            "Vietnam",
            "Yemen"
           ],
           "locationmode": "ISO-3",
           "locations": [
            "AFG",
            "DZA",
            "BGD",
            "BDI",
            "CAF",
            "TCD",
            "FJI",
            "HTI",
            "IDN",
            "IRQ",
            "KEN",
            "LBN",
            "MWI",
            "MLI",
            "PAK",
            "PNG",
            "SOM",
            "LKA",
            "SDN",
            "TZA",
            "THA",
            "UGA",
            "VNM",
            "YEM"
           ],
           "name": "",
           "type": "choropleth",
           "z": {
            "bdata": "FQgAAQICAAAABQECAQAEAAkQCwABBAAA",
            "dtype": "i1"
           }
          }
         ],
         "name": "2007"
        },
        {
         "data": [
          {
           "coloraxis": "coloraxis",
           "geo": "geo",
           "hovertemplate": "<b>%{hovertext}</b><br><br>year=2008<br>ISO=%{location}<br>total.killed=%{z}<extra></extra>",
           "hovertext": [
            "Afghanistan",
            "Burundi",
            "Cameroon",
            "Chad",
            "El Salvador",
            "Ethiopia",
            "Haiti",
            "Indonesia",
            "Kenya",
            "Malawi",
            "Mozambique",
            "Nepal",
            "Nicaragua",
            "Pakistan",
            "Philippines",
            "Sierra Leone",
            "Somalia",
            "Sri Lanka",
            "Sudan",
            "Tanzania",
            "Yemen"
           ],
           "locationmode": "ISO-3",
           "locations": [
            "AFG",
            "BDI",
            "CMR",
            "TCD",
            "SLV",
            "ETH",
            "HTI",
            "IDN",
            "KEN",
            "MWI",
            "MOZ",
            "NPL",
            "NIC",
            "PAK",
            "PHL",
            "SLE",
            "SOM",
            "LKA",
            "SDN",
            "TZA",
            "YEM"
           ],
           "name": "",
           "type": "choropleth",
           "z": {
            "bdata": "IAEABAEDAQABAAAAAAgBAC4DFAEA",
            "dtype": "i1"
           }
          }
         ],
         "name": "2008"
        },
        {
         "data": [
          {
           "coloraxis": "coloraxis",
           "geo": "geo",
           "hovertemplate": "<b>%{hovertext}</b><br><br>year=2009<br>ISO=%{location}<br>total.killed=%{z}<extra></extra>",
           "hovertext": [
            "Afghanistan",
            "Bangladesh",
            "Cambodia",
            "Central African Republic",
            "Chad",
            "Ethiopia",
            "Haiti",
            "Indonesia",
            "Iraq",
            "Kenya",
            "Liberia",
            "Mali",
            "Mauritania",
            "Mozambique",
            "Pakistan",
            "Philippines",
            "Somalia",
            "Sri Lanka",
            "Sudan",
            "Uganda",
            "Yemen",
            "Zambia"
           ],
           "locationmode": "ISO-3",
           "locations": [
            "AFG",
            "BGD",
            "KHM",
            "CAF",
            "TCD",
            "ETH",
            "HTI",
            "IDN",
            "IRQ",
            "KEN",
            "LBR",
            "MLI",
            "MRT",
            "MOZ",
            "PAK",
            "PHL",
            "SOM",
            "LKA",
            "SDN",
            "UGA",
            "YEM",
            "ZMB"
           ],
           "name": "",
           "type": "choropleth",
           "z": {
            "bdata": "GAEBBAEAAAABAAAAAQMSARMIBgAEAA==",
            "dtype": "i1"
           }
          }
         ],
         "name": "2009"
        },
        {
         "data": [
          {
           "coloraxis": "coloraxis",
           "geo": "geo",
           "hovertemplate": "<b>%{hovertext}</b><br><br>year=2010<br>ISO=%{location}<br>total.killed=%{z}<extra></extra>",
           "hovertext": [
            "Afghanistan",
            "Bangladesh",
            "Cameroon",
            "Chad",
            "Ethiopia",
            "Haiti",
            "Iraq",
            "Kenya",
            "Kyrgyzstan",
            "Madagascar",
            "Malawi",
            "Nicaragua",
            "Niger",
            "Pakistan",
            "Philippines",
            "Sierra Leone",
            "Somalia",
            "Sudan",
            "Uganda",
            "Yemen"
           ],
           "locationmode": "ISO-3",
           "locations": [
            "AFG",
            "BGD",
            "CMR",
            "TCD",
            "ETH",
            "HTI",
            "IRQ",
            "KEN",
            "KGZ",
            "MDG",
            "MWI",
            "NIC",
            "NER",
            "PAK",
            "PHL",
            "SLE",
            "SOM",
            "SDN",
            "UGA",
            "YEM"
           ],
           "name": "",
           "type": "choropleth",
           "z": {
            "bdata": "IwAAAAAEBwAAAAAAAQ4BAAUEAQA=",
            "dtype": "i1"
           }
          }
         ],
         "name": "2010"
        },
        {
         "data": [
          {
           "coloraxis": "coloraxis",
           "geo": "geo",
           "hovertemplate": "<b>%{hovertext}</b><br><br>year=2011<br>ISO=%{location}<br>total.killed=%{z}<extra></extra>",
           "hovertext": [
            "Afghanistan",
            "Burundi",
            "Central African Republic",
            "Chad",
            "Colombia",
            "El Salvador",
            "Ethiopia",
            "Haiti",
            "Honduras",
            "Kenya",
            "Myanmar",
            "Niger",
            "Nigeria",
            "Pakistan",
            "Papua New Guinea",
            "Philippines",
            "Somalia",
            "South Sudan",
            "Sudan",
            "Syrian Arab Republic",
            "Tanzania",
            "Uganda",
            "Western Sahara",
            "Yemen"
           ],
           "locationmode": "ISO-3",
           "locations": [
            "AFG",
            "BDI",
            "CAF",
            "TCD",
            "COL",
            "SLV",
            "ETH",
            "HTI",
            "HND",
            "KEN",
            "MMR",
            "NER",
            "NGA",
            "PAK",
            "PNG",
            "PHL",
            "SOM",
            "SSD",
            "SDN",
            "SYR",
            "TZA",
            "UGA",
            "ESH",
            "YEM"
           ],
           "name": "",
           "type": "choropleth",
           "z": {
            "bdata": "HwEBAAABAQAAAQABCQUAAA0JBgABAAAA",
            "dtype": "i1"
           }
          }
         ],
         "name": "2011"
        },
        {
         "data": [
          {
           "coloraxis": "coloraxis",
           "geo": "geo",
           "hovertemplate": "<b>%{hovertext}</b><br><br>year=2012<br>ISO=%{location}<br>total.killed=%{z}<extra></extra>",
           "hovertext": [
            "Afghanistan",
            "Cameroon",
            "Chad",
            "Ethiopia",
            "Haiti",
            "Kenya",
            "Niger",
            "Pakistan",
            "Philippines",
            "Senegal",
            "Somalia",
            "South Sudan",
            "Sri Lanka",
            "Sudan",
            "Syrian Arab Republic",
            "Tunisia",
            "Yemen"
           ],
           "locationmode": "ISO-3",
           "locations": [
            "AFG",
            "CMR",
            "TCD",
            "ETH",
            "HTI",
            "KEN",
            "NER",
            "PAK",
            "PHL",
            "SEN",
            "SOM",
            "SSD",
            "LKA",
            "SDN",
            "SYR",
            "TUN",
            "YEM"
           ],
           "name": "",
           "type": "choropleth",
           "z": {
            "bdata": "CwABAAIDAQ0BAAgJAAETAAE=",
            "dtype": "i1"
           }
          }
         ],
         "name": "2012"
        },
        {
         "data": [
          {
           "coloraxis": "coloraxis",
           "geo": "geo",
           "hovertemplate": "<b>%{hovertext}</b><br><br>year=2013<br>ISO=%{location}<br>total.killed=%{z}<extra></extra>",
           "hovertext": [
            "Afghanistan",
            "Argentina",
            "Armenia",
            "Central African Republic",
            "El Salvador",
            "Ethiopia",
            "Haiti",
            "India",
            "Indonesia",
            "Iraq",
            "Jordan",
            "Kenya",
            "Kyrgyzstan",
            "Mali",
            "Mauritania",
            "Myanmar",
            "Nigeria",
            "Pakistan",
            "Philippines",
            "Senegal",
            "Somalia",
            "South Sudan",
            "Sudan",
            "Syrian Arab Republic",
            "Uganda",
            "Yemen"
           ],
           "locationmode": "ISO-3",
           "locations": [
            "AFG",
            "ARG",
            "ARM",
            "CAF",
            "SLV",
            "ETH",
            "HTI",
            "IND",
            "IDN",
            "IRQ",
            "JOR",
            "KEN",
            "KGZ",
            "MLI",
            "MRT",
            "MMR",
            "NGA",
            "PAK",
            "PHL",
            "SEN",
            "SOM",
            "SSD",
            "SDN",
            "SYR",
            "UGA",
            "YEM"
           ],
           "name": "",
           "type": "choropleth",
           "z": {
            "bdata": "MAAABAEBAQAAAAAEAAEAAAgWAAAPDwcZAQM=",
            "dtype": "i1"
           }
          }
         ],
         "name": "2013"
        },
        {
         "data": [
          {
           "coloraxis": "coloraxis",
           "geo": "geo",
           "hovertemplate": "<b>%{hovertext}</b><br><br>year=2014<br>ISO=%{location}<br>total.killed=%{z}<extra></extra>",
           "hovertext": [
            "Afghanistan",
            "Benin",
            "Cambodia",
            "Cameroon",
            "Central African Republic",
            "Chad",
            "Ethiopia",
            "Guinea",
            "Iraq",
            "Israel",
            "Kenya",
            "Lebanon",
            "Mali",
            "Myanmar",
            "Nepal",
            "Pakistan",
            "Philippines",
            "Somalia",
            "South Sudan",
            "Sudan",
            "Syrian Arab Republic",
            "Tanzania",
            "Uganda",
            "Ukraine",
            "Yemen"
           ],
           "locationmode": "ISO-3",
           "locations": [
            "AFG",
            "BEN",
            "KHM",
            "CMR",
            "CAF",
            "TCD",
            "ETH",
            "GIN",
            "IRQ",
            "ISR",
            "KEN",
            "LBN",
            "MLI",
            "MMR",
            "NPL",
            "PAK",
            "PHL",
            "SOM",
            "SSD",
            "SDN",
            "SYR",
            "TZA",
            "UGA",
            "UKR",
            "YEM"
           ],
           "name": "",
           "type": "choropleth",
           "z": {
            "bdata": "KgABAAoAAAEAAQABAwAACAIJCwISAAEBAg==",
            "dtype": "i1"
           }
          }
         ],
         "name": "2014"
        },
        {
         "data": [
          {
           "coloraxis": "coloraxis",
           "geo": "geo",
           "hovertemplate": "<b>%{hovertext}</b><br><br>year=2015<br>ISO=%{location}<br>total.killed=%{z}<extra></extra>",
           "hovertext": [
            "Afghanistan",
            "Bangladesh",
            "Burundi",
            "Cameroon",
            "Central African Republic",
            "Ethiopia",
            "Guatemala",
            "Guinea",
            "Haiti",
            "Iraq",
            "Kenya",
            "Mali",
            "Myanmar",
            "Pakistan",
            "Sierra Leone",
            "Somalia",
            "South Africa",
            "South Sudan",
            "Sudan",
            "Syrian Arab Republic",
            "Uganda",
            "Yemen",
            "Zambia"
           ],
           "locationmode": "ISO-3",
           "locations": [
            "AFG",
            "BGD",
            "BDI",
            "CMR",
            "CAF",
            "ETH",
            "GTM",
            "GIN",
            "HTI",
            "IRQ",
            "KEN",
            "MLI",
            "MMR",
            "PAK",
            "SLE",
            "SOM",
            "ZAF",
            "SSD",
            "SDN",
            "SYR",
            "UGA",
            "YEM",
            "ZMB"
           ],
           "name": "",
           "type": "choropleth",
           "z": {
            "bdata": "KQEDAAYAAQABAAACAQEACwAPBQkADAA=",
            "dtype": "i1"
           }
          }
         ],
         "name": "2015"
        },
        {
         "data": [
          {
           "coloraxis": "coloraxis",
           "geo": "geo",
           "hovertemplate": "<b>%{hovertext}</b><br><br>year=2016<br>ISO=%{location}<br>total.killed=%{z}<extra></extra>",
           "hovertext": [
            "Afghanistan",
            "Angola",
            "Bangladesh",
            "Burkina Faso",
            "Central African Republic",
            "El Salvador",
            "Haiti",
            "Honduras",
            "Iraq",
            "Kenya",
            "Mali",
            "Nicaragua",
            "Niger",
            "Nigeria",
            "Pakistan",
            "Somalia",
            "South Sudan",
            "Sudan",
            "Syrian Arab Republic",
            "Yemen"
           ],
           "locationmode": "ISO-3",
           "locations": [
            "AFG",
            "AGO",
            "BGD",
            "BFA",
            "CAF",
            "SLV",
            "HTI",
            "HND",
            "IRQ",
            "KEN",
            "MLI",
            "NIC",
            "NER",
            "NGA",
            "PAK",
            "SOM",
            "SSD",
            "SDN",
            "SYR",
            "YEM"
           ],
           "name": "",
           "type": "choropleth",
           "z": {
            "bdata": "DgABAAUBAAEAAgIAAAABChoAJQY=",
            "dtype": "i1"
           }
          }
         ],
         "name": "2016"
        },
        {
         "data": [
          {
           "coloraxis": "coloraxis",
           "geo": "geo",
           "hovertemplate": "<b>%{hovertext}</b><br><br>year=2017<br>ISO=%{location}<br>total.killed=%{z}<extra></extra>",
           "hovertext": [
            "Afghanistan",
            "Central African Republic",
            "Chad",
            "Haiti",
            "Iraq",
            "Kenya",
            "Madagascar",
            "Mali",
            "Mauritius",
            "Mexico",
            "Myanmar",
            "Nigeria",
            "Pakistan",
            "Sierra Leone",
            "Somalia",
            "South Sudan",
            "Sudan",
            "Syrian Arab Republic",
            "Uganda",
            "Yemen"
           ],
           "locationmode": "ISO-3",
           "locations": [
            "AFG",
            "CAF",
            "TCD",
            "HTI",
            "IRQ",
            "KEN",
            "MDG",
            "MLI",
            "MUS",
            "MEX",
            "MMR",
            "NGA",
            "PAK",
            "SLE",
            "SOM",
            "SSD",
            "SDN",
            "SYR",
            "UGA",
            "YEM"
           ],
           "name": "",
           "type": "choropleth",
           "z": {
            "bdata": "DxEBAAABAAQAAgALAgAJIQErAAE=",
            "dtype": "i1"
           }
          }
         ],
         "name": "2017"
        },
        {
         "data": [
          {
           "coloraxis": "coloraxis",
           "geo": "geo",
           "hovertemplate": "<b>%{hovertext}</b><br><br>year=2018<br>ISO=%{location}<br>total.killed=%{z}<extra></extra>",
           "hovertext": [
            "Afghanistan",
            "Algeria",
            "Azerbaijan",
            "Bangladesh",
            "Cameroon",
            "Central African Republic",
            "El Salvador",
            "Ethiopia",
            "Guatemala",
            "Guinea",
            "Haiti",
            "Iraq",
            "Kenya",
            "Mali",
            "Mexico",
            "Myanmar",
            "Nicaragua",
            "Niger",
            "Nigeria",
            "Pakistan",
            "Papua New Guinea",
            "Philippines",
            "Saudi Arabia",
            "Sierra Leone",
            "Somalia",
            "South Sudan",
            "Sri Lanka",
            "Sudan",
            "Syrian Arab Republic",
            "Tanzania",
            "Tunisia",
            "Uganda",
            "Yemen"
           ],
           "locationmode": "ISO-3",
           "locations": [
            "AFG",
            "DZA",
            "AZE",
            "BGD",
            "CMR",
            "CAF",
            "SLV",
            "ETH",
            "GTM",
            "GIN",
            "HTI",
            "IRQ",
            "KEN",
            "MLI",
            "MEX",
            "MMR",
            "NIC",
            "NER",
            "NGA",
            "PAK",
            "PNG",
            "PHL",
            "SAU",
            "SLE",
            "SOM",
            "SSD",
            "LKA",
            "SDN",
            "SYR",
            "TZA",
            "TUN",
            "UGA",
            "YEM"
           ],
           "name": "",
           "type": "choropleth",
           "z": {
            "bdata": "DgADAgAKAAIBAAAAAAABAQAABQEAAAAAAxAAAzgAAAAC",
            "dtype": "i1"
           }
          }
         ],
         "name": "2018"
        },
        {
         "data": [
          {
           "coloraxis": "coloraxis",
           "geo": "geo",
           "hovertemplate": "<b>%{hovertext}</b><br><br>year=2019<br>ISO=%{location}<br>total.killed=%{z}<extra></extra>",
           "hovertext": [
            "Afghanistan",
            "Bangladesh",
            "Bolivia",
            "Burkina Faso",
            "Burundi",
            "Cambodia",
            "Cameroon",
            "Central African Republic",
            "Chad",
            "Ecuador",
            "Ethiopia",
            "Guatemala",
            "Haiti",
            "Iraq",
            "Jordan",
            "Kenya",
            "Malawi",
            "Mali",
            "Mexico",
            "Mozambique",
            "Myanmar",
            "Niger",
            "Nigeria",
            "Pakistan",
            "Papua New Guinea",
            "Philippines",
            "Senegal",
            "Somalia",
            "South Sudan",
            "Sri Lanka",
            "Sudan",
            "Syrian Arab Republic",
            "Tanzania",
            "Tunisia",
            "Uganda",
            "Ukraine",
            "Yemen"
           ],
           "locationmode": "ISO-3",
           "locations": [
            "AFG",
            "BGD",
            "BOL",
            "BFA",
            "BDI",
            "KHM",
            "CMR",
            "CAF",
            "TCD",
            "ECU",
            "ETH",
            "GTM",
            "HTI",
            "IRQ",
            "JOR",
            "KEN",
            "MWI",
            "MLI",
            "MEX",
            "MOZ",
            "MMR",
            "NER",
            "NGA",
            "PAK",
            "PNG",
            "PHL",
            "SEN",
            "SOM",
            "SSD",
            "LKA",
            "SDN",
            "SYR",
            "TZA",
            "TUN",
            "UGA",
            "UKR",
            "YEM"
           ],
           "name": "",
           "type": "choropleth",
           "z": {
            "bdata": "EgEAAAAAAQYCAAUAAQAAAQAAAQABAg4CAAEABQYAASQAAAIABQ==",
            "dtype": "i1"
           }
          }
         ],
         "name": "2019"
        },
        {
         "data": [
          {
           "coloraxis": "coloraxis",
           "geo": "geo",
           "hovertemplate": "<b>%{hovertext}</b><br><br>year=2020<br>ISO=%{location}<br>total.killed=%{z}<extra></extra>",
           "hovertext": [
            "Afghanistan",
            "Bangladesh",
            "Botswana",
            "Burkina Faso",
            "Burundi",
            "Cameroon",
            "Central African Republic",
            "Chile",
            "Colombia",
            "Congo",
            "Ethiopia",
            "Fiji",
            "Haiti",
            "India",
            "Iraq",
            "Jordan",
            "Kenya",
            "Kyrgyzstan",
            "Madagascar",
            "Mali",
            "Mexico",
            "Mozambique",
            "Myanmar",
            "Niger",
            "Nigeria",
            "Pakistan",
            "Papua New Guinea",
            "Peru",
            "Somalia",
            "South Sudan",
            "Sudan",
            "Syrian Arab Republic",
            "Uganda",
            "Uruguay",
            "Yemen",
            "Zambia",
            "Zimbabwe"
           ],
           "locationmode": "ISO-3",
           "locations": [
            "AFG",
            "BGD",
            "BWA",
            "BFA",
            "BDI",
            "CMR",
            "CAF",
            "CHL",
            "COL",
            "COG",
            "ETH",
            "FJI",
            "HTI",
            "IND",
            "IRQ",
            "JOR",
            "KEN",
            "KGZ",
            "MDG",
            "MLI",
            "MEX",
            "MOZ",
            "MMR",
            "NER",
            "NGA",
            "PAK",
            "PNG",
            "PER",
            "SOM",
            "SSD",
            "SDN",
            "SYR",
            "UGA",
            "URY",
            "YEM",
            "ZMB",
            "ZWE"
           ],
           "name": "",
           "type": "choropleth",
           "z": {
            "bdata": "AgEAAwACAwAAAA4AAQABAAEAAAEAAAEHBgIAAAsYARgBAAcAAA==",
            "dtype": "i1"
           }
          }
         ],
         "name": "2020"
        },
        {
         "data": [
          {
           "coloraxis": "coloraxis",
           "geo": "geo",
           "hovertemplate": "<b>%{hovertext}</b><br><br>year=2021<br>ISO=%{location}<br>total.killed=%{z}<extra></extra>",
           "hovertext": [
            "Afghanistan",
            "Bangladesh",
            "Bolivia",
            "Burkina Faso",
            "Cameroon",
            "Central African Republic",
            "Chad",
            "Colombia",
            "El Salvador",
            "Ethiopia",
            "Guinea-Bissau",
            "Haiti",
            "Kenya",
            "Lesotho",
            "Liberia",
            "Madagascar",
            "Mali",
            "Myanmar",
            "Namibia",
            "Niger",
            "Nigeria",
            "Pakistan",
            "Sierra Leone",
            "Somalia",
            "South Sudan",
            "Sri Lanka",
            "Sudan",
            "Syrian Arab Republic",
            "Uganda",
            "Yemen"
           ],
           "locationmode": "ISO-3",
           "locations": [
            "AFG",
            "BGD",
            "BOL",
            "BFA",
            "CMR",
            "CAF",
            "TCD",
            "COL",
            "SLV",
            "ETH",
            "GNB",
            "HTI",
            "KEN",
            "LSO",
            "LBR",
            "MDG",
            "MLI",
            "MMR",
            "NAM",
            "NER",
            "NGA",
            "PAK",
            "SLE",
            "SOM",
            "SSD",
            "LKA",
            "SDN",
            "SYR",
            "UGA",
            "YEM"
           ],
           "name": "",
           "type": "choropleth",
           "z": {
            "bdata": "FQAAAAMIAAAAFAABAAEAAQMOAAAFBAAFHQADDgAD",
            "dtype": "i1"
           }
          }
         ],
         "name": "2021"
        },
        {
         "data": [
          {
           "coloraxis": "coloraxis",
           "geo": "geo",
           "hovertemplate": "<b>%{hovertext}</b><br><br>year=2022<br>ISO=%{location}<br>total.killed=%{z}<extra></extra>",
           "hovertext": [
            "Afghanistan",
            "Bangladesh",
            "Burkina Faso",
            "Cameroon",
            "Central African Republic",
            "Colombia",
            "Dominican Republic",
            "Egypt",
            "Ethiopia",
            "Haiti",
            "Honduras",
            "Iran, Islamic Republic of",
            "Iraq",
            "Kenya",
            "Lebanon",
            "Mali",
            "Mozambique",
            "Myanmar",
            "Niger",
            "Nigeria",
            "Pakistan",
            "Papua New Guinea",
            "Poland",
            "Somalia",
            "South Sudan",
            "Sudan",
            "Syrian Arab Republic",
            "Tanzania",
            "Tunisia",
            "Uganda",
            "Ukraine",
            "Venezuela",
            "Yemen"
           ],
           "locationmode": "ISO-3",
           "locations": [
            "AFG",
            "BGD",
            "BFA",
            "CMR",
            "CAF",
            "COL",
            "DOM",
            "EGY",
            "ETH",
            "HTI",
            "HND",
            "IRN",
            "IRQ",
            "KEN",
            "LBN",
            "MLI",
            "MOZ",
            "MMR",
            "NER",
            "NGA",
            "PAK",
            "PNG",
            "POL",
            "SOM",
            "SSD",
            "SDN",
            "SYR",
            "TZA",
            "TUN",
            "UGA",
            "UKR",
            "VEN",
            "YEM"
           ],
           "name": "",
           "type": "choropleth",
           "z": {
            "bdata": "CQICAAIBAAACAQAAAQEAAwEUAQEAAAAOFwoGAAABCgAA",
            "dtype": "i1"
           }
          }
         ],
         "name": "2022"
        },
        {
         "data": [
          {
           "coloraxis": "coloraxis",
           "geo": "geo",
           "hovertemplate": "<b>%{hovertext}</b><br><br>year=2023<br>ISO=%{location}<br>total.killed=%{z}<extra></extra>",
           "hovertext": [
            "Afghanistan",
            "Bangladesh",
            "Burkina Faso",
            "Central African Republic",
            "Colombia",
            "Ethiopia",
            "Guatemala",
            "Guinea-Bissau",
            "Haiti",
            "India",
            "Israel",
            "Kenya",
            "Lebanon",
            "Lesotho",
            "Mali",
            "Mozambique",
            "Myanmar",
            "Niger",
            "Nigeria",
            "Pakistan",
            "Rwanda",
            "Sierra Leone",
            "Somalia",
            "South Africa",
            "South Sudan",
            "Sri Lanka",
            "Sudan",
            "Syrian Arab Republic",
            "Tanzania",
            "Ukraine",
            "Yemen"
           ],
           "locationmode": "ISO-3",
           "locations": [
            "AFG",
            "BGD",
            "BFA",
            "CAF",
            "COL",
            "ETH",
            "GTM",
            "GNB",
            "HTI",
            "IND",
            "ISR",
            "KEN",
            "LBN",
            "LSO",
            "MLI",
            "MOZ",
            "MMR",
            "NER",
            "NGA",
            "PAK",
            "RWA",
            "SLE",
            "SOM",
            "ZAF",
            "SSD",
            "LKA",
            "SDN",
            "SYR",
            "TZA",
            "UKR",
            "YEM"
           ],
           "name": "",
           "type": "choropleth",
           "z": {
            "bdata": "AQIDAgAGAAAAAAcAAAEDAQQBAgAAAAUAIgAZBwAGAw==",
            "dtype": "i1"
           }
          }
         ],
         "name": "2023"
        },
        {
         "data": [
          {
           "coloraxis": "coloraxis",
           "geo": "geo",
           "hovertemplate": "<b>%{hovertext}</b><br><br>year=2024<br>ISO=%{location}<br>total.killed=%{z}<extra></extra>",
           "hovertext": [
            "Afghanistan",
            "Angola",
            "Burkina Faso",
            "Burundi",
            "Cameroon",
            "Central African Republic",
            "Chad",
            "Chile",
            "Colombia",
            "Ethiopia",
            "Guinea",
            "Haiti",
            "Iraq",
            "Jamaica",
            "Kenya",
            "Lebanon",
            "Mali",
            "Mozambique",
            "Myanmar",
            "Niger",
            "Nigeria",
            "Pakistan",
            "Poland",
            "Somalia",
            "South Sudan",
            "Sudan",
            "Syrian Arab Republic",
            "Ukraine",
            "Yemen"
           ],
           "locationmode": "ISO-3",
           "locations": [
            "AFG",
            "AGO",
            "BFA",
            "BDI",
            "CMR",
            "CAF",
            "TCD",
            "CHL",
            "COL",
            "ETH",
            "GIN",
            "HTI",
            "IRQ",
            "JAM",
            "KEN",
            "LBN",
            "MLI",
            "MOZ",
            "MMR",
            "NER",
            "NGA",
            "PAK",
            "POL",
            "SOM",
            "SSD",
            "SDN",
            "SYR",
            "UKR",
            "YEM"
           ],
           "name": "",
           "type": "choropleth",
           "z": {
            "bdata": "AAAFAAEAAQABCAEBAQAADwICCAENAAAJCTYOCwI=",
            "dtype": "i1"
           }
          }
         ],
         "name": "2024"
        },
        {
         "data": [
          {
           "coloraxis": "coloraxis",
           "geo": "geo",
           "hovertemplate": "<b>%{hovertext}</b><br><br>year=2025<br>ISO=%{location}<br>total.killed=%{z}<extra></extra>",
           "hovertext": [
            "Afghanistan",
            "Mali",
            "Myanmar",
            "Nigeria",
            "Pakistan",
            "South Sudan",
            "Sudan",
            "Syrian Arab Republic",
            "Ukraine",
            "Yemen"
           ],
           "locationmode": "ISO-3",
           "locations": [
            "AFG",
            "MLI",
            "MMR",
            "NGA",
            "PAK",
            "SSD",
            "SDN",
            "SYR",
            "UKR",
            "YEM"
           ],
           "name": "",
           "type": "choropleth",
           "z": {
            "bdata": "AAIBAgADBwIAAQ==",
            "dtype": "i1"
           }
          }
         ],
         "name": "2025"
        }
       ],
       "layout": {
        "coloraxis": {
         "colorbar": {
          "title": {
           "text": "total.killed"
          }
         },
         "colorscale": [
          [
           0,
           "rgb(255,245,240)"
          ],
          [
           0.125,
           "rgb(254,224,210)"
          ],
          [
           0.25,
           "rgb(252,187,161)"
          ],
          [
           0.375,
           "rgb(252,146,114)"
          ],
          [
           0.5,
           "rgb(251,106,74)"
          ],
          [
           0.625,
           "rgb(239,59,44)"
          ],
          [
           0.75,
           "rgb(203,24,29)"
          ],
          [
           0.875,
           "rgb(165,15,21)"
          ],
          [
           1,
           "rgb(103,0,13)"
          ]
         ]
        },
        "geo": {
         "center": {},
         "domain": {
          "x": [
           0,
           1
          ],
          "y": [
           0,
           1
          ]
         },
         "projection": {
          "type": "equirectangular"
         },
         "showcoastlines": true,
         "showframe": false
        },
        "legend": {
         "tracegroupgap": 0
        },
        "sliders": [
         {
          "active": 0,
          "currentvalue": {
           "prefix": "year="
          },
          "len": 0.9,
          "pad": {
           "b": 10,
           "t": 60
          },
          "steps": [
           {
            "args": [
             [
              "1997"
             ],
             {
              "frame": {
               "duration": 0,
               "redraw": true
              },
              "fromcurrent": true,
              "mode": "immediate",
              "transition": {
               "duration": 0,
               "easing": "linear"
              }
             }
            ],
            "label": "1997",
            "method": "animate"
           },
           {
            "args": [
             [
              "1998"
             ],
             {
              "frame": {
               "duration": 0,
               "redraw": true
              },
              "fromcurrent": true,
              "mode": "immediate",
              "transition": {
               "duration": 0,
               "easing": "linear"
              }
             }
            ],
            "label": "1998",
            "method": "animate"
           },
           {
            "args": [
             [
              "1999"
             ],
             {
              "frame": {
               "duration": 0,
               "redraw": true
              },
              "fromcurrent": true,
              "mode": "immediate",
              "transition": {
               "duration": 0,
               "easing": "linear"
              }
             }
            ],
            "label": "1999",
            "method": "animate"
           },
           {
            "args": [
             [
              "2000"
             ],
             {
              "frame": {
               "duration": 0,
               "redraw": true
              },
              "fromcurrent": true,
              "mode": "immediate",
              "transition": {
               "duration": 0,
               "easing": "linear"
              }
             }
            ],
            "label": "2000",
            "method": "animate"
           },
           {
            "args": [
             [
              "2001"
             ],
             {
              "frame": {
               "duration": 0,
               "redraw": true
              },
              "fromcurrent": true,
              "mode": "immediate",
              "transition": {
               "duration": 0,
               "easing": "linear"
              }
             }
            ],
            "label": "2001",
            "method": "animate"
           },
           {
            "args": [
             [
              "2002"
             ],
             {
              "frame": {
               "duration": 0,
               "redraw": true
              },
              "fromcurrent": true,
              "mode": "immediate",
              "transition": {
               "duration": 0,
               "easing": "linear"
              }
             }
            ],
            "label": "2002",
            "method": "animate"
           },
           {
            "args": [
             [
              "2003"
             ],
             {
              "frame": {
               "duration": 0,
               "redraw": true
              },
              "fromcurrent": true,
              "mode": "immediate",
              "transition": {
               "duration": 0,
               "easing": "linear"
              }
             }
            ],
            "label": "2003",
            "method": "animate"
           },
           {
            "args": [
             [
              "2004"
             ],
             {
              "frame": {
               "duration": 0,
               "redraw": true
              },
              "fromcurrent": true,
              "mode": "immediate",
              "transition": {
               "duration": 0,
               "easing": "linear"
              }
             }
            ],
            "label": "2004",
            "method": "animate"
           },
           {
            "args": [
             [
              "2005"
             ],
             {
              "frame": {
               "duration": 0,
               "redraw": true
              },
              "fromcurrent": true,
              "mode": "immediate",
              "transition": {
               "duration": 0,
               "easing": "linear"
              }
             }
            ],
            "label": "2005",
            "method": "animate"
           },
           {
            "args": [
             [
              "2006"
             ],
             {
              "frame": {
               "duration": 0,
               "redraw": true
              },
              "fromcurrent": true,
              "mode": "immediate",
              "transition": {
               "duration": 0,
               "easing": "linear"
              }
             }
            ],
            "label": "2006",
            "method": "animate"
           },
           {
            "args": [
             [
              "2007"
             ],
             {
              "frame": {
               "duration": 0,
               "redraw": true
              },
              "fromcurrent": true,
              "mode": "immediate",
              "transition": {
               "duration": 0,
               "easing": "linear"
              }
             }
            ],
            "label": "2007",
            "method": "animate"
           },
           {
            "args": [
             [
              "2008"
             ],
             {
              "frame": {
               "duration": 0,
               "redraw": true
              },
              "fromcurrent": true,
              "mode": "immediate",
              "transition": {
               "duration": 0,
               "easing": "linear"
              }
             }
            ],
            "label": "2008",
            "method": "animate"
           },
           {
            "args": [
             [
              "2009"
             ],
             {
              "frame": {
               "duration": 0,
               "redraw": true
              },
              "fromcurrent": true,
              "mode": "immediate",
              "transition": {
               "duration": 0,
               "easing": "linear"
              }
             }
            ],
            "label": "2009",
            "method": "animate"
           },
           {
            "args": [
             [
              "2010"
             ],
             {
              "frame": {
               "duration": 0,
               "redraw": true
              },
              "fromcurrent": true,
              "mode": "immediate",
              "transition": {
               "duration": 0,
               "easing": "linear"
              }
             }
            ],
            "label": "2010",
            "method": "animate"
           },
           {
            "args": [
             [
              "2011"
             ],
             {
              "frame": {
               "duration": 0,
               "redraw": true
              },
              "fromcurrent": true,
              "mode": "immediate",
              "transition": {
               "duration": 0,
               "easing": "linear"
              }
             }
            ],
            "label": "2011",
            "method": "animate"
           },
           {
            "args": [
             [
              "2012"
             ],
             {
              "frame": {
               "duration": 0,
               "redraw": true
              },
              "fromcurrent": true,
              "mode": "immediate",
              "transition": {
               "duration": 0,
               "easing": "linear"
              }
             }
            ],
            "label": "2012",
            "method": "animate"
           },
           {
            "args": [
             [
              "2013"
             ],
             {
              "frame": {
               "duration": 0,
               "redraw": true
              },
              "fromcurrent": true,
              "mode": "immediate",
              "transition": {
               "duration": 0,
               "easing": "linear"
              }
             }
            ],
            "label": "2013",
            "method": "animate"
           },
           {
            "args": [
             [
              "2014"
             ],
             {
              "frame": {
               "duration": 0,
               "redraw": true
              },
              "fromcurrent": true,
              "mode": "immediate",
              "transition": {
               "duration": 0,
               "easing": "linear"
              }
             }
            ],
            "label": "2014",
            "method": "animate"
           },
           {
            "args": [
             [
              "2015"
             ],
             {
              "frame": {
               "duration": 0,
               "redraw": true
              },
              "fromcurrent": true,
              "mode": "immediate",
              "transition": {
               "duration": 0,
               "easing": "linear"
              }
             }
            ],
            "label": "2015",
            "method": "animate"
           },
           {
            "args": [
             [
              "2016"
             ],
             {
              "frame": {
               "duration": 0,
               "redraw": true
              },
              "fromcurrent": true,
              "mode": "immediate",
              "transition": {
               "duration": 0,
               "easing": "linear"
              }
             }
            ],
            "label": "2016",
            "method": "animate"
           },
           {
            "args": [
             [
              "2017"
             ],
             {
              "frame": {
               "duration": 0,
               "redraw": true
              },
              "fromcurrent": true,
              "mode": "immediate",
              "transition": {
               "duration": 0,
               "easing": "linear"
              }
             }
            ],
            "label": "2017",
            "method": "animate"
           },
           {
            "args": [
             [
              "2018"
             ],
             {
              "frame": {
               "duration": 0,
               "redraw": true
              },
              "fromcurrent": true,
              "mode": "immediate",
              "transition": {
               "duration": 0,
               "easing": "linear"
              }
             }
            ],
            "label": "2018",
            "method": "animate"
           },
           {
            "args": [
             [
              "2019"
             ],
             {
              "frame": {
               "duration": 0,
               "redraw": true
              },
              "fromcurrent": true,
              "mode": "immediate",
              "transition": {
               "duration": 0,
               "easing": "linear"
              }
             }
            ],
            "label": "2019",
            "method": "animate"
           },
           {
            "args": [
             [
              "2020"
             ],
             {
              "frame": {
               "duration": 0,
               "redraw": true
              },
              "fromcurrent": true,
              "mode": "immediate",
              "transition": {
               "duration": 0,
               "easing": "linear"
              }
             }
            ],
            "label": "2020",
            "method": "animate"
           },
           {
            "args": [
             [
              "2021"
             ],
             {
              "frame": {
               "duration": 0,
               "redraw": true
              },
              "fromcurrent": true,
              "mode": "immediate",
              "transition": {
               "duration": 0,
               "easing": "linear"
              }
             }
            ],
            "label": "2021",
            "method": "animate"
           },
           {
            "args": [
             [
              "2022"
             ],
             {
              "frame": {
               "duration": 0,
               "redraw": true
              },
              "fromcurrent": true,
              "mode": "immediate",
              "transition": {
               "duration": 0,
               "easing": "linear"
              }
             }
            ],
            "label": "2022",
            "method": "animate"
           },
           {
            "args": [
             [
              "2023"
             ],
             {
              "frame": {
               "duration": 0,
               "redraw": true
              },
              "fromcurrent": true,
              "mode": "immediate",
              "transition": {
               "duration": 0,
               "easing": "linear"
              }
             }
            ],
            "label": "2023",
            "method": "animate"
           },
           {
            "args": [
             [
              "2024"
             ],
             {
              "frame": {
               "duration": 0,
               "redraw": true
              },
              "fromcurrent": true,
              "mode": "immediate",
              "transition": {
               "duration": 0,
               "easing": "linear"
              }
             }
            ],
            "label": "2024",
            "method": "animate"
           },
           {
            "args": [
             [
              "2025"
             ],
             {
              "frame": {
               "duration": 0,
               "redraw": true
              },
              "fromcurrent": true,
              "mode": "immediate",
              "transition": {
               "duration": 0,
               "easing": "linear"
              }
             }
            ],
            "label": "2025",
            "method": "animate"
           }
          ],
          "x": 0.1,
          "xanchor": "left",
          "y": 0,
          "yanchor": "top"
         }
        ],
        "template": {
         "data": {
          "bar": [
           {
            "error_x": {
             "color": "#2a3f5f"
            },
            "error_y": {
             "color": "#2a3f5f"
            },
            "marker": {
             "line": {
              "color": "#E5ECF6",
              "width": 0.5
             },
             "pattern": {
              "fillmode": "overlay",
              "size": 10,
              "solidity": 0.2
             }
            },
            "type": "bar"
           }
          ],
          "barpolar": [
           {
            "marker": {
             "line": {
              "color": "#E5ECF6",
              "width": 0.5
             },
             "pattern": {
              "fillmode": "overlay",
              "size": 10,
              "solidity": 0.2
             }
            },
            "type": "barpolar"
           }
          ],
          "carpet": [
           {
            "aaxis": {
             "endlinecolor": "#2a3f5f",
             "gridcolor": "white",
             "linecolor": "white",
             "minorgridcolor": "white",
             "startlinecolor": "#2a3f5f"
            },
            "baxis": {
             "endlinecolor": "#2a3f5f",
             "gridcolor": "white",
             "linecolor": "white",
             "minorgridcolor": "white",
             "startlinecolor": "#2a3f5f"
            },
            "type": "carpet"
           }
          ],
          "choropleth": [
           {
            "colorbar": {
             "outlinewidth": 0,
             "ticks": ""
            },
            "type": "choropleth"
           }
          ],
          "contour": [
           {
            "colorbar": {
             "outlinewidth": 0,
             "ticks": ""
            },
            "colorscale": [
             [
              0,
              "#0d0887"
             ],
             [
              0.1111111111111111,
              "#46039f"
             ],
             [
              0.2222222222222222,
              "#7201a8"
             ],
             [
              0.3333333333333333,
              "#9c179e"
             ],
             [
              0.4444444444444444,
              "#bd3786"
             ],
             [
              0.5555555555555556,
              "#d8576b"
             ],
             [
              0.6666666666666666,
              "#ed7953"
             ],
             [
              0.7777777777777778,
              "#fb9f3a"
             ],
             [
              0.8888888888888888,
              "#fdca26"
             ],
             [
              1,
              "#f0f921"
             ]
            ],
            "type": "contour"
           }
          ],
          "contourcarpet": [
           {
            "colorbar": {
             "outlinewidth": 0,
             "ticks": ""
            },
            "type": "contourcarpet"
           }
          ],
          "heatmap": [
           {
            "colorbar": {
             "outlinewidth": 0,
             "ticks": ""
            },
            "colorscale": [
             [
              0,
              "#0d0887"
             ],
             [
              0.1111111111111111,
              "#46039f"
             ],
             [
              0.2222222222222222,
              "#7201a8"
             ],
             [
              0.3333333333333333,
              "#9c179e"
             ],
             [
              0.4444444444444444,
              "#bd3786"
             ],
             [
              0.5555555555555556,
              "#d8576b"
             ],
             [
              0.6666666666666666,
              "#ed7953"
             ],
             [
              0.7777777777777778,
              "#fb9f3a"
             ],
             [
              0.8888888888888888,
              "#fdca26"
             ],
             [
              1,
              "#f0f921"
             ]
            ],
            "type": "heatmap"
           }
          ],
          "histogram": [
           {
            "marker": {
             "pattern": {
              "fillmode": "overlay",
              "size": 10,
              "solidity": 0.2
             }
            },
            "type": "histogram"
           }
          ],
          "histogram2d": [
           {
            "colorbar": {
             "outlinewidth": 0,
             "ticks": ""
            },
            "colorscale": [
             [
              0,
              "#0d0887"
             ],
             [
              0.1111111111111111,
              "#46039f"
             ],
             [
              0.2222222222222222,
              "#7201a8"
             ],
             [
              0.3333333333333333,
              "#9c179e"
             ],
             [
              0.4444444444444444,
              "#bd3786"
             ],
             [
              0.5555555555555556,
              "#d8576b"
             ],
             [
              0.6666666666666666,
              "#ed7953"
             ],
             [
              0.7777777777777778,
              "#fb9f3a"
             ],
             [
              0.8888888888888888,
              "#fdca26"
             ],
             [
              1,
              "#f0f921"
             ]
            ],
            "type": "histogram2d"
           }
          ],
          "histogram2dcontour": [
           {
            "colorbar": {
             "outlinewidth": 0,
             "ticks": ""
            },
            "colorscale": [
             [
              0,
              "#0d0887"
             ],
             [
              0.1111111111111111,
              "#46039f"
             ],
             [
              0.2222222222222222,
              "#7201a8"
             ],
             [
              0.3333333333333333,
              "#9c179e"
             ],
             [
              0.4444444444444444,
              "#bd3786"
             ],
             [
              0.5555555555555556,
              "#d8576b"
             ],
             [
              0.6666666666666666,
              "#ed7953"
             ],
             [
              0.7777777777777778,
              "#fb9f3a"
             ],
             [
              0.8888888888888888,
              "#fdca26"
             ],
             [
              1,
              "#f0f921"
             ]
            ],
            "type": "histogram2dcontour"
           }
          ],
          "mesh3d": [
           {
            "colorbar": {
             "outlinewidth": 0,
             "ticks": ""
            },
            "type": "mesh3d"
           }
          ],
          "parcoords": [
           {
            "line": {
             "colorbar": {
              "outlinewidth": 0,
              "ticks": ""
             }
            },
            "type": "parcoords"
           }
          ],
          "pie": [
           {
            "automargin": true,
            "type": "pie"
           }
          ],
          "scatter": [
           {
            "fillpattern": {
             "fillmode": "overlay",
             "size": 10,
             "solidity": 0.2
            },
            "type": "scatter"
           }
          ],
          "scatter3d": [
           {
            "line": {
             "colorbar": {
              "outlinewidth": 0,
              "ticks": ""
             }
            },
            "marker": {
             "colorbar": {
              "outlinewidth": 0,
              "ticks": ""
             }
            },
            "type": "scatter3d"
           }
          ],
          "scattercarpet": [
           {
            "marker": {
             "colorbar": {
              "outlinewidth": 0,
              "ticks": ""
             }
            },
            "type": "scattercarpet"
           }
          ],
          "scattergeo": [
           {
            "marker": {
             "colorbar": {
              "outlinewidth": 0,
              "ticks": ""
             }
            },
            "type": "scattergeo"
           }
          ],
          "scattergl": [
           {
            "marker": {
             "colorbar": {
              "outlinewidth": 0,
              "ticks": ""
             }
            },
            "type": "scattergl"
           }
          ],
          "scattermap": [
           {
            "marker": {
             "colorbar": {
              "outlinewidth": 0,
              "ticks": ""
             }
            },
            "type": "scattermap"
           }
          ],
          "scattermapbox": [
           {
            "marker": {
             "colorbar": {
              "outlinewidth": 0,
              "ticks": ""
             }
            },
            "type": "scattermapbox"
           }
          ],
          "scatterpolar": [
           {
            "marker": {
             "colorbar": {
              "outlinewidth": 0,
              "ticks": ""
             }
            },
            "type": "scatterpolar"
           }
          ],
          "scatterpolargl": [
           {
            "marker": {
             "colorbar": {
              "outlinewidth": 0,
              "ticks": ""
             }
            },
            "type": "scatterpolargl"
           }
          ],
          "scatterternary": [
           {
            "marker": {
             "colorbar": {
              "outlinewidth": 0,
              "ticks": ""
             }
            },
            "type": "scatterternary"
           }
          ],
          "surface": [
           {
            "colorbar": {
             "outlinewidth": 0,
             "ticks": ""
            },
            "colorscale": [
             [
              0,
              "#0d0887"
             ],
             [
              0.1111111111111111,
              "#46039f"
             ],
             [
              0.2222222222222222,
              "#7201a8"
             ],
             [
              0.3333333333333333,
              "#9c179e"
             ],
             [
              0.4444444444444444,
              "#bd3786"
             ],
             [
              0.5555555555555556,
              "#d8576b"
             ],
             [
              0.6666666666666666,
              "#ed7953"
             ],
             [
              0.7777777777777778,
              "#fb9f3a"
             ],
             [
              0.8888888888888888,
              "#fdca26"
             ],
             [
              1,
              "#f0f921"
             ]
            ],
            "type": "surface"
           }
          ],
          "table": [
           {
            "cells": {
             "fill": {
              "color": "#EBF0F8"
             },
             "line": {
              "color": "white"
             }
            },
            "header": {
             "fill": {
              "color": "#C8D4E3"
             },
             "line": {
              "color": "white"
             }
            },
            "type": "table"
           }
          ]
         },
         "layout": {
          "annotationdefaults": {
           "arrowcolor": "#2a3f5f",
           "arrowhead": 0,
           "arrowwidth": 1
          },
          "autotypenumbers": "strict",
          "coloraxis": {
           "colorbar": {
            "outlinewidth": 0,
            "ticks": ""
           }
          },
          "colorscale": {
           "diverging": [
            [
             0,
             "#8e0152"
            ],
            [
             0.1,
             "#c51b7d"
            ],
            [
             0.2,
             "#de77ae"
            ],
            [
             0.3,
             "#f1b6da"
            ],
            [
             0.4,
             "#fde0ef"
            ],
            [
             0.5,
             "#f7f7f7"
            ],
            [
             0.6,
             "#e6f5d0"
            ],
            [
             0.7,
             "#b8e186"
            ],
            [
             0.8,
             "#7fbc41"
            ],
            [
             0.9,
             "#4d9221"
            ],
            [
             1,
             "#276419"
            ]
           ],
           "sequential": [
            [
             0,
             "#0d0887"
            ],
            [
             0.1111111111111111,
             "#46039f"
            ],
            [
             0.2222222222222222,
             "#7201a8"
            ],
            [
             0.3333333333333333,
             "#9c179e"
            ],
            [
             0.4444444444444444,
             "#bd3786"
            ],
            [
             0.5555555555555556,
             "#d8576b"
            ],
            [
             0.6666666666666666,
             "#ed7953"
            ],
            [
             0.7777777777777778,
             "#fb9f3a"
            ],
            [
             0.8888888888888888,
             "#fdca26"
            ],
            [
             1,
             "#f0f921"
            ]
           ],
           "sequentialminus": [
            [
             0,
             "#0d0887"
            ],
            [
             0.1111111111111111,
             "#46039f"
            ],
            [
             0.2222222222222222,
             "#7201a8"
            ],
            [
             0.3333333333333333,
             "#9c179e"
            ],
            [
             0.4444444444444444,
             "#bd3786"
            ],
            [
             0.5555555555555556,
             "#d8576b"
            ],
            [
             0.6666666666666666,
             "#ed7953"
            ],
            [
             0.7777777777777778,
             "#fb9f3a"
            ],
            [
             0.8888888888888888,
             "#fdca26"
            ],
            [
             1,
             "#f0f921"
            ]
           ]
          },
          "colorway": [
           "#636efa",
           "#EF553B",
           "#00cc96",
           "#ab63fa",
           "#FFA15A",
           "#19d3f3",
           "#FF6692",
           "#B6E880",
           "#FF97FF",
           "#FECB52"
          ],
          "font": {
           "color": "#2a3f5f"
          },
          "geo": {
           "bgcolor": "white",
           "lakecolor": "white",
           "landcolor": "#E5ECF6",
           "showlakes": true,
           "showland": true,
           "subunitcolor": "white"
          },
          "hoverlabel": {
           "align": "left"
          },
          "hovermode": "closest",
          "mapbox": {
           "style": "light"
          },
          "paper_bgcolor": "white",
          "plot_bgcolor": "#E5ECF6",
          "polar": {
           "angularaxis": {
            "gridcolor": "white",
            "linecolor": "white",
            "ticks": ""
           },
           "bgcolor": "#E5ECF6",
           "radialaxis": {
            "gridcolor": "white",
            "linecolor": "white",
            "ticks": ""
           }
          },
          "scene": {
           "xaxis": {
            "backgroundcolor": "#E5ECF6",
            "gridcolor": "white",
            "gridwidth": 2,
            "linecolor": "white",
            "showbackground": true,
            "ticks": "",
            "zerolinecolor": "white"
           },
           "yaxis": {
            "backgroundcolor": "#E5ECF6",
            "gridcolor": "white",
            "gridwidth": 2,
            "linecolor": "white",
            "showbackground": true,
            "ticks": "",
            "zerolinecolor": "white"
           },
           "zaxis": {
            "backgroundcolor": "#E5ECF6",
            "gridcolor": "white",
            "gridwidth": 2,
            "linecolor": "white",
            "showbackground": true,
            "ticks": "",
            "zerolinecolor": "white"
           }
          },
          "shapedefaults": {
           "line": {
            "color": "#2a3f5f"
           }
          },
          "ternary": {
           "aaxis": {
            "gridcolor": "white",
            "linecolor": "white",
            "ticks": ""
           },
           "baxis": {
            "gridcolor": "white",
            "linecolor": "white",
            "ticks": ""
           },
           "bgcolor": "#E5ECF6",
           "caxis": {
            "gridcolor": "white",
            "linecolor": "white",
            "ticks": ""
           }
          },
          "title": {
           "x": 0.05
          },
          "xaxis": {
           "automargin": true,
           "gridcolor": "white",
           "linecolor": "white",
           "ticks": "",
           "title": {
            "standoff": 15
           },
           "zerolinecolor": "white",
           "zerolinewidth": 2
          },
          "yaxis": {
           "automargin": true,
           "gridcolor": "white",
           "linecolor": "white",
           "ticks": "",
           "title": {
            "standoff": 15
           },
           "zerolinecolor": "white",
           "zerolinewidth": 2
          }
         }
        },
        "title": {
         "text": "Total Humanitarian Workers Killed by Country (1997–2025)",
         "x": 0.5
        },
        "updatemenus": [
         {
          "buttons": [
           {
            "args": [
             null,
             {
              "frame": {
               "duration": 500,
               "redraw": true
              },
              "fromcurrent": true,
              "mode": "immediate",
              "transition": {
               "duration": 500,
               "easing": "linear"
              }
             }
            ],
            "label": "&#9654;",
            "method": "animate"
           },
           {
            "args": [
             [
              null
             ],
             {
              "frame": {
               "duration": 0,
               "redraw": true
              },
              "fromcurrent": true,
              "mode": "immediate",
              "transition": {
               "duration": 0,
               "easing": "linear"
              }
             }
            ],
            "label": "&#9724;",
            "method": "animate"
           }
          ],
          "direction": "left",
          "pad": {
           "r": 10,
           "t": 70
          },
          "showactive": false,
          "type": "buttons",
          "x": 0.1,
          "xanchor": "right",
          "y": 0,
          "yanchor": "top"
         }
        ]
       }
      }
     },
     "metadata": {},
     "output_type": "display_data"
    }
   ],
   "source": [
    "import plotly.express as px\n",
    "import plotly.graph_objects as go\n",
    "\n",
    "# --- Step 1: Create your base choropleth map (you can reuse your earlier code) ---\n",
    "fig = px.choropleth(\n",
    "    df_grouped,\n",
    "    locations='ISO',\n",
    "    locationmode='ISO-3',\n",
    "    color='total.killed',\n",
    "    hover_name='country',\n",
    "    animation_frame='year',\n",
    "    color_continuous_scale='Reds',\n",
    "    title='Total Humanitarian Workers Killed by Country (1997–2025)'\n",
    ")\n",
    "\n",
    "\n",
    "# --- Step 2: Select top 10 most affected events ---\n",
    "top10 = df.sort_values(by='total.affected', ascending=False).head(10)\n",
    "\n",
    "# --- Step 3: Add red circle markers on top ---\n",
    "fig.add_trace(go.Scattergeo(\n",
    "    lon=top10['longitude'],\n",
    "    lat=top10['latitude'],\n",
    "    text=top10['country'],  # optional: text when hovering\n",
    "    marker=dict(\n",
    "        size=12,\n",
    "        color='red',\n",
    "        opacity=0.8,\n",
    "        symbol='circle'\n",
    "    ),\n",
    "    name='Top 10 Events'\n",
    "))\n",
    "\n",
    "# --- Step 4: Update layout to include both layers ---\n",
    "fig.update_layout(\n",
    "    geo=dict(\n",
    "        showframe=False,\n",
    "        showcoastlines=True,\n",
    "        projection_type='equirectangular'\n",
    "    ),\n",
    "    title_x=0.5\n",
    ")\n",
    "\n",
    "fig.show()\n"
   ]
  },
  {
   "cell_type": "code",
   "execution_count": 31,
   "metadata": {},
   "outputs": [
    {
     "name": "stderr",
     "output_type": "stream",
     "text": [
      "/opt/anaconda3/envs/dataviz5200/lib/python3.13/site-packages/_plotly_utils/basevalidators.py:2596: DeprecationWarning:\n",
      "\n",
      "*scattermapbox* is deprecated! Use *scattermap* instead. Learn more at: https://plotly.com/python/mapbox-to-maplibre/\n",
      "\n"
     ]
    },
    {
     "data": {
      "application/vnd.plotly.v1+json": {
       "config": {
        "plotlyServerURL": "https://plot.ly"
       },
       "data": [
        {
         "coloraxis": "coloraxis",
         "geo": "geo",
         "hovertemplate": "<b>%{hovertext}</b><br><br>year=1997<br>ISO=%{location}<br>total.affected=%{z}<extra></extra>",
         "hovertext": [
          "Afghanistan",
          "Angola",
          "Bangladesh",
          "Cambodia",
          "Congo",
          "DR Congo",
          "Ethiopia",
          "Rwanda",
          "Sierra Leone",
          "Somalia",
          "South Sudan",
          "Tajikistan"
         ],
         "locationmode": "ISO-3",
         "locations": [
          "AFG",
          "AGO",
          "BGD",
          "KHM",
          "COG",
          "COD",
          "ETH",
          "RWA",
          "SLE",
          "SOM",
          "SSD",
          "TJK"
         ],
         "name": "",
         "type": "choropleth",
         "z": {
          "bdata": "AQMBAQMKAgoDDwEI",
          "dtype": "i1"
         }
        }
       ],
       "frames": [
        {
         "data": [
          {
           "colorscale": [
            [
             0,
             "rgb(255,245,240)"
            ],
            [
             0.125,
             "rgb(254,224,210)"
            ],
            [
             0.25,
             "rgb(252,187,161)"
            ],
            [
             0.375,
             "rgb(252,146,114)"
            ],
            [
             0.5,
             "rgb(251,106,74)"
            ],
            [
             0.625,
             "rgb(239,59,44)"
            ],
            [
             0.75,
             "rgb(203,24,29)"
            ],
            [
             0.875,
             "rgb(165,15,21)"
            ],
            [
             1,
             "rgb(103,0,13)"
            ]
           ],
           "locationmode": "ISO-3",
           "locations": [
            "AFG",
            "AGO",
            "BGD",
            "KHM",
            "COG",
            "COD",
            "ETH",
            "RWA",
            "SLE",
            "SOM",
            "SSD",
            "TJK"
           ],
           "showscale": true,
           "type": "choropleth",
           "z": {
            "bdata": "AQMBAQMKAgoDDwEI",
            "dtype": "i1"
           }
          },
          {
           "hoverinfo": "text",
           "lat": [],
           "lon": [],
           "marker": {
            "color": [],
            "line": {
             "color": "rgba(255, 255, 255, 0.5)",
             "width": 1
            },
            "size": []
           },
           "mode": "markers",
           "name": "Attacks through 1997",
           "text": [],
           "type": "scattergeo"
          }
         ],
         "name": "1997"
        },
        {
         "data": [
          {
           "colorscale": [
            [
             0,
             "rgb(255,245,240)"
            ],
            [
             0.125,
             "rgb(254,224,210)"
            ],
            [
             0.25,
             "rgb(252,187,161)"
            ],
            [
             0.375,
             "rgb(252,146,114)"
            ],
            [
             0.5,
             "rgb(251,106,74)"
            ],
            [
             0.625,
             "rgb(239,59,44)"
            ],
            [
             0.75,
             "rgb(203,24,29)"
            ],
            [
             0.875,
             "rgb(165,15,21)"
            ],
            [
             1,
             "rgb(103,0,13)"
            ]
           ],
           "locationmode": "ISO-3",
           "locations": [
            "AFG",
            "AGO",
            "BDI",
            "COD",
            "ETH",
            "RWA",
            "SLE",
            "SOM",
            "LKA",
            "SDN",
            "UGA"
           ],
           "showscale": true,
           "type": "choropleth",
           "z": {
            "bdata": "AwUGAQYDARIBBwI=",
            "dtype": "i1"
           }
          },
          {
           "hoverinfo": "text",
           "lat": [],
           "lon": [],
           "marker": {
            "color": [],
            "line": {
             "color": "rgba(255, 255, 255, 0.5)",
             "width": 1
            },
            "size": []
           },
           "mode": "markers",
           "name": "Attacks through 1998",
           "text": [],
           "type": "scattergeo"
          }
         ],
         "name": "1998"
        },
        {
         "data": [
          {
           "colorscale": [
            [
             0,
             "rgb(255,245,240)"
            ],
            [
             0.125,
             "rgb(254,224,210)"
            ],
            [
             0.25,
             "rgb(252,187,161)"
            ],
            [
             0.375,
             "rgb(252,146,114)"
            ],
            [
             0.5,
             "rgb(251,106,74)"
            ],
            [
             0.625,
             "rgb(239,59,44)"
            ],
            [
             0.75,
             "rgb(203,24,29)"
            ],
            [
             0.875,
             "rgb(165,15,21)"
            ],
            [
             1,
             "rgb(103,0,13)"
            ]
           ],
           "locationmode": "ISO-3",
           "locations": [
            "AFG",
            "AGO",
            "BDI",
            "COL",
            "ETH",
            "IDN",
            "KEN",
            "LBR",
            "SLE",
            "SOM",
            "SDN",
            "TJK",
            "YEM"
           ],
           "showscale": true,
           "type": "choropleth",
           "z": {
            "bdata": "AQ0FAQEHAQYDCgkBBA==",
            "dtype": "i1"
           }
          },
          {
           "hoverinfo": "text",
           "lat": [],
           "lon": [],
           "marker": {
            "color": [],
            "line": {
             "color": "rgba(255, 255, 255, 0.5)",
             "width": 1
            },
            "size": []
           },
           "mode": "markers",
           "name": "Attacks through 1999",
           "text": [],
           "type": "scattergeo"
          }
         ],
         "name": "1999"
        },
        {
         "data": [
          {
           "colorscale": [
            [
             0,
             "rgb(255,245,240)"
            ],
            [
             0.125,
             "rgb(254,224,210)"
            ],
            [
             0.25,
             "rgb(252,187,161)"
            ],
            [
             0.375,
             "rgb(252,146,114)"
            ],
            [
             0.5,
             "rgb(251,106,74)"
            ],
            [
             0.625,
             "rgb(239,59,44)"
            ],
            [
             0.75,
             "rgb(203,24,29)"
            ],
            [
             0.875,
             "rgb(165,15,21)"
            ],
            [
             1,
             "rgb(103,0,13)"
            ]
           ],
           "locationmode": "ISO-3",
           "locations": [
            "AFG",
            "AGO",
            "BDI",
            "COL",
            "COD",
            "ETH",
            "GEO",
            "GIN",
            "IDN",
            "IRQ",
            "KEN",
            "MOZ",
            "RWA",
            "SLE",
            "SOM",
            "SDN"
           ],
           "showscale": true,
           "type": "choropleth",
           "z": {
            "bdata": "CQcBAQYCAwQKCAEBAQEQDw==",
            "dtype": "i1"
           }
          },
          {
           "hoverinfo": "text",
           "lat": [],
           "lon": [],
           "marker": {
            "color": [],
            "line": {
             "color": "rgba(255, 255, 255, 0.5)",
             "width": 1
            },
            "size": []
           },
           "mode": "markers",
           "name": "Attacks through 2000",
           "text": [],
           "type": "scattergeo"
          }
         ],
         "name": "2000"
        },
        {
         "data": [
          {
           "colorscale": [
            [
             0,
             "rgb(255,245,240)"
            ],
            [
             0.125,
             "rgb(254,224,210)"
            ],
            [
             0.25,
             "rgb(252,187,161)"
            ],
            [
             0.375,
             "rgb(252,146,114)"
            ],
            [
             0.5,
             "rgb(251,106,74)"
            ],
            [
             0.625,
             "rgb(239,59,44)"
            ],
            [
             0.75,
             "rgb(203,24,29)"
            ],
            [
             0.875,
             "rgb(165,15,21)"
            ],
            [
             1,
             "rgb(103,0,13)"
            ]
           ],
           "locationmode": "ISO-3",
           "locations": [
            "AFG",
            "AGO",
            "BDI",
            "CMR",
            "CAF",
            "COD",
            "FJI",
            "IDN",
            "MDG",
            "PAK",
            "SOM",
            "SDN",
            "TJK"
           ],
           "showscale": true,
           "type": "choropleth",
           "z": {
            "bdata": "BgMPAQEKAQEBARMGDw==",
            "dtype": "i1"
           }
          },
          {
           "hoverinfo": "text",
           "lat": {
            "bdata": "NtyR+2dQQ0A=",
            "dtype": "f8"
           },
           "lon": {
            "bdata": "SxZBrTO0UUA=",
            "dtype": "f8"
           },
           "marker": {
            "color": [
             "rgba(255, 0, 0, 0.9)"
            ],
            "line": {
             "color": "rgba(255, 255, 255, 0.5)",
             "width": 1
            },
            "size": {
             "bdata": "AAAAAAAAJEA=",
             "dtype": "f8"
            }
           },
           "mode": "markers",
           "name": "Attacks through 2001",
           "text": [
            "Date: 6.0/nan/2001<br>Country: Tajikistan<br>Location: Unknown<br>Total Affected: 15<br>Killed: 0<br>Wounded: 0<br>Kidnapped: 15<br>Years Ago: 0"
           ],
           "type": "scattergeo"
          }
         ],
         "name": "2001"
        },
        {
         "data": [
          {
           "colorscale": [
            [
             0,
             "rgb(255,245,240)"
            ],
            [
             0.125,
             "rgb(254,224,210)"
            ],
            [
             0.25,
             "rgb(252,187,161)"
            ],
            [
             0.375,
             "rgb(252,146,114)"
            ],
            [
             0.5,
             "rgb(251,106,74)"
            ],
            [
             0.625,
             "rgb(239,59,44)"
            ],
            [
             0.75,
             "rgb(203,24,29)"
            ],
            [
             0.875,
             "rgb(165,15,21)"
            ],
            [
             1,
             "rgb(103,0,13)"
            ]
           ],
           "locationmode": "ISO-3",
           "locations": [
            "AFG",
            "AGO",
            "BDI",
            "COL",
            "COG",
            "COD",
            "IRQ",
            "JOR",
            "LBR",
            "PSE",
            "SOM",
            "ZAF",
            "SSD",
            "SDN",
            "UGA",
            "YEM"
           ],
           "showscale": true,
           "type": "choropleth",
           "z": {
            "bdata": "CA4DBAIEAQIBCggBBAIHAw==",
            "dtype": "i1"
           }
          },
          {
           "hoverinfo": "text",
           "lat": {
            "bdata": "NtyR+2dQQ0A=",
            "dtype": "f8"
           },
           "lon": {
            "bdata": "SxZBrTO0UUA=",
            "dtype": "f8"
           },
           "marker": {
            "color": [
             "rgba(204, 0, 0, 0.8)"
            ],
            "line": {
             "color": "rgba(255, 255, 255, 0.5)",
             "width": 1
            },
            "size": {
             "bdata": "AAAAAAAAJEA=",
             "dtype": "f8"
            }
           },
           "mode": "markers",
           "name": "Attacks through 2002",
           "text": [
            "Date: 6.0/nan/2001<br>Country: Tajikistan<br>Location: Unknown<br>Total Affected: 15<br>Killed: 0<br>Wounded: 0<br>Kidnapped: 15<br>Years Ago: 1"
           ],
           "type": "scattergeo"
          }
         ],
         "name": "2002"
        },
        {
         "data": [
          {
           "colorscale": [
            [
             0,
             "rgb(255,245,240)"
            ],
            [
             0.125,
             "rgb(254,224,210)"
            ],
            [
             0.25,
             "rgb(252,187,161)"
            ],
            [
             0.375,
             "rgb(252,146,114)"
            ],
            [
             0.5,
             "rgb(251,106,74)"
            ],
            [
             0.625,
             "rgb(239,59,44)"
            ],
            [
             0.75,
             "rgb(203,24,29)"
            ],
            [
             0.875,
             "rgb(165,15,21)"
            ],
            [
             1,
             "rgb(103,0,13)"
            ]
           ],
           "locationmode": "ISO-3",
           "locations": [
            "AFG",
            "AGO",
            "BDI",
            "CIV",
            "COD",
            "ERI",
            "IRQ",
            "KEN",
            "LBR",
            "PSE",
            "PHL",
            "SEN",
            "SOM",
            "ZAF",
            "SSD",
            "SDN",
            "UGA"
           ],
           "showscale": true,
           "type": "choropleth",
           "z": {
            "bdata": "FgcEBQoDMQEHAwECCAEBCwI=",
            "dtype": "i1"
           }
          },
          {
           "hoverinfo": "text",
           "lat": {
            "bdata": "6r8Y27WmQEA23JH7Z1BDQA==",
            "dtype": "f8"
           },
           "lon": {
            "bdata": "IOD/fXwwRkBLFkGtM7RRQA==",
            "dtype": "f8"
           },
           "marker": {
            "color": [
             "rgba(255, 0, 0, 0.9)",
             "rgba(153, 0, 0, 0.7)"
            ],
            "line": {
             "color": "rgba(255, 255, 255, 0.5)",
             "width": 1
            },
            "size": {
             "bdata": "nJWfEGflJ0AAAAAAAAAkQA==",
             "dtype": "f8"
            }
           },
           "mode": "markers",
           "name": "Attacks through 2003",
           "text": [
            "Date: 8.0/19.0/2003<br>Country: Iraq<br>Location: Unknown<br>Total Affected: 20<br>Killed: 20<br>Wounded: 0<br>Kidnapped: 0<br>Years Ago: 0",
            "Date: 6.0/nan/2001<br>Country: Tajikistan<br>Location: Unknown<br>Total Affected: 15<br>Killed: 0<br>Wounded: 0<br>Kidnapped: 15<br>Years Ago: 2"
           ],
           "type": "scattergeo"
          }
         ],
         "name": "2003"
        },
        {
         "data": [
          {
           "colorscale": [
            [
             0,
             "rgb(255,245,240)"
            ],
            [
             0.125,
             "rgb(254,224,210)"
            ],
            [
             0.25,
             "rgb(252,187,161)"
            ],
            [
             0.375,
             "rgb(252,146,114)"
            ],
            [
             0.5,
             "rgb(251,106,74)"
            ],
            [
             0.625,
             "rgb(239,59,44)"
            ],
            [
             0.75,
             "rgb(203,24,29)"
            ],
            [
             0.875,
             "rgb(165,15,21)"
            ],
            [
             1,
             "rgb(103,0,13)"
            ]
           ],
           "locationmode": "ISO-3",
           "locations": [
            "AFG",
            "COL",
            "CIV",
            "COD",
            "HTI",
            "IRQ",
            "KEN",
            "NGA",
            "PSE",
            "PAK",
            "SOM",
            "SDN",
            "UGA"
           ],
           "showscale": true,
           "type": "choropleth",
           "z": {
            "bdata": "KAIBBgEgAwMCAgcXAw==",
            "dtype": "i1"
           }
          },
          {
           "hoverinfo": "text",
           "lat": {
            "bdata": "6r8Y27WmQEA23JH7Z1BDQA==",
            "dtype": "f8"
           },
           "lon": {
            "bdata": "IOD/fXwwRkBLFkGtM7RRQA==",
            "dtype": "f8"
           },
           "marker": {
            "color": [
             "rgba(204, 0, 0, 0.8)",
             "rgba(102, 0, 0, 0.6000000000000001)"
            ],
            "line": {
             "color": "rgba(255, 255, 255, 0.5)",
             "width": 1
            },
            "size": {
             "bdata": "nJWfEGflJ0AAAAAAAAAkQA==",
             "dtype": "f8"
            }
           },
           "mode": "markers",
           "name": "Attacks through 2004",
           "text": [
            "Date: 8.0/19.0/2003<br>Country: Iraq<br>Location: Unknown<br>Total Affected: 20<br>Killed: 20<br>Wounded: 0<br>Kidnapped: 0<br>Years Ago: 1",
            "Date: 6.0/nan/2001<br>Country: Tajikistan<br>Location: Unknown<br>Total Affected: 15<br>Killed: 0<br>Wounded: 0<br>Kidnapped: 15<br>Years Ago: 3"
           ],
           "type": "scattergeo"
          }
         ],
         "name": "2004"
        },
        {
         "data": [
          {
           "colorscale": [
            [
             0,
             "rgb(255,245,240)"
            ],
            [
             0.125,
             "rgb(254,224,210)"
            ],
            [
             0.25,
             "rgb(252,187,161)"
            ],
            [
             0.375,
             "rgb(252,146,114)"
            ],
            [
             0.5,
             "rgb(251,106,74)"
            ],
            [
             0.625,
             "rgb(239,59,44)"
            ],
            [
             0.75,
             "rgb(203,24,29)"
            ],
            [
             0.875,
             "rgb(165,15,21)"
            ],
            [
             1,
             "rgb(103,0,13)"
            ]
           ],
           "locationmode": "ISO-3",
           "locations": [
            "AFG",
            "TCD",
            "COL",
            "COD",
            "GUY",
            "HTI",
            "IDN",
            "IRQ",
            "KEN",
            "MDG",
            "MWI",
            "NPL",
            "PSE",
            "SOM",
            "SSD",
            "SDN",
            "UGA",
            "ZWE"
           ],
           "showscale": true,
           "type": "choropleth",
           "z": {
            "bdata": "IwcCBwEBAgkDAQMCAQwDSQgB",
            "dtype": "i1"
           }
          },
          {
           "hoverinfo": "text",
           "lat": {
            "bdata": "6r8Y27WmQEC/go8cRNoqQDbckftnUENAE7pL4qyoJkA=",
            "dtype": "f8"
           },
           "lon": {
            "bdata": "IOD/fXwwRkDWf+coUag2QEsWQa0ztFFAdYwSke0VOUA=",
            "dtype": "f8"
           },
           "marker": {
            "color": [
             "rgba(153, 0, 0, 0.7)",
             "rgba(255, 0, 0, 0.9)",
             "rgba(50, 0, 0, 0.5)",
             "rgba(255, 0, 0, 0.9)"
            ],
            "line": {
             "color": "rgba(255, 255, 255, 0.5)",
             "width": 1
            },
            "size": {
             "bdata": "nJWfEGflJ0DYO6YG9o4lQAAAAAAAACRAAAAAAAAAJEA=",
             "dtype": "f8"
            }
           },
           "mode": "markers",
           "name": "Attacks through 2005",
           "text": [
            "Date: 8.0/19.0/2003<br>Country: Iraq<br>Location: Unknown<br>Total Affected: 20<br>Killed: 20<br>Wounded: 0<br>Kidnapped: 0<br>Years Ago: 2",
            "Date: 9.0/nan/2005<br>Country: Sudan<br>Location: Between Beida and Geneina<br>Total Affected: 17<br>Killed: 0<br>Wounded: 17<br>Kidnapped: 0<br>Years Ago: 0",
            "Date: 6.0/nan/2001<br>Country: Tajikistan<br>Location: Unknown<br>Total Affected: 15<br>Killed: 0<br>Wounded: 0<br>Kidnapped: 15<br>Years Ago: 4",
            "Date: 7.0/nan/2005<br>Country: Sudan<br>Location: Unknown<br>Total Affected: 15<br>Killed: 0<br>Wounded: 15<br>Kidnapped: 0<br>Years Ago: 0"
           ],
           "type": "scattergeo"
          }
         ],
         "name": "2005"
        },
        {
         "data": [
          {
           "colorscale": [
            [
             0,
             "rgb(255,245,240)"
            ],
            [
             0.125,
             "rgb(254,224,210)"
            ],
            [
             0.25,
             "rgb(252,187,161)"
            ],
            [
             0.375,
             "rgb(252,146,114)"
            ],
            [
             0.5,
             "rgb(251,106,74)"
            ],
            [
             0.625,
             "rgb(239,59,44)"
            ],
            [
             0.75,
             "rgb(203,24,29)"
            ],
            [
             0.875,
             "rgb(165,15,21)"
            ],
            [
             1,
             "rgb(103,0,13)"
            ]
           ],
           "locationmode": "ISO-3",
           "locations": [
            "AFG",
            "CAF",
            "TCD",
            "COL",
            "COD",
            "SLV",
            "ERI",
            "ETH",
            "GTM",
            "HTI",
            "IND",
            "IRQ",
            "LSO",
            "MWI",
            "PSE",
            "SEN",
            "SOM",
            "ZAF",
            "LKA",
            "SDN"
           ],
           "showscale": true,
           "type": "choropleth",
           "z": {
            "bdata": "NwMFAgcBAgIBBAESAQEGBA4BGVc=",
            "dtype": "i1"
           }
          },
          {
           "hoverinfo": "text",
           "lat": {
            "bdata": "6r8Y27WmQEC/go8cRNoqQL99HThnJCFANtyR+2dQQ0ATukvirKgmQA==",
            "dtype": "f8"
           },
           "lon": {
            "bdata": "IOD/fXwwRkDWf+coUag2QG3n+6nxTlRASxZBrTO0UUB1jBKR7RU5QA==",
            "dtype": "f8"
           },
           "marker": {
            "color": [
             "rgba(102, 0, 0, 0.6000000000000001)",
             "rgba(204, 0, 0, 0.8)",
             "rgba(255, 0, 0, 0.9)",
             "rgba(0, 0, 0, 0.4)",
             "rgba(204, 0, 0, 0.8)"
            ],
            "line": {
             "color": "rgba(255, 255, 255, 0.5)",
             "width": 1
            },
            "size": {
             "bdata": "nJWfEGflJ0DYO6YG9o4lQNg7pgb2jiVAAAAAAAAAJEAAAAAAAAAkQA==",
             "dtype": "f8"
            }
           },
           "mode": "markers",
           "name": "Attacks through 2006",
           "text": [
            "Date: 8.0/19.0/2003<br>Country: Iraq<br>Location: Unknown<br>Total Affected: 20<br>Killed: 20<br>Wounded: 0<br>Kidnapped: 0<br>Years Ago: 3",
            "Date: 9.0/nan/2005<br>Country: Sudan<br>Location: Between Beida and Geneina<br>Total Affected: 17<br>Killed: 0<br>Wounded: 17<br>Kidnapped: 0<br>Years Ago: 1",
            "Date: 8.0/4.0/2006<br>Country: Sri Lanka<br>Location: Muttur<br>Total Affected: 17<br>Killed: 17<br>Wounded: 0<br>Kidnapped: 0<br>Years Ago: 0",
            "Date: 6.0/nan/2001<br>Country: Tajikistan<br>Location: Unknown<br>Total Affected: 15<br>Killed: 0<br>Wounded: 0<br>Kidnapped: 15<br>Years Ago: 5",
            "Date: 7.0/nan/2005<br>Country: Sudan<br>Location: Unknown<br>Total Affected: 15<br>Killed: 0<br>Wounded: 15<br>Kidnapped: 0<br>Years Ago: 1"
           ],
           "type": "scattergeo"
          }
         ],
         "name": "2006"
        },
        {
         "data": [
          {
           "colorscale": [
            [
             0,
             "rgb(255,245,240)"
            ],
            [
             0.125,
             "rgb(254,224,210)"
            ],
            [
             0.25,
             "rgb(252,187,161)"
            ],
            [
             0.375,
             "rgb(252,146,114)"
            ],
            [
             0.5,
             "rgb(251,106,74)"
            ],
            [
             0.625,
             "rgb(239,59,44)"
            ],
            [
             0.75,
             "rgb(203,24,29)"
            ],
            [
             0.875,
             "rgb(165,15,21)"
            ],
            [
             1,
             "rgb(103,0,13)"
            ]
           ],
           "locationmode": "ISO-3",
           "locations": [
            "AFG",
            "DZA",
            "BGD",
            "BDI",
            "CAF",
            "TCD",
            "FJI",
            "HTI",
            "IDN",
            "IRQ",
            "KEN",
            "LBN",
            "MWI",
            "MLI",
            "PSE",
            "PAK",
            "PNG",
            "SOM",
            "LKA",
            "SDN",
            "TZA",
            "THA",
            "UGA",
            "VNM",
            "YEM"
           ],
           "showscale": true,
           "type": "choropleth",
           "z": {
            "bdata": "MAsCAgMKAwIDBwECAgMEFAIUGSUBBQUBAg==",
            "dtype": "i1"
           }
          },
          {
           "hoverinfo": "text",
           "lat": {
            "bdata": "6r8Y27WmQEC/go8cRNoqQL99HThnJCFANtyR+2dQQ0ATukvirKgmQA==",
            "dtype": "f8"
           },
           "lon": {
            "bdata": "IOD/fXwwRkDWf+coUag2QG3n+6nxTlRASxZBrTO0UUB1jBKR7RU5QA==",
            "dtype": "f8"
           },
           "marker": {
            "color": [
             "rgba(50, 0, 0, 0.5)",
             "rgba(153, 0, 0, 0.7)",
             "rgba(204, 0, 0, 0.8)",
             "rgba(0, 0, 0, 0.4)",
             "rgba(153, 0, 0, 0.7)"
            ],
            "line": {
             "color": "rgba(255, 255, 255, 0.5)",
             "width": 1
            },
            "size": {
             "bdata": "nJWfEGflJ0DYO6YG9o4lQNg7pgb2jiVAAAAAAAAAJEAAAAAAAAAkQA==",
             "dtype": "f8"
            }
           },
           "mode": "markers",
           "name": "Attacks through 2007",
           "text": [
            "Date: 8.0/19.0/2003<br>Country: Iraq<br>Location: Unknown<br>Total Affected: 20<br>Killed: 20<br>Wounded: 0<br>Kidnapped: 0<br>Years Ago: 4",
            "Date: 9.0/nan/2005<br>Country: Sudan<br>Location: Between Beida and Geneina<br>Total Affected: 17<br>Killed: 0<br>Wounded: 17<br>Kidnapped: 0<br>Years Ago: 2",
            "Date: 8.0/4.0/2006<br>Country: Sri Lanka<br>Location: Muttur<br>Total Affected: 17<br>Killed: 17<br>Wounded: 0<br>Kidnapped: 0<br>Years Ago: 1",
            "Date: 6.0/nan/2001<br>Country: Tajikistan<br>Location: Unknown<br>Total Affected: 15<br>Killed: 0<br>Wounded: 0<br>Kidnapped: 15<br>Years Ago: 6",
            "Date: 7.0/nan/2005<br>Country: Sudan<br>Location: Unknown<br>Total Affected: 15<br>Killed: 0<br>Wounded: 15<br>Kidnapped: 0<br>Years Ago: 2"
           ],
           "type": "scattergeo"
          }
         ],
         "name": "2007"
        },
        {
         "data": [
          {
           "colorscale": [
            [
             0,
             "rgb(255,245,240)"
            ],
            [
             0.125,
             "rgb(254,224,210)"
            ],
            [
             0.25,
             "rgb(252,187,161)"
            ],
            [
             0.375,
             "rgb(252,146,114)"
            ],
            [
             0.5,
             "rgb(251,106,74)"
            ],
            [
             0.625,
             "rgb(239,59,44)"
            ],
            [
             0.75,
             "rgb(203,24,29)"
            ],
            [
             0.875,
             "rgb(165,15,21)"
            ],
            [
             1,
             "rgb(103,0,13)"
            ]
           ],
           "locationmode": "ISO-3",
           "locations": [
            "AFG",
            "BDI",
            "CMR",
            "TCD",
            "COD",
            "SLV",
            "ETH",
            "HTI",
            "IDN",
            "KEN",
            "MWI",
            "MOZ",
            "NPL",
            "NIC",
            "PSE",
            "PAK",
            "PHL",
            "SLE",
            "SOM",
            "LKA",
            "SDN",
            "TZA",
            "YEM"
           ],
           "showscale": true,
           "type": "choropleth",
           "z": {
            "bdata": "PwMBCgkBBAMEAgIDAQECHAMBVgcqAQE=",
            "dtype": "i1"
           }
          },
          {
           "hoverinfo": "text",
           "lat": {
            "bdata": "6r8Y27WmQEC/go8cRNoqQL99HThnJCFANtyR+2dQQ0ATukvirKgmQA==",
            "dtype": "f8"
           },
           "lon": {
            "bdata": "IOD/fXwwRkDWf+coUag2QG3n+6nxTlRASxZBrTO0UUB1jBKR7RU5QA==",
            "dtype": "f8"
           },
           "marker": {
            "color": [
             "rgba(0, 0, 0, 0.4)",
             "rgba(102, 0, 0, 0.6000000000000001)",
             "rgba(153, 0, 0, 0.7)",
             "rgba(0, 0, 0, 0.4)",
             "rgba(102, 0, 0, 0.6000000000000001)"
            ],
            "line": {
             "color": "rgba(255, 255, 255, 0.5)",
             "width": 1
            },
            "size": {
             "bdata": "nJWfEGflJ0DYO6YG9o4lQNg7pgb2jiVAAAAAAAAAJEAAAAAAAAAkQA==",
             "dtype": "f8"
            }
           },
           "mode": "markers",
           "name": "Attacks through 2008",
           "text": [
            "Date: 8.0/19.0/2003<br>Country: Iraq<br>Location: Unknown<br>Total Affected: 20<br>Killed: 20<br>Wounded: 0<br>Kidnapped: 0<br>Years Ago: 5",
            "Date: 9.0/nan/2005<br>Country: Sudan<br>Location: Between Beida and Geneina<br>Total Affected: 17<br>Killed: 0<br>Wounded: 17<br>Kidnapped: 0<br>Years Ago: 3",
            "Date: 8.0/4.0/2006<br>Country: Sri Lanka<br>Location: Muttur<br>Total Affected: 17<br>Killed: 17<br>Wounded: 0<br>Kidnapped: 0<br>Years Ago: 2",
            "Date: 6.0/nan/2001<br>Country: Tajikistan<br>Location: Unknown<br>Total Affected: 15<br>Killed: 0<br>Wounded: 0<br>Kidnapped: 15<br>Years Ago: 7",
            "Date: 7.0/nan/2005<br>Country: Sudan<br>Location: Unknown<br>Total Affected: 15<br>Killed: 0<br>Wounded: 15<br>Kidnapped: 0<br>Years Ago: 3"
           ],
           "type": "scattergeo"
          }
         ],
         "name": "2008"
        },
        {
         "data": [
          {
           "colorscale": [
            [
             0,
             "rgb(255,245,240)"
            ],
            [
             0.125,
             "rgb(254,224,210)"
            ],
            [
             0.25,
             "rgb(252,187,161)"
            ],
            [
             0.375,
             "rgb(252,146,114)"
            ],
            [
             0.5,
             "rgb(251,106,74)"
            ],
            [
             0.625,
             "rgb(239,59,44)"
            ],
            [
             0.75,
             "rgb(203,24,29)"
            ],
            [
             0.875,
             "rgb(165,15,21)"
            ],
            [
             1,
             "rgb(103,0,13)"
            ]
           ],
           "locationmode": "ISO-3",
           "locations": [
            "AFG",
            "BGD",
            "KHM",
            "CAF",
            "TCD",
            "COD",
            "ETH",
            "HTI",
            "IDN",
            "IRQ",
            "KEN",
            "LBR",
            "MLI",
            "MRT",
            "MOZ",
            "PSE",
            "PAK",
            "PHL",
            "SOM",
            "LKA",
            "SDN",
            "UGA",
            "YEM",
            "ZMB"
           ],
           "showscale": true,
           "type": "choropleth",
           "z": {
            "bdata": "PgEBCwYSAQECAQcBAQQDESgEIRojAxQB",
            "dtype": "i1"
           }
          },
          {
           "hoverinfo": "text",
           "lat": {
            "bdata": "6r8Y27WmQEC/go8cRNoqQL99HThnJCFAHLheLj3GQEAgOXbZZfAwQDbckftnUENAE7pL4qyoJkA=",
            "dtype": "f8"
           },
           "lon": {
            "bdata": "IOD/fXwwRkDWf+coUag2QG3n+6nxTlRAElDhCNJbUUAPl1CXvN1FQEsWQa0ztFFAdYwSke0VOUA=",
            "dtype": "f8"
           },
           "marker": {
            "color": [
             "rgba(0, 0, 0, 0.4)",
             "rgba(50, 0, 0, 0.5)",
             "rgba(102, 0, 0, 0.6000000000000001)",
             "rgba(255, 0, 0, 0.9)",
             "rgba(255, 0, 0, 0.9)",
             "rgba(0, 0, 0, 0.4)",
             "rgba(50, 0, 0, 0.5)"
            ],
            "line": {
             "color": "rgba(255, 255, 255, 0.5)",
             "width": 1
            },
            "size": {
             "bdata": "nJWfEGflJ0DYO6YG9o4lQNg7pgb2jiVA7B1TA3vHJEAAAAAAAAAkQAAAAAAAACRAAAAAAAAAJEA=",
             "dtype": "f8"
            }
           },
           "mode": "markers",
           "name": "Attacks through 2009",
           "text": [
            "Date: 8.0/19.0/2003<br>Country: Iraq<br>Location: Unknown<br>Total Affected: 20<br>Killed: 20<br>Wounded: 0<br>Kidnapped: 0<br>Years Ago: 6",
            "Date: 9.0/nan/2005<br>Country: Sudan<br>Location: Between Beida and Geneina<br>Total Affected: 17<br>Killed: 0<br>Wounded: 17<br>Kidnapped: 0<br>Years Ago: 4",
            "Date: 8.0/4.0/2006<br>Country: Sri Lanka<br>Location: Muttur<br>Total Affected: 17<br>Killed: 17<br>Wounded: 0<br>Kidnapped: 0<br>Years Ago: 3",
            "Date: 7.0/4.0/2009<br>Country: Afghanistan<br>Location: Unknown<br>Total Affected: 16<br>Killed: 0<br>Wounded: 0<br>Kidnapped: 16<br>Years Ago: 0",
            "Date: 8.0/13.0/2009<br>Country: Yemen<br>Location: Sa'dah<br>Total Affected: 15<br>Killed: 0<br>Wounded: 0<br>Kidnapped: 15<br>Years Ago: 0",
            "Date: 6.0/nan/2001<br>Country: Tajikistan<br>Location: Unknown<br>Total Affected: 15<br>Killed: 0<br>Wounded: 0<br>Kidnapped: 15<br>Years Ago: 8",
            "Date: 7.0/nan/2005<br>Country: Sudan<br>Location: Unknown<br>Total Affected: 15<br>Killed: 0<br>Wounded: 15<br>Kidnapped: 0<br>Years Ago: 4"
           ],
           "type": "scattergeo"
          }
         ],
         "name": "2009"
        },
        {
         "data": [
          {
           "colorscale": [
            [
             0,
             "rgb(255,245,240)"
            ],
            [
             0.125,
             "rgb(254,224,210)"
            ],
            [
             0.25,
             "rgb(252,187,161)"
            ],
            [
             0.375,
             "rgb(252,146,114)"
            ],
            [
             0.5,
             "rgb(251,106,74)"
            ],
            [
             0.625,
             "rgb(239,59,44)"
            ],
            [
             0.75,
             "rgb(203,24,29)"
            ],
            [
             0.875,
             "rgb(165,15,21)"
            ],
            [
             1,
             "rgb(103,0,13)"
            ]
           ],
           "locationmode": "ISO-3",
           "locations": [
            "AFG",
            "BGD",
            "CMR",
            "TCD",
            "COD",
            "ETH",
            "HTI",
            "IRQ",
            "KEN",
            "KGZ",
            "LBY",
            "MDG",
            "MWI",
            "NIC",
            "NER",
            "PAK",
            "PHL",
            "SLE",
            "SOM",
            "SDN",
            "UGA",
            "YEM"
           ],
           "showscale": true,
           "type": "choropleth",
           "z": {
            "bdata": "eAEBAg8EDAkCAQkCAwEBHQEBCxQEAw==",
            "dtype": "i1"
           }
          },
          {
           "hoverinfo": "text",
           "lat": {
            "bdata": "6r8Y27WmQEC/go8cRNoqQL99HThnJCFAHLheLj3GQEAgOXbZZfAwQDbckftnUENAE7pL4qyoJkA=",
            "dtype": "f8"
           },
           "lon": {
            "bdata": "IOD/fXwwRkDWf+coUag2QG3n+6nxTlRAElDhCNJbUUAPl1CXvN1FQEsWQa0ztFFAdYwSke0VOUA=",
            "dtype": "f8"
           },
           "marker": {
            "color": [
             "rgba(0, 0, 0, 0.4)",
             "rgba(0, 0, 0, 0.4)",
             "rgba(50, 0, 0, 0.5)",
             "rgba(204, 0, 0, 0.8)",
             "rgba(204, 0, 0, 0.8)",
             "rgba(0, 0, 0, 0.4)",
             "rgba(0, 0, 0, 0.4)"
            ],
            "line": {
             "color": "rgba(255, 255, 255, 0.5)",
             "width": 1
            },
            "size": {
             "bdata": "nJWfEGflJ0DYO6YG9o4lQNg7pgb2jiVA7B1TA3vHJEAAAAAAAAAkQAAAAAAAACRAAAAAAAAAJEA=",
             "dtype": "f8"
            }
           },
           "mode": "markers",
           "name": "Attacks through 2010",
           "text": [
            "Date: 8.0/19.0/2003<br>Country: Iraq<br>Location: Unknown<br>Total Affected: 20<br>Killed: 20<br>Wounded: 0<br>Kidnapped: 0<br>Years Ago: 7",
            "Date: 9.0/nan/2005<br>Country: Sudan<br>Location: Between Beida and Geneina<br>Total Affected: 17<br>Killed: 0<br>Wounded: 17<br>Kidnapped: 0<br>Years Ago: 5",
            "Date: 8.0/4.0/2006<br>Country: Sri Lanka<br>Location: Muttur<br>Total Affected: 17<br>Killed: 17<br>Wounded: 0<br>Kidnapped: 0<br>Years Ago: 4",
            "Date: 7.0/4.0/2009<br>Country: Afghanistan<br>Location: Unknown<br>Total Affected: 16<br>Killed: 0<br>Wounded: 0<br>Kidnapped: 16<br>Years Ago: 1",
            "Date: 8.0/13.0/2009<br>Country: Yemen<br>Location: Sa'dah<br>Total Affected: 15<br>Killed: 0<br>Wounded: 0<br>Kidnapped: 15<br>Years Ago: 1",
            "Date: 6.0/nan/2001<br>Country: Tajikistan<br>Location: Unknown<br>Total Affected: 15<br>Killed: 0<br>Wounded: 0<br>Kidnapped: 15<br>Years Ago: 9",
            "Date: 7.0/nan/2005<br>Country: Sudan<br>Location: Unknown<br>Total Affected: 15<br>Killed: 0<br>Wounded: 15<br>Kidnapped: 0<br>Years Ago: 5"
           ],
           "type": "scattergeo"
          }
         ],
         "name": "2010"
        },
        {
         "data": [
          {
           "colorscale": [
            [
             0,
             "rgb(255,245,240)"
            ],
            [
             0.125,
             "rgb(254,224,210)"
            ],
            [
             0.25,
             "rgb(252,187,161)"
            ],
            [
             0.375,
             "rgb(252,146,114)"
            ],
            [
             0.5,
             "rgb(251,106,74)"
            ],
            [
             0.625,
             "rgb(239,59,44)"
            ],
            [
             0.75,
             "rgb(203,24,29)"
            ],
            [
             0.875,
             "rgb(165,15,21)"
            ],
            [
             1,
             "rgb(103,0,13)"
            ]
           ],
           "locationmode": "ISO-3",
           "locations": [
            "AFG",
            "BDI",
            "CAF",
            "TCD",
            "COL",
            "CIV",
            "COD",
            "SLV",
            "ETH",
            "HTI",
            "HND",
            "KEN",
            "LBY",
            "MMR",
            "NER",
            "NGA",
            "PAK",
            "PNG",
            "PHL",
            "SOM",
            "SSD",
            "SDN",
            "SYR",
            "TZA",
            "UGA",
            "ESH",
            "YEM"
           ],
           "showscale": true,
           "type": "choropleth",
           "z": {
            "bdata": "XAEKAQECEQIFAgIIAgEBLh0BARcUGQMBAgQH",
            "dtype": "i1"
           }
          },
          {
           "hoverinfo": "text",
           "lat": {
            "bdata": "AAAAAAAAJEDqvxjbtaZAQL+CjxxE2ipAv30dOGckIUAcuF4uPcZAQCA5dtll8DBANtyR+2dQQ0ATukvirKgmQA==",
            "dtype": "f8"
           },
           "lon": {
            "bdata": "AAAAAAAAIEAg4P99fDBGQNZ/5yhRqDZAbef7qfFOVEASUOEI0ltRQA+XUJe83UVASxZBrTO0UUB1jBKR7RU5QA==",
            "dtype": "f8"
           },
           "marker": {
            "color": [
             "rgba(255, 0, 0, 0.9)",
             "rgba(0, 0, 0, 0.4)",
             "rgba(0, 0, 0, 0.4)",
             "rgba(0, 0, 0, 0.4)",
             "rgba(153, 0, 0, 0.7)",
             "rgba(153, 0, 0, 0.7)",
             "rgba(0, 0, 0, 0.4)",
             "rgba(0, 0, 0, 0.4)"
            ],
            "line": {
             "color": "rgba(255, 255, 255, 0.5)",
             "width": 1
            },
            "size": {
             "bdata": "y0+Is/ITNkCclZ8QZ+UnQNg7pgb2jiVA2DumBvaOJUDsHVMDe8ckQAAAAAAAACRAAAAAAAAAJEAAAAAAAAAkQA==",
             "dtype": "f8"
            }
           },
           "mode": "markers",
           "name": "Attacks through 2011",
           "text": [
            "Date: 8.0/26.0/2011<br>Country: Nigeria<br>Location: Abuja<br>Total Affected: 46<br>Killed: 9<br>Wounded: 37<br>Kidnapped: 0<br>Years Ago: 0",
            "Date: 8.0/19.0/2003<br>Country: Iraq<br>Location: Unknown<br>Total Affected: 20<br>Killed: 20<br>Wounded: 0<br>Kidnapped: 0<br>Years Ago: 8",
            "Date: 9.0/nan/2005<br>Country: Sudan<br>Location: Between Beida and Geneina<br>Total Affected: 17<br>Killed: 0<br>Wounded: 17<br>Kidnapped: 0<br>Years Ago: 6",
            "Date: 8.0/4.0/2006<br>Country: Sri Lanka<br>Location: Muttur<br>Total Affected: 17<br>Killed: 17<br>Wounded: 0<br>Kidnapped: 0<br>Years Ago: 5",
            "Date: 7.0/4.0/2009<br>Country: Afghanistan<br>Location: Unknown<br>Total Affected: 16<br>Killed: 0<br>Wounded: 0<br>Kidnapped: 16<br>Years Ago: 2",
            "Date: 8.0/13.0/2009<br>Country: Yemen<br>Location: Sa'dah<br>Total Affected: 15<br>Killed: 0<br>Wounded: 0<br>Kidnapped: 15<br>Years Ago: 2",
            "Date: 6.0/nan/2001<br>Country: Tajikistan<br>Location: Unknown<br>Total Affected: 15<br>Killed: 0<br>Wounded: 0<br>Kidnapped: 15<br>Years Ago: 10",
            "Date: 7.0/nan/2005<br>Country: Sudan<br>Location: Unknown<br>Total Affected: 15<br>Killed: 0<br>Wounded: 15<br>Kidnapped: 0<br>Years Ago: 6"
           ],
           "type": "scattergeo"
          }
         ],
         "name": "2011"
        },
        {
         "data": [
          {
           "colorscale": [
            [
             0,
             "rgb(255,245,240)"
            ],
            [
             0.125,
             "rgb(254,224,210)"
            ],
            [
             0.25,
             "rgb(252,187,161)"
            ],
            [
             0.375,
             "rgb(252,146,114)"
            ],
            [
             0.5,
             "rgb(251,106,74)"
            ],
            [
             0.625,
             "rgb(239,59,44)"
            ],
            [
             0.75,
             "rgb(203,24,29)"
            ],
            [
             0.875,
             "rgb(165,15,21)"
            ],
            [
             1,
             "rgb(103,0,13)"
            ]
           ],
           "locationmode": "ISO-3",
           "locations": [
            "AFG",
            "CMR",
            "TCD",
            "COD",
            "ETH",
            "HTI",
            "KEN",
            "LBY",
            "NER",
            "PAK",
            "PHL",
            "SEN",
            "SOM",
            "SSD",
            "LKA",
            "SDN",
            "SYR",
            "TUN",
            "YEM"
           ],
           "showscale": true,
           "type": "choropleth",
           "z": {
            "bdata": "aQIDAQEDEQkHGQEBIBkBBhkCCw==",
            "dtype": "i1"
           }
          },
          {
           "hoverinfo": "text",
           "lat": {
            "bdata": "AAAAAAAAJEDqvxjbtaZAQL+CjxxE2ipAv30dOGckIUAcuF4uPcZAQCA5dtll8DBANtyR+2dQQ0ATukvirKgmQA==",
            "dtype": "f8"
           },
           "lon": {
            "bdata": "AAAAAAAAIEAg4P99fDBGQNZ/5yhRqDZAbef7qfFOVEASUOEI0ltRQA+XUJe83UVASxZBrTO0UUB1jBKR7RU5QA==",
            "dtype": "f8"
           },
           "marker": {
            "color": [
             "rgba(204, 0, 0, 0.8)",
             "rgba(0, 0, 0, 0.4)",
             "rgba(0, 0, 0, 0.4)",
             "rgba(0, 0, 0, 0.4)",
             "rgba(102, 0, 0, 0.6000000000000001)",
             "rgba(102, 0, 0, 0.6000000000000001)",
             "rgba(0, 0, 0, 0.4)",
             "rgba(0, 0, 0, 0.4)"
            ],
            "line": {
             "color": "rgba(255, 255, 255, 0.5)",
             "width": 1
            },
            "size": {
             "bdata": "y0+Is/ITNkCclZ8QZ+UnQNg7pgb2jiVA2DumBvaOJUDsHVMDe8ckQAAAAAAAACRAAAAAAAAAJEAAAAAAAAAkQA==",
             "dtype": "f8"
            }
           },
           "mode": "markers",
           "name": "Attacks through 2012",
           "text": [
            "Date: 8.0/26.0/2011<br>Country: Nigeria<br>Location: Abuja<br>Total Affected: 46<br>Killed: 9<br>Wounded: 37<br>Kidnapped: 0<br>Years Ago: 1",
            "Date: 8.0/19.0/2003<br>Country: Iraq<br>Location: Unknown<br>Total Affected: 20<br>Killed: 20<br>Wounded: 0<br>Kidnapped: 0<br>Years Ago: 9",
            "Date: 9.0/nan/2005<br>Country: Sudan<br>Location: Between Beida and Geneina<br>Total Affected: 17<br>Killed: 0<br>Wounded: 17<br>Kidnapped: 0<br>Years Ago: 7",
            "Date: 8.0/4.0/2006<br>Country: Sri Lanka<br>Location: Muttur<br>Total Affected: 17<br>Killed: 17<br>Wounded: 0<br>Kidnapped: 0<br>Years Ago: 6",
            "Date: 7.0/4.0/2009<br>Country: Afghanistan<br>Location: Unknown<br>Total Affected: 16<br>Killed: 0<br>Wounded: 0<br>Kidnapped: 16<br>Years Ago: 3",
            "Date: 8.0/13.0/2009<br>Country: Yemen<br>Location: Sa'dah<br>Total Affected: 15<br>Killed: 0<br>Wounded: 0<br>Kidnapped: 15<br>Years Ago: 3",
            "Date: 6.0/nan/2001<br>Country: Tajikistan<br>Location: Unknown<br>Total Affected: 15<br>Killed: 0<br>Wounded: 0<br>Kidnapped: 15<br>Years Ago: 11",
            "Date: 7.0/nan/2005<br>Country: Sudan<br>Location: Unknown<br>Total Affected: 15<br>Killed: 0<br>Wounded: 15<br>Kidnapped: 0<br>Years Ago: 7"
           ],
           "type": "scattergeo"
          }
         ],
         "name": "2012"
        },
        {
         "data": [
          {
           "colorscale": [
            [
             0,
             "rgb(255,245,240)"
            ],
            [
             0.125,
             "rgb(254,224,210)"
            ],
            [
             0.25,
             "rgb(252,187,161)"
            ],
            [
             0.375,
             "rgb(252,146,114)"
            ],
            [
             0.5,
             "rgb(251,106,74)"
            ],
            [
             0.625,
             "rgb(239,59,44)"
            ],
            [
             0.75,
             "rgb(203,24,29)"
            ],
            [
             0.875,
             "rgb(165,15,21)"
            ],
            [
             1,
             "rgb(103,0,13)"
            ]
           ],
           "locationmode": "ISO-3",
           "locations": [
            "AFG",
            "ARG",
            "ARM",
            "CAF",
            "COD",
            "SLV",
            "ETH",
            "HTI",
            "IND",
            "IDN",
            "IRQ",
            "JOR",
            "KEN",
            "KGZ",
            "LBY",
            "MLI",
            "MRT",
            "MMR",
            "NGA",
            "PSE",
            "PAK",
            "PHL",
            "SEN",
            "SOM",
            "SSD",
            "SDN",
            "SYR",
            "UGA",
            "YEM"
           ],
           "showscale": true,
           "type": "choropleth",
           "z": {
            "bdata": "pwABAAEABwALAAEAAgACAAIAAQABAAoACgABAAEAAQABAAEACQABACkABgABACgALgAZAEYAAQALAA==",
            "dtype": "i2"
           }
          },
          {
           "hoverinfo": "text",
           "lat": {
            "bdata": "AAAAAAAAJEDqvxjbtaZAQL+CjxxE2ipAv30dOGckIUAcuF4uPcZAQCA5dtll8DBANtyR+2dQQ0ATukvirKgmQA==",
            "dtype": "f8"
           },
           "lon": {
            "bdata": "AAAAAAAAIEAg4P99fDBGQNZ/5yhRqDZAbef7qfFOVEASUOEI0ltRQA+XUJe83UVASxZBrTO0UUB1jBKR7RU5QA==",
            "dtype": "f8"
           },
           "marker": {
            "color": [
             "rgba(153, 0, 0, 0.7)",
             "rgba(0, 0, 0, 0.4)",
             "rgba(0, 0, 0, 0.4)",
             "rgba(0, 0, 0, 0.4)",
             "rgba(50, 0, 0, 0.5)",
             "rgba(50, 0, 0, 0.5)",
             "rgba(0, 0, 0, 0.4)",
             "rgba(0, 0, 0, 0.4)"
            ],
            "line": {
             "color": "rgba(255, 255, 255, 0.5)",
             "width": 1
            },
            "size": {
             "bdata": "y0+Is/ITNkCclZ8QZ+UnQNg7pgb2jiVA2DumBvaOJUDsHVMDe8ckQAAAAAAAACRAAAAAAAAAJEAAAAAAAAAkQA==",
             "dtype": "f8"
            }
           },
           "mode": "markers",
           "name": "Attacks through 2013",
           "text": [
            "Date: 8.0/26.0/2011<br>Country: Nigeria<br>Location: Abuja<br>Total Affected: 46<br>Killed: 9<br>Wounded: 37<br>Kidnapped: 0<br>Years Ago: 2",
            "Date: 8.0/19.0/2003<br>Country: Iraq<br>Location: Unknown<br>Total Affected: 20<br>Killed: 20<br>Wounded: 0<br>Kidnapped: 0<br>Years Ago: 10",
            "Date: 9.0/nan/2005<br>Country: Sudan<br>Location: Between Beida and Geneina<br>Total Affected: 17<br>Killed: 0<br>Wounded: 17<br>Kidnapped: 0<br>Years Ago: 8",
            "Date: 8.0/4.0/2006<br>Country: Sri Lanka<br>Location: Muttur<br>Total Affected: 17<br>Killed: 17<br>Wounded: 0<br>Kidnapped: 0<br>Years Ago: 7",
            "Date: 7.0/4.0/2009<br>Country: Afghanistan<br>Location: Unknown<br>Total Affected: 16<br>Killed: 0<br>Wounded: 0<br>Kidnapped: 16<br>Years Ago: 4",
            "Date: 8.0/13.0/2009<br>Country: Yemen<br>Location: Sa'dah<br>Total Affected: 15<br>Killed: 0<br>Wounded: 0<br>Kidnapped: 15<br>Years Ago: 4",
            "Date: 6.0/nan/2001<br>Country: Tajikistan<br>Location: Unknown<br>Total Affected: 15<br>Killed: 0<br>Wounded: 0<br>Kidnapped: 15<br>Years Ago: 12",
            "Date: 7.0/nan/2005<br>Country: Sudan<br>Location: Unknown<br>Total Affected: 15<br>Killed: 0<br>Wounded: 15<br>Kidnapped: 0<br>Years Ago: 8"
           ],
           "type": "scattergeo"
          }
         ],
         "name": "2013"
        },
        {
         "data": [
          {
           "colorscale": [
            [
             0,
             "rgb(255,245,240)"
            ],
            [
             0.125,
             "rgb(254,224,210)"
            ],
            [
             0.25,
             "rgb(252,187,161)"
            ],
            [
             0.375,
             "rgb(252,146,114)"
            ],
            [
             0.5,
             "rgb(251,106,74)"
            ],
            [
             0.625,
             "rgb(239,59,44)"
            ],
            [
             0.75,
             "rgb(203,24,29)"
            ],
            [
             0.875,
             "rgb(165,15,21)"
            ],
            [
             1,
             "rgb(103,0,13)"
            ]
           ],
           "locationmode": "ISO-3",
           "locations": [
            "AFG",
            "BEN",
            "KHM",
            "CMR",
            "CAF",
            "TCD",
            "COD",
            "ETH",
            "GIN",
            "IRQ",
            "ISR",
            "KEN",
            "LBN",
            "LBY",
            "MLI",
            "MMR",
            "NPL",
            "PSE",
            "PAK",
            "PHL",
            "SOM",
            "SSD",
            "SDN",
            "SYR",
            "TZA",
            "UGA",
            "UKR",
            "YEM"
           ],
           "showscale": true,
           "type": "choropleth",
           "z": {
            "bdata": "fwEBAhkCCQQDAQEFAQEKAQEREgINFxUtAQECAg==",
            "dtype": "i1"
           }
          },
          {
           "hoverinfo": "text",
           "lat": {
            "bdata": "AAAAAAAAJEDqvxjbtaZAQL+CjxxE2ipAv30dOGckIUAcuF4uPcZAQCA5dtll8DBANtyR+2dQQ0ATukvirKgmQA==",
            "dtype": "f8"
           },
           "lon": {
            "bdata": "AAAAAAAAIEAg4P99fDBGQNZ/5yhRqDZAbef7qfFOVEASUOEI0ltRQA+XUJe83UVASxZBrTO0UUB1jBKR7RU5QA==",
            "dtype": "f8"
           },
           "marker": {
            "color": [
             "rgba(102, 0, 0, 0.6000000000000001)",
             "rgba(0, 0, 0, 0.4)",
             "rgba(0, 0, 0, 0.4)",
             "rgba(0, 0, 0, 0.4)",
             "rgba(0, 0, 0, 0.4)",
             "rgba(0, 0, 0, 0.4)",
             "rgba(0, 0, 0, 0.4)",
             "rgba(0, 0, 0, 0.4)"
            ],
            "line": {
             "color": "rgba(255, 255, 255, 0.5)",
             "width": 1
            },
            "size": {
             "bdata": "y0+Is/ITNkCclZ8QZ+UnQNg7pgb2jiVA2DumBvaOJUDsHVMDe8ckQAAAAAAAACRAAAAAAAAAJEAAAAAAAAAkQA==",
             "dtype": "f8"
            }
           },
           "mode": "markers",
           "name": "Attacks through 2014",
           "text": [
            "Date: 8.0/26.0/2011<br>Country: Nigeria<br>Location: Abuja<br>Total Affected: 46<br>Killed: 9<br>Wounded: 37<br>Kidnapped: 0<br>Years Ago: 3",
            "Date: 8.0/19.0/2003<br>Country: Iraq<br>Location: Unknown<br>Total Affected: 20<br>Killed: 20<br>Wounded: 0<br>Kidnapped: 0<br>Years Ago: 11",
            "Date: 9.0/nan/2005<br>Country: Sudan<br>Location: Between Beida and Geneina<br>Total Affected: 17<br>Killed: 0<br>Wounded: 17<br>Kidnapped: 0<br>Years Ago: 9",
            "Date: 8.0/4.0/2006<br>Country: Sri Lanka<br>Location: Muttur<br>Total Affected: 17<br>Killed: 17<br>Wounded: 0<br>Kidnapped: 0<br>Years Ago: 8",
            "Date: 7.0/4.0/2009<br>Country: Afghanistan<br>Location: Unknown<br>Total Affected: 16<br>Killed: 0<br>Wounded: 0<br>Kidnapped: 16<br>Years Ago: 5",
            "Date: 8.0/13.0/2009<br>Country: Yemen<br>Location: Sa'dah<br>Total Affected: 15<br>Killed: 0<br>Wounded: 0<br>Kidnapped: 15<br>Years Ago: 5",
            "Date: 6.0/nan/2001<br>Country: Tajikistan<br>Location: Unknown<br>Total Affected: 15<br>Killed: 0<br>Wounded: 0<br>Kidnapped: 15<br>Years Ago: 13",
            "Date: 7.0/nan/2005<br>Country: Sudan<br>Location: Unknown<br>Total Affected: 15<br>Killed: 0<br>Wounded: 15<br>Kidnapped: 0<br>Years Ago: 9"
           ],
           "type": "scattergeo"
          }
         ],
         "name": "2014"
        },
        {
         "data": [
          {
           "colorscale": [
            [
             0,
             "rgb(255,245,240)"
            ],
            [
             0.125,
             "rgb(254,224,210)"
            ],
            [
             0.25,
             "rgb(252,187,161)"
            ],
            [
             0.375,
             "rgb(252,146,114)"
            ],
            [
             0.5,
             "rgb(251,106,74)"
            ],
            [
             0.625,
             "rgb(239,59,44)"
            ],
            [
             0.75,
             "rgb(203,24,29)"
            ],
            [
             0.875,
             "rgb(165,15,21)"
            ],
            [
             1,
             "rgb(103,0,13)"
            ]
           ],
           "locationmode": "ISO-3",
           "locations": [
            "AFG",
            "BGD",
            "BDI",
            "CMR",
            "CAF",
            "COD",
            "ETH",
            "GTM",
            "GIN",
            "HTI",
            "IRQ",
            "KEN",
            "LBY",
            "MLI",
            "MMR",
            "PAK",
            "SLE",
            "SOM",
            "ZAF",
            "SSD",
            "SDN",
            "SYR",
            "UGA",
            "YEM",
            "ZMB"
           ],
           "showscale": true,
           "type": "choropleth",
           "z": {
            "bdata": "ZQEDAw4cAgIBAQECAwYDAQEaASoMDgERAQ==",
            "dtype": "i1"
           }
          },
          {
           "hoverinfo": "text",
           "lat": {
            "bdata": "eZRKeEJdQkAAAAAAAAAkQOq/GNu1pkBAv4KPHETaKkC/fR04ZyQhQBy4Xi49xkBAIDl22WXwMEA23JH7Z1BDQBO6S+KsqCZA",
            "dtype": "f8"
           },
           "lon": {
            "bdata": "QDGyZI43UUAAAAAAAAAgQCDg/318MEZA1n/nKFGoNkBt5/up8U5UQBJQ4QjSW1FAD5dQl7zdRUBLFkGtM7RRQHWMEpHtFTlA",
            "dtype": "f8"
           },
           "marker": {
            "color": [
             "rgba(255, 0, 0, 0.9)",
             "rgba(50, 0, 0, 0.5)",
             "rgba(0, 0, 0, 0.4)",
             "rgba(0, 0, 0, 0.4)",
             "rgba(0, 0, 0, 0.4)",
             "rgba(0, 0, 0, 0.4)",
             "rgba(0, 0, 0, 0.4)",
             "rgba(0, 0, 0, 0.4)",
             "rgba(0, 0, 0, 0.4)"
            ],
            "line": {
             "color": "rgba(255, 255, 255, 0.5)",
             "width": 1
            },
            "size": {
             "bdata": "rPyEOCs/N0DLT4iz8hM2QJyVnxBn5SdA2DumBvaOJUDYO6YG9o4lQOwdUwN7xyRAAAAAAAAAJEAAAAAAAAAkQAAAAAAAACRA",
             "dtype": "f8"
            }
           },
           "mode": "markers",
           "name": "Attacks through 2015",
           "text": [
            "Date: 10.0/3.0/2015<br>Country: Afghanistan<br>Location: Unknown<br>Total Affected: 49<br>Killed: 14<br>Wounded: 35<br>Kidnapped: 0<br>Years Ago: 0",
            "Date: 8.0/26.0/2011<br>Country: Nigeria<br>Location: Abuja<br>Total Affected: 46<br>Killed: 9<br>Wounded: 37<br>Kidnapped: 0<br>Years Ago: 4",
            "Date: 8.0/19.0/2003<br>Country: Iraq<br>Location: Unknown<br>Total Affected: 20<br>Killed: 20<br>Wounded: 0<br>Kidnapped: 0<br>Years Ago: 12",
            "Date: 9.0/nan/2005<br>Country: Sudan<br>Location: Between Beida and Geneina<br>Total Affected: 17<br>Killed: 0<br>Wounded: 17<br>Kidnapped: 0<br>Years Ago: 10",
            "Date: 8.0/4.0/2006<br>Country: Sri Lanka<br>Location: Muttur<br>Total Affected: 17<br>Killed: 17<br>Wounded: 0<br>Kidnapped: 0<br>Years Ago: 9",
            "Date: 7.0/4.0/2009<br>Country: Afghanistan<br>Location: Unknown<br>Total Affected: 16<br>Killed: 0<br>Wounded: 0<br>Kidnapped: 16<br>Years Ago: 6",
            "Date: 8.0/13.0/2009<br>Country: Yemen<br>Location: Sa'dah<br>Total Affected: 15<br>Killed: 0<br>Wounded: 0<br>Kidnapped: 15<br>Years Ago: 6",
            "Date: 6.0/nan/2001<br>Country: Tajikistan<br>Location: Unknown<br>Total Affected: 15<br>Killed: 0<br>Wounded: 0<br>Kidnapped: 15<br>Years Ago: 14",
            "Date: 7.0/nan/2005<br>Country: Sudan<br>Location: Unknown<br>Total Affected: 15<br>Killed: 0<br>Wounded: 15<br>Kidnapped: 0<br>Years Ago: 10"
           ],
           "type": "scattergeo"
          }
         ],
         "name": "2015"
        },
        {
         "data": [
          {
           "colorscale": [
            [
             0,
             "rgb(255,245,240)"
            ],
            [
             0.125,
             "rgb(254,224,210)"
            ],
            [
             0.25,
             "rgb(252,187,161)"
            ],
            [
             0.375,
             "rgb(252,146,114)"
            ],
            [
             0.5,
             "rgb(251,106,74)"
            ],
            [
             0.625,
             "rgb(239,59,44)"
            ],
            [
             0.75,
             "rgb(203,24,29)"
            ],
            [
             0.875,
             "rgb(165,15,21)"
            ],
            [
             1,
             "rgb(103,0,13)"
            ]
           ],
           "locationmode": "ISO-3",
           "locations": [
            "AFG",
            "AGO",
            "BGD",
            "BFA",
            "CAF",
            "COD",
            "SLV",
            "HTI",
            "HND",
            "IRQ",
            "KEN",
            "MLI",
            "NIC",
            "NER",
            "NGA",
            "PSE",
            "PAK",
            "SOM",
            "SSD",
            "SDN",
            "SYR",
            "YEM"
           ],
           "showscale": true,
           "type": "choropleth",
           "z": {
            "bdata": "PwEDAgcWAQECAQIFAQIDAQERYgcrDQ==",
            "dtype": "i1"
           }
          },
          {
           "hoverinfo": "text",
           "lat": {
            "bdata": "eZRKeEJdQkAAAAAAAAAkQCbirfNvjyJA6r8Y27WmQEC/go8cRNoqQL99HThnJCFAHLheLj3GQEDekbHa/G8TQCA5dtll8DBANtyR+2dQQ0ATukvirKgmQA==",
            "dtype": "f8"
           },
           "lon": {
            "bdata": "QDGyZI43UUAAAAAAAAAgQJP/yd+9xz1AIOD/fXwwRkDWf+coUag2QG3n+6nxTlRAElDhCNJbUUAK16NwPZI/QA+XUJe83UVASxZBrTO0UUB1jBKR7RU5QA==",
            "dtype": "f8"
           },
           "marker": {
            "color": [
             "rgba(204, 0, 0, 0.8)",
             "rgba(0, 0, 0, 0.4)",
             "rgba(255, 0, 0, 0.9)",
             "rgba(0, 0, 0, 0.4)",
             "rgba(0, 0, 0, 0.4)",
             "rgba(0, 0, 0, 0.4)",
             "rgba(0, 0, 0, 0.4)",
             "rgba(255, 0, 0, 0.9)",
             "rgba(0, 0, 0, 0.4)",
             "rgba(0, 0, 0, 0.4)",
             "rgba(0, 0, 0, 0.4)"
            ],
            "line": {
             "color": "rgba(255, 255, 255, 0.5)",
             "width": 1
            },
            "size": {
             "bdata": "rPyEOCs/N0DLT4iz8hM2QJyVnxBn5SdAnJWfEGflJ0DYO6YG9o4lQNg7pgb2jiVA7B1TA3vHJEDsHVMDe8ckQAAAAAAAACRAAAAAAAAAJEAAAAAAAAAkQA==",
             "dtype": "f8"
            }
           },
           "mode": "markers",
           "name": "Attacks through 2016",
           "text": [
            "Date: 10.0/3.0/2015<br>Country: Afghanistan<br>Location: Unknown<br>Total Affected: 49<br>Killed: 14<br>Wounded: 35<br>Kidnapped: 0<br>Years Ago: 1",
            "Date: 8.0/26.0/2011<br>Country: Nigeria<br>Location: Abuja<br>Total Affected: 46<br>Killed: 9<br>Wounded: 37<br>Kidnapped: 0<br>Years Ago: 5",
            "Date: 11.0/13.0/2016<br>Country: South Sudan<br>Location: Unknown<br>Total Affected: 20<br>Killed: 0<br>Wounded: 0<br>Kidnapped: 20<br>Years Ago: 0",
            "Date: 8.0/19.0/2003<br>Country: Iraq<br>Location: Unknown<br>Total Affected: 20<br>Killed: 20<br>Wounded: 0<br>Kidnapped: 0<br>Years Ago: 13",
            "Date: 9.0/nan/2005<br>Country: Sudan<br>Location: Between Beida and Geneina<br>Total Affected: 17<br>Killed: 0<br>Wounded: 17<br>Kidnapped: 0<br>Years Ago: 11",
            "Date: 8.0/4.0/2006<br>Country: Sri Lanka<br>Location: Muttur<br>Total Affected: 17<br>Killed: 17<br>Wounded: 0<br>Kidnapped: 0<br>Years Ago: 10",
            "Date: 7.0/4.0/2009<br>Country: Afghanistan<br>Location: Unknown<br>Total Affected: 16<br>Killed: 0<br>Wounded: 0<br>Kidnapped: 16<br>Years Ago: 7",
            "Date: 7.0/11.0/2016<br>Country: South Sudan<br>Location: Juba<br>Total Affected: 16<br>Killed: 1<br>Wounded: 15<br>Kidnapped: 0<br>Years Ago: 0",
            "Date: 8.0/13.0/2009<br>Country: Yemen<br>Location: Sa'dah<br>Total Affected: 15<br>Killed: 0<br>Wounded: 0<br>Kidnapped: 15<br>Years Ago: 7",
            "Date: 6.0/nan/2001<br>Country: Tajikistan<br>Location: Unknown<br>Total Affected: 15<br>Killed: 0<br>Wounded: 0<br>Kidnapped: 15<br>Years Ago: 15",
            "Date: 7.0/nan/2005<br>Country: Sudan<br>Location: Unknown<br>Total Affected: 15<br>Killed: 0<br>Wounded: 15<br>Kidnapped: 0<br>Years Ago: 11"
           ],
           "type": "scattergeo"
          }
         ],
         "name": "2016"
        },
        {
         "data": [
          {
           "colorscale": [
            [
             0,
             "rgb(255,245,240)"
            ],
            [
             0.125,
             "rgb(254,224,210)"
            ],
            [
             0.25,
             "rgb(252,187,161)"
            ],
            [
             0.375,
             "rgb(252,146,114)"
            ],
            [
             0.5,
             "rgb(251,106,74)"
            ],
            [
             0.625,
             "rgb(239,59,44)"
            ],
            [
             0.75,
             "rgb(203,24,29)"
            ],
            [
             0.875,
             "rgb(165,15,21)"
            ],
            [
             1,
             "rgb(103,0,13)"
            ]
           ],
           "locationmode": "ISO-3",
           "locations": [
            "AFG",
            "CAF",
            "TCD",
            "COD",
            "HTI",
            "IRQ",
            "KEN",
            "LBY",
            "MDG",
            "MLI",
            "MUS",
            "MEX",
            "MMR",
            "NGA",
            "PAK",
            "SLE",
            "SOM",
            "SSD",
            "SDN",
            "SYR",
            "UGA",
            "YEM"
           ],
           "showscale": true,
           "type": "choropleth",
           "z": {
            "bdata": "HxcBCgEDBAMBCgEDAR8FASRPBDUBDQ==",
            "dtype": "i1"
           }
          },
          {
           "hoverinfo": "text",
           "lat": {
            "bdata": "eZRKeEJdQkAAAAAAAAAkQCbirfNvjyJA6r8Y27WmQEBPkNjuHmAAQL+CjxxE2ipAv30dOGckIUAcuF4uPcZAQN6Rsdr8bxNAIDl22WXwMEA23JH7Z1BDQBO6S+KsqCZA",
            "dtype": "f8"
           },
           "lon": {
            "bdata": "QDGyZI43UUAAAAAAAAAgQJP/yd+9xz1AIOD/fXwwRkA8akyIuahGQNZ/5yhRqDZAbef7qfFOVEASUOEI0ltRQArXo3A9kj9AD5dQl7zdRUBLFkGtM7RRQHWMEpHtFTlA",
            "dtype": "f8"
           },
           "marker": {
            "color": [
             "rgba(153, 0, 0, 0.7)",
             "rgba(0, 0, 0, 0.4)",
             "rgba(204, 0, 0, 0.8)",
             "rgba(0, 0, 0, 0.4)",
             "rgba(255, 0, 0, 0.9)",
             "rgba(0, 0, 0, 0.4)",
             "rgba(0, 0, 0, 0.4)",
             "rgba(0, 0, 0, 0.4)",
             "rgba(204, 0, 0, 0.8)",
             "rgba(0, 0, 0, 0.4)",
             "rgba(0, 0, 0, 0.4)",
             "rgba(0, 0, 0, 0.4)"
            ],
            "line": {
             "color": "rgba(255, 255, 255, 0.5)",
             "width": 1
            },
            "size": {
             "bdata": "rPyEOCs/N0DLT4iz8hM2QJyVnxBn5SdAnJWfEGflJ0DEWfkJcVYmQNg7pgb2jiVA2DumBvaOJUDsHVMDe8ckQOwdUwN7xyRAAAAAAAAAJEAAAAAAAAAkQAAAAAAAACRA",
             "dtype": "f8"
            }
           },
           "mode": "markers",
           "name": "Attacks through 2017",
           "text": [
            "Date: 10.0/3.0/2015<br>Country: Afghanistan<br>Location: Unknown<br>Total Affected: 49<br>Killed: 14<br>Wounded: 35<br>Kidnapped: 0<br>Years Ago: 2",
            "Date: 8.0/26.0/2011<br>Country: Nigeria<br>Location: Abuja<br>Total Affected: 46<br>Killed: 9<br>Wounded: 37<br>Kidnapped: 0<br>Years Ago: 6",
            "Date: 11.0/13.0/2016<br>Country: South Sudan<br>Location: Unknown<br>Total Affected: 20<br>Killed: 0<br>Wounded: 0<br>Kidnapped: 20<br>Years Ago: 1",
            "Date: 8.0/19.0/2003<br>Country: Iraq<br>Location: Unknown<br>Total Affected: 20<br>Killed: 20<br>Wounded: 0<br>Kidnapped: 0<br>Years Ago: 14",
            "Date: 10.0/14.0/2017<br>Country: Somalia<br>Location: Mogadishu<br>Total Affected: 18<br>Killed: 5<br>Wounded: 13<br>Kidnapped: 0<br>Years Ago: 0",
            "Date: 9.0/nan/2005<br>Country: Sudan<br>Location: Between Beida and Geneina<br>Total Affected: 17<br>Killed: 0<br>Wounded: 17<br>Kidnapped: 0<br>Years Ago: 12",
            "Date: 8.0/4.0/2006<br>Country: Sri Lanka<br>Location: Muttur<br>Total Affected: 17<br>Killed: 17<br>Wounded: 0<br>Kidnapped: 0<br>Years Ago: 11",
            "Date: 7.0/4.0/2009<br>Country: Afghanistan<br>Location: Unknown<br>Total Affected: 16<br>Killed: 0<br>Wounded: 0<br>Kidnapped: 16<br>Years Ago: 8",
            "Date: 7.0/11.0/2016<br>Country: South Sudan<br>Location: Juba<br>Total Affected: 16<br>Killed: 1<br>Wounded: 15<br>Kidnapped: 0<br>Years Ago: 1",
            "Date: 8.0/13.0/2009<br>Country: Yemen<br>Location: Sa'dah<br>Total Affected: 15<br>Killed: 0<br>Wounded: 0<br>Kidnapped: 15<br>Years Ago: 8",
            "Date: 6.0/nan/2001<br>Country: Tajikistan<br>Location: Unknown<br>Total Affected: 15<br>Killed: 0<br>Wounded: 0<br>Kidnapped: 15<br>Years Ago: 16",
            "Date: 7.0/nan/2005<br>Country: Sudan<br>Location: Unknown<br>Total Affected: 15<br>Killed: 0<br>Wounded: 15<br>Kidnapped: 0<br>Years Ago: 12"
           ],
           "type": "scattergeo"
          }
         ],
         "name": "2017"
        },
        {
         "data": [
          {
           "colorscale": [
            [
             0,
             "rgb(255,245,240)"
            ],
            [
             0.125,
             "rgb(254,224,210)"
            ],
            [
             0.25,
             "rgb(252,187,161)"
            ],
            [
             0.375,
             "rgb(252,146,114)"
            ],
            [
             0.5,
             "rgb(251,106,74)"
            ],
            [
             0.625,
             "rgb(239,59,44)"
            ],
            [
             0.75,
             "rgb(203,24,29)"
            ],
            [
             0.875,
             "rgb(165,15,21)"
            ],
            [
             1,
             "rgb(103,0,13)"
            ]
           ],
           "locationmode": "ISO-3",
           "locations": [
            "AFG",
            "DZA",
            "AZE",
            "BGD",
            "CMR",
            "CAF",
            "COD",
            "SLV",
            "ETH",
            "GTM",
            "GIN",
            "HTI",
            "IRQ",
            "KEN",
            "LBY",
            "MLI",
            "MEX",
            "MMR",
            "NIC",
            "NER",
            "NGA",
            "PSE",
            "PAK",
            "PNG",
            "PHL",
            "SAU",
            "SLE",
            "SOM",
            "SSD",
            "LKA",
            "SDN",
            "SYR",
            "TZA",
            "TUN",
            "UGA",
            "YEM"
           ],
           "showscale": true,
           "type": "choropleth",
           "z": {
            "bdata": "LwEFAwIVKwEDAgEBAwYFFgQBAQEMAwECAQEBDG8BCUQCAQQH",
            "dtype": "i1"
           }
          },
          {
           "hoverinfo": "text",
           "lat": {
            "bdata": "eZRKeEJdQkAAAAAAAAAkQCbirfNvjyJA6r8Y27WmQEBPkNjuHmAAQL+CjxxE2ipAv30dOGckIUAcuF4uPcZAQN6Rsdr8bxNAIDl22WXwMEA23JH7Z1BDQBO6S+KsqCZA",
            "dtype": "f8"
           },
           "lon": {
            "bdata": "QDGyZI43UUAAAAAAAAAgQJP/yd+9xz1AIOD/fXwwRkA8akyIuahGQNZ/5yhRqDZAbef7qfFOVEASUOEI0ltRQArXo3A9kj9AD5dQl7zdRUBLFkGtM7RRQHWMEpHtFTlA",
            "dtype": "f8"
           },
           "marker": {
            "color": [
             "rgba(102, 0, 0, 0.6000000000000001)",
             "rgba(0, 0, 0, 0.4)",
             "rgba(153, 0, 0, 0.7)",
             "rgba(0, 0, 0, 0.4)",
             "rgba(204, 0, 0, 0.8)",
             "rgba(0, 0, 0, 0.4)",
             "rgba(0, 0, 0, 0.4)",
             "rgba(0, 0, 0, 0.4)",
             "rgba(153, 0, 0, 0.7)",
             "rgba(0, 0, 0, 0.4)",
             "rgba(0, 0, 0, 0.4)",
             "rgba(0, 0, 0, 0.4)"
            ],
            "line": {
             "color": "rgba(255, 255, 255, 0.5)",
             "width": 1
            },
            "size": {
             "bdata": "rPyEOCs/N0DLT4iz8hM2QJyVnxBn5SdAnJWfEGflJ0DEWfkJcVYmQNg7pgb2jiVA2DumBvaOJUDsHVMDe8ckQOwdUwN7xyRAAAAAAAAAJEAAAAAAAAAkQAAAAAAAACRA",
             "dtype": "f8"
            }
           },
           "mode": "markers",
           "name": "Attacks through 2018",
           "text": [
            "Date: 10.0/3.0/2015<br>Country: Afghanistan<br>Location: Unknown<br>Total Affected: 49<br>Killed: 14<br>Wounded: 35<br>Kidnapped: 0<br>Years Ago: 3",
            "Date: 8.0/26.0/2011<br>Country: Nigeria<br>Location: Abuja<br>Total Affected: 46<br>Killed: 9<br>Wounded: 37<br>Kidnapped: 0<br>Years Ago: 7",
            "Date: 11.0/13.0/2016<br>Country: South Sudan<br>Location: Unknown<br>Total Affected: 20<br>Killed: 0<br>Wounded: 0<br>Kidnapped: 20<br>Years Ago: 2",
            "Date: 8.0/19.0/2003<br>Country: Iraq<br>Location: Unknown<br>Total Affected: 20<br>Killed: 20<br>Wounded: 0<br>Kidnapped: 0<br>Years Ago: 15",
            "Date: 10.0/14.0/2017<br>Country: Somalia<br>Location: Mogadishu<br>Total Affected: 18<br>Killed: 5<br>Wounded: 13<br>Kidnapped: 0<br>Years Ago: 1",
            "Date: 9.0/nan/2005<br>Country: Sudan<br>Location: Between Beida and Geneina<br>Total Affected: 17<br>Killed: 0<br>Wounded: 17<br>Kidnapped: 0<br>Years Ago: 13",
            "Date: 8.0/4.0/2006<br>Country: Sri Lanka<br>Location: Muttur<br>Total Affected: 17<br>Killed: 17<br>Wounded: 0<br>Kidnapped: 0<br>Years Ago: 12",
            "Date: 7.0/4.0/2009<br>Country: Afghanistan<br>Location: Unknown<br>Total Affected: 16<br>Killed: 0<br>Wounded: 0<br>Kidnapped: 16<br>Years Ago: 9",
            "Date: 7.0/11.0/2016<br>Country: South Sudan<br>Location: Juba<br>Total Affected: 16<br>Killed: 1<br>Wounded: 15<br>Kidnapped: 0<br>Years Ago: 2",
            "Date: 8.0/13.0/2009<br>Country: Yemen<br>Location: Sa'dah<br>Total Affected: 15<br>Killed: 0<br>Wounded: 0<br>Kidnapped: 15<br>Years Ago: 9",
            "Date: 6.0/nan/2001<br>Country: Tajikistan<br>Location: Unknown<br>Total Affected: 15<br>Killed: 0<br>Wounded: 0<br>Kidnapped: 15<br>Years Ago: 17",
            "Date: 7.0/nan/2005<br>Country: Sudan<br>Location: Unknown<br>Total Affected: 15<br>Killed: 0<br>Wounded: 15<br>Kidnapped: 0<br>Years Ago: 13"
           ],
           "type": "scattergeo"
          }
         ],
         "name": "2018"
        },
        {
         "data": [
          {
           "colorscale": [
            [
             0,
             "rgb(255,245,240)"
            ],
            [
             0.125,
             "rgb(254,224,210)"
            ],
            [
             0.25,
             "rgb(252,187,161)"
            ],
            [
             0.375,
             "rgb(252,146,114)"
            ],
            [
             0.5,
             "rgb(251,106,74)"
            ],
            [
             0.625,
             "rgb(239,59,44)"
            ],
            [
             0.75,
             "rgb(203,24,29)"
            ],
            [
             0.875,
             "rgb(165,15,21)"
            ],
            [
             1,
             "rgb(103,0,13)"
            ]
           ],
           "locationmode": "ISO-3",
           "locations": [
            "AFG",
            "BGD",
            "BOL",
            "BFA",
            "BDI",
            "KHM",
            "CMR",
            "CAF",
            "TCD",
            "CIV",
            "COD",
            "ECU",
            "ETH",
            "GTM",
            "HTI",
            "IRQ",
            "JOR",
            "KEN",
            "LBY",
            "MWI",
            "MLI",
            "MEX",
            "MOZ",
            "MMR",
            "NER",
            "NGA",
            "PSE",
            "PAK",
            "PNG",
            "PHL",
            "SEN",
            "SOM",
            "SSD",
            "LKA",
            "SDN",
            "SYR",
            "TZA",
            "TUN",
            "UGA",
            "UKR",
            "YEM"
           ],
           "showscale": true,
           "type": "choropleth",
           "z": {
            "bdata": "MgYBCAEBExgCATABDQIEAQMCAgMdAgEDBBcIBQEDAQ8+AwlWAwEKARM=",
            "dtype": "i1"
           }
          },
          {
           "hoverinfo": "text",
           "lat": {
            "bdata": "eZRKeEJdQkAAAAAAAAAkQCbirfNvjyJA6r8Y27WmQEBPkNjuHmAAQL+CjxxE2ipAv30dOGckIUAcuF4uPcZAQN6Rsdr8bxNAIDl22WXwMEA23JH7Z1BDQBO6S+KsqCZA",
            "dtype": "f8"
           },
           "lon": {
            "bdata": "QDGyZI43UUAAAAAAAAAgQJP/yd+9xz1AIOD/fXwwRkA8akyIuahGQNZ/5yhRqDZAbef7qfFOVEASUOEI0ltRQArXo3A9kj9AD5dQl7zdRUBLFkGtM7RRQHWMEpHtFTlA",
            "dtype": "f8"
           },
           "marker": {
            "color": [
             "rgba(50, 0, 0, 0.5)",
             "rgba(0, 0, 0, 0.4)",
             "rgba(102, 0, 0, 0.6000000000000001)",
             "rgba(0, 0, 0, 0.4)",
             "rgba(153, 0, 0, 0.7)",
             "rgba(0, 0, 0, 0.4)",
             "rgba(0, 0, 0, 0.4)",
             "rgba(0, 0, 0, 0.4)",
             "rgba(102, 0, 0, 0.6000000000000001)",
             "rgba(0, 0, 0, 0.4)",
             "rgba(0, 0, 0, 0.4)",
             "rgba(0, 0, 0, 0.4)"
            ],
            "line": {
             "color": "rgba(255, 255, 255, 0.5)",
             "width": 1
            },
            "size": {
             "bdata": "rPyEOCs/N0DLT4iz8hM2QJyVnxBn5SdAnJWfEGflJ0DEWfkJcVYmQNg7pgb2jiVA2DumBvaOJUDsHVMDe8ckQOwdUwN7xyRAAAAAAAAAJEAAAAAAAAAkQAAAAAAAACRA",
             "dtype": "f8"
            }
           },
           "mode": "markers",
           "name": "Attacks through 2019",
           "text": [
            "Date: 10.0/3.0/2015<br>Country: Afghanistan<br>Location: Unknown<br>Total Affected: 49<br>Killed: 14<br>Wounded: 35<br>Kidnapped: 0<br>Years Ago: 4",
            "Date: 8.0/26.0/2011<br>Country: Nigeria<br>Location: Abuja<br>Total Affected: 46<br>Killed: 9<br>Wounded: 37<br>Kidnapped: 0<br>Years Ago: 8",
            "Date: 11.0/13.0/2016<br>Country: South Sudan<br>Location: Unknown<br>Total Affected: 20<br>Killed: 0<br>Wounded: 0<br>Kidnapped: 20<br>Years Ago: 3",
            "Date: 8.0/19.0/2003<br>Country: Iraq<br>Location: Unknown<br>Total Affected: 20<br>Killed: 20<br>Wounded: 0<br>Kidnapped: 0<br>Years Ago: 16",
            "Date: 10.0/14.0/2017<br>Country: Somalia<br>Location: Mogadishu<br>Total Affected: 18<br>Killed: 5<br>Wounded: 13<br>Kidnapped: 0<br>Years Ago: 2",
            "Date: 9.0/nan/2005<br>Country: Sudan<br>Location: Between Beida and Geneina<br>Total Affected: 17<br>Killed: 0<br>Wounded: 17<br>Kidnapped: 0<br>Years Ago: 14",
            "Date: 8.0/4.0/2006<br>Country: Sri Lanka<br>Location: Muttur<br>Total Affected: 17<br>Killed: 17<br>Wounded: 0<br>Kidnapped: 0<br>Years Ago: 13",
            "Date: 7.0/4.0/2009<br>Country: Afghanistan<br>Location: Unknown<br>Total Affected: 16<br>Killed: 0<br>Wounded: 0<br>Kidnapped: 16<br>Years Ago: 10",
            "Date: 7.0/11.0/2016<br>Country: South Sudan<br>Location: Juba<br>Total Affected: 16<br>Killed: 1<br>Wounded: 15<br>Kidnapped: 0<br>Years Ago: 3",
            "Date: 8.0/13.0/2009<br>Country: Yemen<br>Location: Sa'dah<br>Total Affected: 15<br>Killed: 0<br>Wounded: 0<br>Kidnapped: 15<br>Years Ago: 10",
            "Date: 6.0/nan/2001<br>Country: Tajikistan<br>Location: Unknown<br>Total Affected: 15<br>Killed: 0<br>Wounded: 0<br>Kidnapped: 15<br>Years Ago: 18",
            "Date: 7.0/nan/2005<br>Country: Sudan<br>Location: Unknown<br>Total Affected: 15<br>Killed: 0<br>Wounded: 15<br>Kidnapped: 0<br>Years Ago: 14"
           ],
           "type": "scattergeo"
          }
         ],
         "name": "2019"
        },
        {
         "data": [
          {
           "colorscale": [
            [
             0,
             "rgb(255,245,240)"
            ],
            [
             0.125,
             "rgb(254,224,210)"
            ],
            [
             0.25,
             "rgb(252,187,161)"
            ],
            [
             0.375,
             "rgb(252,146,114)"
            ],
            [
             0.5,
             "rgb(251,106,74)"
            ],
            [
             0.625,
             "rgb(239,59,44)"
            ],
            [
             0.75,
             "rgb(203,24,29)"
            ],
            [
             0.875,
             "rgb(165,15,21)"
            ],
            [
             1,
             "rgb(103,0,13)"
            ]
           ],
           "locationmode": "ISO-3",
           "locations": [
            "AFG",
            "BGD",
            "BWA",
            "BFA",
            "BDI",
            "CMR",
            "CAF",
            "CHL",
            "COL",
            "COG",
            "CIV",
            "COD",
            "ETH",
            "FJI",
            "HTI",
            "IND",
            "IRQ",
            "JOR",
            "KEN",
            "KGZ",
            "LBY",
            "MDG",
            "MLI",
            "MEX",
            "MOZ",
            "MMR",
            "NER",
            "NGA",
            "PAK",
            "PNG",
            "PER",
            "SOM",
            "SSD",
            "SDN",
            "SYR",
            "UGA",
            "URY",
            "YEM",
            "ZMB",
            "ZWE"
           ],
           "showscale": true,
           "type": "choropleth",
           "z": {
            "bdata": "EQIBBwEVHwEDAgEpFQEEAgkBAQEDAScFBgEUEQMBARlMBlUKAQwBAQ==",
            "dtype": "i1"
           }
          },
          {
           "hoverinfo": "text",
           "lat": {
            "bdata": "eZRKeEJdQkAAAAAAAAAkQCbirfNvjyJA6r8Y27WmQEBPkNjuHmAAQL+CjxxE2ipAv30dOGckIUAcuF4uPcZAQN6Rsdr8bxNAIDl22WXwMEA23JH7Z1BDQBO6S+KsqCZA",
            "dtype": "f8"
           },
           "lon": {
            "bdata": "QDGyZI43UUAAAAAAAAAgQJP/yd+9xz1AIOD/fXwwRkA8akyIuahGQNZ/5yhRqDZAbef7qfFOVEASUOEI0ltRQArXo3A9kj9AD5dQl7zdRUBLFkGtM7RRQHWMEpHtFTlA",
            "dtype": "f8"
           },
           "marker": {
            "color": [
             "rgba(0, 0, 0, 0.4)",
             "rgba(0, 0, 0, 0.4)",
             "rgba(50, 0, 0, 0.5)",
             "rgba(0, 0, 0, 0.4)",
             "rgba(102, 0, 0, 0.6000000000000001)",
             "rgba(0, 0, 0, 0.4)",
             "rgba(0, 0, 0, 0.4)",
             "rgba(0, 0, 0, 0.4)",
             "rgba(50, 0, 0, 0.5)",
             "rgba(0, 0, 0, 0.4)",
             "rgba(0, 0, 0, 0.4)",
             "rgba(0, 0, 0, 0.4)"
            ],
            "line": {
             "color": "rgba(255, 255, 255, 0.5)",
             "width": 1
            },
            "size": {
             "bdata": "rPyEOCs/N0DLT4iz8hM2QJyVnxBn5SdAnJWfEGflJ0DEWfkJcVYmQNg7pgb2jiVA2DumBvaOJUDsHVMDe8ckQOwdUwN7xyRAAAAAAAAAJEAAAAAAAAAkQAAAAAAAACRA",
             "dtype": "f8"
            }
           },
           "mode": "markers",
           "name": "Attacks through 2020",
           "text": [
            "Date: 10.0/3.0/2015<br>Country: Afghanistan<br>Location: Unknown<br>Total Affected: 49<br>Killed: 14<br>Wounded: 35<br>Kidnapped: 0<br>Years Ago: 5",
            "Date: 8.0/26.0/2011<br>Country: Nigeria<br>Location: Abuja<br>Total Affected: 46<br>Killed: 9<br>Wounded: 37<br>Kidnapped: 0<br>Years Ago: 9",
            "Date: 11.0/13.0/2016<br>Country: South Sudan<br>Location: Unknown<br>Total Affected: 20<br>Killed: 0<br>Wounded: 0<br>Kidnapped: 20<br>Years Ago: 4",
            "Date: 8.0/19.0/2003<br>Country: Iraq<br>Location: Unknown<br>Total Affected: 20<br>Killed: 20<br>Wounded: 0<br>Kidnapped: 0<br>Years Ago: 17",
            "Date: 10.0/14.0/2017<br>Country: Somalia<br>Location: Mogadishu<br>Total Affected: 18<br>Killed: 5<br>Wounded: 13<br>Kidnapped: 0<br>Years Ago: 3",
            "Date: 9.0/nan/2005<br>Country: Sudan<br>Location: Between Beida and Geneina<br>Total Affected: 17<br>Killed: 0<br>Wounded: 17<br>Kidnapped: 0<br>Years Ago: 15",
            "Date: 8.0/4.0/2006<br>Country: Sri Lanka<br>Location: Muttur<br>Total Affected: 17<br>Killed: 17<br>Wounded: 0<br>Kidnapped: 0<br>Years Ago: 14",
            "Date: 7.0/4.0/2009<br>Country: Afghanistan<br>Location: Unknown<br>Total Affected: 16<br>Killed: 0<br>Wounded: 0<br>Kidnapped: 16<br>Years Ago: 11",
            "Date: 7.0/11.0/2016<br>Country: South Sudan<br>Location: Juba<br>Total Affected: 16<br>Killed: 1<br>Wounded: 15<br>Kidnapped: 0<br>Years Ago: 4",
            "Date: 8.0/13.0/2009<br>Country: Yemen<br>Location: Sa'dah<br>Total Affected: 15<br>Killed: 0<br>Wounded: 0<br>Kidnapped: 15<br>Years Ago: 11",
            "Date: 6.0/nan/2001<br>Country: Tajikistan<br>Location: Unknown<br>Total Affected: 15<br>Killed: 0<br>Wounded: 0<br>Kidnapped: 15<br>Years Ago: 19",
            "Date: 7.0/nan/2005<br>Country: Sudan<br>Location: Unknown<br>Total Affected: 15<br>Killed: 0<br>Wounded: 15<br>Kidnapped: 0<br>Years Ago: 15"
           ],
           "type": "scattergeo"
          }
         ],
         "name": "2020"
        },
        {
         "data": [
          {
           "colorscale": [
            [
             0,
             "rgb(255,245,240)"
            ],
            [
             0.125,
             "rgb(254,224,210)"
            ],
            [
             0.25,
             "rgb(252,187,161)"
            ],
            [
             0.375,
             "rgb(252,146,114)"
            ],
            [
             0.5,
             "rgb(251,106,74)"
            ],
            [
             0.625,
             "rgb(239,59,44)"
            ],
            [
             0.75,
             "rgb(203,24,29)"
            ],
            [
             0.875,
             "rgb(165,15,21)"
            ],
            [
             1,
             "rgb(103,0,13)"
            ]
           ],
           "locationmode": "ISO-3",
           "locations": [
            "AFG",
            "BGD",
            "BOL",
            "BFA",
            "CMR",
            "CAF",
            "TCD",
            "COL",
            "COD",
            "SLV",
            "ETH",
            "GNB",
            "HTI",
            "KEN",
            "LSO",
            "LBR",
            "LBY",
            "MDG",
            "MLI",
            "MMR",
            "NAM",
            "NER",
            "NGA",
            "PSE",
            "PAK",
            "SLE",
            "SOM",
            "SSD",
            "LKA",
            "SDN",
            "SYR",
            "UGA",
            "YEM"
           ],
           "showscale": true,
           "type": "choropleth",
           "z": {
            "bdata": "PQEBBhEVAQEgAhgBEgEBAgECLx0BAQ0DBQEGXQEJNAIJ",
            "dtype": "i1"
           }
          },
          {
           "hoverinfo": "text",
           "lat": {
            "bdata": "eZRKeEJdQkAAAAAAAAAkQArXo3A9KkJAJuKt82+PIkDqvxjbtaZAQE+Q2O4eYABAv4KPHETaKkC/fR04ZyQhQBy4Xi49xkBA3pGx2vxvE0AgOXbZZfAwQDbckftnUENAE7pL4qyoJkA=",
            "dtype": "f8"
           },
           "lon": {
            "bdata": "QDGyZI43UUAAAAAAAAAgQEjhehSuJ1FAk//J373HPUAg4P99fDBGQDxqTIi5qEZA1n/nKFGoNkBt5/up8U5UQBJQ4QjSW1FACtejcD2SP0APl1CXvN1FQEsWQa0ztFFAdYwSke0VOUA=",
            "dtype": "f8"
           },
           "marker": {
            "color": [
             "rgba(0, 0, 0, 0.4)",
             "rgba(0, 0, 0, 0.4)",
             "rgba(255, 0, 0, 0.9)",
             "rgba(0, 0, 0, 0.4)",
             "rgba(0, 0, 0, 0.4)",
             "rgba(50, 0, 0, 0.5)",
             "rgba(0, 0, 0, 0.4)",
             "rgba(0, 0, 0, 0.4)",
             "rgba(0, 0, 0, 0.4)",
             "rgba(0, 0, 0, 0.4)",
             "rgba(0, 0, 0, 0.4)",
             "rgba(0, 0, 0, 0.4)",
             "rgba(0, 0, 0, 0.4)"
            ],
            "line": {
             "color": "rgba(255, 255, 255, 0.5)",
             "width": 1
            },
            "size": {
             "bdata": "rPyEOCs/N0DLT4iz8hM2QCRJkiRJkixAnJWfEGflJ0CclZ8QZ+UnQMRZ+QlxViZA2DumBvaOJUDYO6YG9o4lQOwdUwN7xyRA7B1TA3vHJEAAAAAAAAAkQAAAAAAAACRAAAAAAAAAJEA=",
             "dtype": "f8"
            }
           },
           "mode": "markers",
           "name": "Attacks through 2021",
           "text": [
            "Date: 10.0/3.0/2015<br>Country: Afghanistan<br>Location: Unknown<br>Total Affected: 49<br>Killed: 14<br>Wounded: 35<br>Kidnapped: 0<br>Years Ago: 6",
            "Date: 8.0/26.0/2011<br>Country: Nigeria<br>Location: Abuja<br>Total Affected: 46<br>Killed: 9<br>Wounded: 37<br>Kidnapped: 0<br>Years Ago: 10",
            "Date: 6.0/8.0/2021<br>Country: Afghanistan<br>Location: Shikh Jalal<br>Total Affected: 26<br>Killed: 10<br>Wounded: 16<br>Kidnapped: 0<br>Years Ago: 0",
            "Date: 11.0/13.0/2016<br>Country: South Sudan<br>Location: Unknown<br>Total Affected: 20<br>Killed: 0<br>Wounded: 0<br>Kidnapped: 20<br>Years Ago: 5",
            "Date: 8.0/19.0/2003<br>Country: Iraq<br>Location: Unknown<br>Total Affected: 20<br>Killed: 20<br>Wounded: 0<br>Kidnapped: 0<br>Years Ago: 18",
            "Date: 10.0/14.0/2017<br>Country: Somalia<br>Location: Mogadishu<br>Total Affected: 18<br>Killed: 5<br>Wounded: 13<br>Kidnapped: 0<br>Years Ago: 4",
            "Date: 9.0/nan/2005<br>Country: Sudan<br>Location: Between Beida and Geneina<br>Total Affected: 17<br>Killed: 0<br>Wounded: 17<br>Kidnapped: 0<br>Years Ago: 16",
            "Date: 8.0/4.0/2006<br>Country: Sri Lanka<br>Location: Muttur<br>Total Affected: 17<br>Killed: 17<br>Wounded: 0<br>Kidnapped: 0<br>Years Ago: 15",
            "Date: 7.0/4.0/2009<br>Country: Afghanistan<br>Location: Unknown<br>Total Affected: 16<br>Killed: 0<br>Wounded: 0<br>Kidnapped: 16<br>Years Ago: 12",
            "Date: 7.0/11.0/2016<br>Country: South Sudan<br>Location: Juba<br>Total Affected: 16<br>Killed: 1<br>Wounded: 15<br>Kidnapped: 0<br>Years Ago: 5",
            "Date: 8.0/13.0/2009<br>Country: Yemen<br>Location: Sa'dah<br>Total Affected: 15<br>Killed: 0<br>Wounded: 0<br>Kidnapped: 15<br>Years Ago: 12",
            "Date: 6.0/nan/2001<br>Country: Tajikistan<br>Location: Unknown<br>Total Affected: 15<br>Killed: 0<br>Wounded: 0<br>Kidnapped: 15<br>Years Ago: 20",
            "Date: 7.0/nan/2005<br>Country: Sudan<br>Location: Unknown<br>Total Affected: 15<br>Killed: 0<br>Wounded: 15<br>Kidnapped: 0<br>Years Ago: 16"
           ],
           "type": "scattergeo"
          }
         ],
         "name": "2021"
        },
        {
         "data": [
          {
           "colorscale": [
            [
             0,
             "rgb(255,245,240)"
            ],
            [
             0.125,
             "rgb(254,224,210)"
            ],
            [
             0.25,
             "rgb(252,187,161)"
            ],
            [
             0.375,
             "rgb(252,146,114)"
            ],
            [
             0.5,
             "rgb(251,106,74)"
            ],
            [
             0.625,
             "rgb(239,59,44)"
            ],
            [
             0.75,
             "rgb(203,24,29)"
            ],
            [
             0.875,
             "rgb(165,15,21)"
            ],
            [
             1,
             "rgb(103,0,13)"
            ]
           ],
           "locationmode": "ISO-3",
           "locations": [
            "AFG",
            "BGD",
            "BFA",
            "CMR",
            "CAF",
            "COL",
            "CIV",
            "COD",
            "DOM",
            "EGY",
            "ETH",
            "HTI",
            "HND",
            "IRN",
            "IRQ",
            "KEN",
            "LBN",
            "MLI",
            "MOZ",
            "MMR",
            "NER",
            "NGA",
            "PSE",
            "PAK",
            "PNG",
            "POL",
            "SOM",
            "SSD",
            "SDN",
            "SYR",
            "TZA",
            "TUN",
            "UGA",
            "UKR",
            "VEN",
            "YEM"
           ],
           "showscale": true,
           "type": "choropleth",
           "z": {
            "bdata": "DAoQDRsCASEBARQTAQIIAQEsBB4HDwECAgESPgsSAQEBPQEL",
            "dtype": "i1"
           }
          },
          {
           "hoverinfo": "text",
           "lat": {
            "bdata": "eZRKeEJdQkAAAAAAAAAkQArXo3A9KkJAJuKt82+PIkDqvxjbtaZAQE+Q2O4eYABAv4KPHETaKkC/fR04ZyQhQBy4Xi49xkBA3pGx2vxvE0BUcHhBRIxHQCA5dtll8DBANtyR+2dQQ0ATukvirKgmQA==",
            "dtype": "f8"
           },
           "lon": {
            "bdata": "QDGyZI43UUAAAAAAAAAgQEjhehSuJ1FAk//J373HPUAg4P99fDBGQDxqTIi5qEZA1n/nKFGoNkBt5/up8U5UQBJQ4QjSW1FACtejcD2SP0DhfVUuVMZCQA+XUJe83UVASxZBrTO0UUB1jBKR7RU5QA==",
            "dtype": "f8"
           },
           "marker": {
            "color": [
             "rgba(0, 0, 0, 0.4)",
             "rgba(0, 0, 0, 0.4)",
             "rgba(204, 0, 0, 0.8)",
             "rgba(0, 0, 0, 0.4)",
             "rgba(0, 0, 0, 0.4)",
             "rgba(0, 0, 0, 0.4)",
             "rgba(0, 0, 0, 0.4)",
             "rgba(0, 0, 0, 0.4)",
             "rgba(0, 0, 0, 0.4)",
             "rgba(0, 0, 0, 0.4)",
             "rgba(255, 0, 0, 0.9)",
             "rgba(0, 0, 0, 0.4)",
             "rgba(0, 0, 0, 0.4)",
             "rgba(0, 0, 0, 0.4)"
            ],
            "line": {
             "color": "rgba(255, 255, 255, 0.5)",
             "width": 1
            },
            "size": {
             "bdata": "rPyEOCs/N0DLT4iz8hM2QCRJkiRJkixAnJWfEGflJ0CclZ8QZ+UnQMRZ+QlxViZA2DumBvaOJUDYO6YG9o4lQOwdUwN7xyRA7B1TA3vHJEAAAAAAAAAkQAAAAAAAACRAAAAAAAAAJEAAAAAAAAAkQA==",
             "dtype": "f8"
            }
           },
           "mode": "markers",
           "name": "Attacks through 2022",
           "text": [
            "Date: 10.0/3.0/2015<br>Country: Afghanistan<br>Location: Unknown<br>Total Affected: 49<br>Killed: 14<br>Wounded: 35<br>Kidnapped: 0<br>Years Ago: 7",
            "Date: 8.0/26.0/2011<br>Country: Nigeria<br>Location: Abuja<br>Total Affected: 46<br>Killed: 9<br>Wounded: 37<br>Kidnapped: 0<br>Years Ago: 11",
            "Date: 6.0/8.0/2021<br>Country: Afghanistan<br>Location: Shikh Jalal<br>Total Affected: 26<br>Killed: 10<br>Wounded: 16<br>Kidnapped: 0<br>Years Ago: 1",
            "Date: 11.0/13.0/2016<br>Country: South Sudan<br>Location: Unknown<br>Total Affected: 20<br>Killed: 0<br>Wounded: 0<br>Kidnapped: 20<br>Years Ago: 6",
            "Date: 8.0/19.0/2003<br>Country: Iraq<br>Location: Unknown<br>Total Affected: 20<br>Killed: 20<br>Wounded: 0<br>Kidnapped: 0<br>Years Ago: 19",
            "Date: 10.0/14.0/2017<br>Country: Somalia<br>Location: Mogadishu<br>Total Affected: 18<br>Killed: 5<br>Wounded: 13<br>Kidnapped: 0<br>Years Ago: 5",
            "Date: 9.0/nan/2005<br>Country: Sudan<br>Location: Between Beida and Geneina<br>Total Affected: 17<br>Killed: 0<br>Wounded: 17<br>Kidnapped: 0<br>Years Ago: 17",
            "Date: 8.0/4.0/2006<br>Country: Sri Lanka<br>Location: Muttur<br>Total Affected: 17<br>Killed: 17<br>Wounded: 0<br>Kidnapped: 0<br>Years Ago: 16",
            "Date: 7.0/4.0/2009<br>Country: Afghanistan<br>Location: Unknown<br>Total Affected: 16<br>Killed: 0<br>Wounded: 0<br>Kidnapped: 16<br>Years Ago: 13",
            "Date: 7.0/11.0/2016<br>Country: South Sudan<br>Location: Juba<br>Total Affected: 16<br>Killed: 1<br>Wounded: 15<br>Kidnapped: 0<br>Years Ago: 6",
            "Date: 3.0/22.0/2022<br>Country: Ukraine<br>Location: Mariupol<br>Total Affected: 15<br>Killed: 0<br>Wounded: 0<br>Kidnapped: 15<br>Years Ago: 0",
            "Date: 8.0/13.0/2009<br>Country: Yemen<br>Location: Sa'dah<br>Total Affected: 15<br>Killed: 0<br>Wounded: 0<br>Kidnapped: 15<br>Years Ago: 13",
            "Date: 6.0/nan/2001<br>Country: Tajikistan<br>Location: Unknown<br>Total Affected: 15<br>Killed: 0<br>Wounded: 0<br>Kidnapped: 15<br>Years Ago: 21",
            "Date: 7.0/nan/2005<br>Country: Sudan<br>Location: Unknown<br>Total Affected: 15<br>Killed: 0<br>Wounded: 15<br>Kidnapped: 0<br>Years Ago: 17"
           ],
           "type": "scattergeo"
          }
         ],
         "name": "2022"
        },
        {
         "data": [
          {
           "colorscale": [
            [
             0,
             "rgb(255,245,240)"
            ],
            [
             0.125,
             "rgb(254,224,210)"
            ],
            [
             0.25,
             "rgb(252,187,161)"
            ],
            [
             0.375,
             "rgb(252,146,114)"
            ],
            [
             0.5,
             "rgb(251,106,74)"
            ],
            [
             0.625,
             "rgb(239,59,44)"
            ],
            [
             0.75,
             "rgb(203,24,29)"
            ],
            [
             0.875,
             "rgb(165,15,21)"
            ],
            [
             1,
             "rgb(103,0,13)"
            ]
           ],
           "locationmode": "ISO-3",
           "locations": [
            "AFG",
            "BGD",
            "BFA",
            "CAF",
            "COL",
            "COD",
            "ETH",
            "GTM",
            "GNB",
            "HTI",
            "IND",
            "ISR",
            "KEN",
            "LBN",
            "LSO",
            "MLI",
            "MOZ",
            "MMR",
            "NER",
            "NGA",
            "PSE",
            "PAK",
            "RWA",
            "SLE",
            "SOM",
            "ZAF",
            "SSD",
            "LKA",
            "SDN",
            "SYR",
            "TZA",
            "UKR",
            "YEM"
           ],
           "showscale": true,
           "type": "choropleth",
           "z": {
            "bdata": "AwAEAAQACQACABYAFgABAAEACAABAAcAAQABAAEAHAACAA0AAQAIANYAAQABAAIAGgABAF4AAQBAAA4AAwAcAAcA",
            "dtype": "i2"
           }
          },
          {
           "hoverinfo": "text",
           "lat": {
            "bdata": "/TIYIxJpP0B5lEp4Ql1CQAAAAAAAACRA/TIYIxJpP0D9MhgjEmk/QArXo3A9KkJAJuKt82+PIkDqvxjbtaZAQB6ILNLEgz9AT5DY7h5gAEAzMzMzMzMvQL+CjxxE2ipAv30dOGckIUAcuF4uPcZAQN6Rsdr8bxNAVHB4QUSMR0AgOXbZZfAwQDbckftnUENAE7pL4qyoJkA=",
            "dtype": "f8"
           },
           "lon": {
            "bdata": "aDef35wcQUBAMbJkjjdRQAAAAAAAACBAaDef35wcQUBoN5/fnBxBQEjhehSuJ1FAk//J373HPUAg4P99fDBGQBL27SQiOkFAPGpMiLmoRkAAAAAAAEBAQNZ/5yhRqDZAbef7qfFOVEASUOEI0ltRQArXo3A9kj9A4X1VLlTGQkAPl1CXvN1FQEsWQa0ztFFAdYwSke0VOUA=",
            "dtype": "f8"
           },
           "marker": {
            "color": [
             "rgba(255, 0, 0, 0.9)",
             "rgba(0, 0, 0, 0.4)",
             "rgba(0, 0, 0, 0.4)",
             "rgba(255, 0, 0, 0.9)",
             "rgba(255, 0, 0, 0.9)",
             "rgba(153, 0, 0, 0.7)",
             "rgba(0, 0, 0, 0.4)",
             "rgba(0, 0, 0, 0.4)",
             "rgba(255, 0, 0, 0.9)",
             "rgba(0, 0, 0, 0.4)",
             "rgba(255, 0, 0, 0.9)",
             "rgba(0, 0, 0, 0.4)",
             "rgba(0, 0, 0, 0.4)",
             "rgba(0, 0, 0, 0.4)",
             "rgba(0, 0, 0, 0.4)",
             "rgba(204, 0, 0, 0.8)",
             "rgba(0, 0, 0, 0.4)",
             "rgba(0, 0, 0, 0.4)",
             "rgba(0, 0, 0, 0.4)"
            ],
            "line": {
             "color": "rgba(255, 255, 255, 0.5)",
             "width": 1
            },
            "size": {
             "bdata": "AAAAAAAARECs/IQ4Kz83QMtPiLPyEzZAy0+Is/ITNkBg75ga2DswQCRJkiRJkixAnJWfEGflJ0CclZ8QZ+UnQLB3TA3sHSdAxFn5CXFWJkDEWfkJcVYmQNg7pgb2jiVA2DumBvaOJUDsHVMDe8ckQOwdUwN7xyRAAAAAAAAAJEAAAAAAAAAkQAAAAAAAACRAAAAAAAAAJEA=",
             "dtype": "f8"
            }
           },
           "mode": "markers",
           "name": "Attacks through 2023",
           "text": [
            "Date: 10.0/nan/2023<br>Country: Occupied Palestinian Territories<br>Location: Gaza<br>Total Affected: 92<br>Killed: 70<br>Wounded: 22<br>Kidnapped: 0<br>Years Ago: 0",
            "Date: 10.0/3.0/2015<br>Country: Afghanistan<br>Location: Unknown<br>Total Affected: 49<br>Killed: 14<br>Wounded: 35<br>Kidnapped: 0<br>Years Ago: 8",
            "Date: 8.0/26.0/2011<br>Country: Nigeria<br>Location: Abuja<br>Total Affected: 46<br>Killed: 9<br>Wounded: 37<br>Kidnapped: 0<br>Years Ago: 12",
            "Date: 11.0/30.0/2023<br>Country: Occupied Palestinian Territories<br>Location: Gaza<br>Total Affected: 46<br>Killed: 41<br>Wounded: 5<br>Kidnapped: 0<br>Years Ago: 0",
            "Date: 12.0/31.0/2023<br>Country: Occupied Palestinian Territories<br>Location: Gaza<br>Total Affected: 31<br>Killed: 31<br>Wounded: 0<br>Kidnapped: 0<br>Years Ago: 0",
            "Date: 6.0/8.0/2021<br>Country: Afghanistan<br>Location: Shikh Jalal<br>Total Affected: 26<br>Killed: 10<br>Wounded: 16<br>Kidnapped: 0<br>Years Ago: 2",
            "Date: 11.0/13.0/2016<br>Country: South Sudan<br>Location: Unknown<br>Total Affected: 20<br>Killed: 0<br>Wounded: 0<br>Kidnapped: 20<br>Years Ago: 7",
            "Date: 8.0/19.0/2003<br>Country: Iraq<br>Location: Unknown<br>Total Affected: 20<br>Killed: 20<br>Wounded: 0<br>Kidnapped: 0<br>Years Ago: 20",
            "Date: 11.0/7.0/2023<br>Country: Occupied Palestinian Territories<br>Location: Unknown<br>Total Affected: 19<br>Killed: 0<br>Wounded: 19<br>Kidnapped: 0<br>Years Ago: 0",
            "Date: 10.0/14.0/2017<br>Country: Somalia<br>Location: Mogadishu<br>Total Affected: 18<br>Killed: 5<br>Wounded: 13<br>Kidnapped: 0<br>Years Ago: 6",
            "Date: 7.0/20.0/2023<br>Country: Sudan<br>Location: Khartoum<br>Total Affected: 18<br>Killed: 0<br>Wounded: 18<br>Kidnapped: 0<br>Years Ago: 0",
            "Date: 9.0/nan/2005<br>Country: Sudan<br>Location: Between Beida and Geneina<br>Total Affected: 17<br>Killed: 0<br>Wounded: 17<br>Kidnapped: 0<br>Years Ago: 18",
            "Date: 8.0/4.0/2006<br>Country: Sri Lanka<br>Location: Muttur<br>Total Affected: 17<br>Killed: 17<br>Wounded: 0<br>Kidnapped: 0<br>Years Ago: 17",
            "Date: 7.0/4.0/2009<br>Country: Afghanistan<br>Location: Unknown<br>Total Affected: 16<br>Killed: 0<br>Wounded: 0<br>Kidnapped: 16<br>Years Ago: 14",
            "Date: 7.0/11.0/2016<br>Country: South Sudan<br>Location: Juba<br>Total Affected: 16<br>Killed: 1<br>Wounded: 15<br>Kidnapped: 0<br>Years Ago: 7",
            "Date: 3.0/22.0/2022<br>Country: Ukraine<br>Location: Mariupol<br>Total Affected: 15<br>Killed: 0<br>Wounded: 0<br>Kidnapped: 15<br>Years Ago: 1",
            "Date: 8.0/13.0/2009<br>Country: Yemen<br>Location: Sa'dah<br>Total Affected: 15<br>Killed: 0<br>Wounded: 0<br>Kidnapped: 15<br>Years Ago: 14",
            "Date: 6.0/nan/2001<br>Country: Tajikistan<br>Location: Unknown<br>Total Affected: 15<br>Killed: 0<br>Wounded: 0<br>Kidnapped: 15<br>Years Ago: 22",
            "Date: 7.0/nan/2005<br>Country: Sudan<br>Location: Unknown<br>Total Affected: 15<br>Killed: 0<br>Wounded: 15<br>Kidnapped: 0<br>Years Ago: 18"
           ],
           "type": "scattergeo"
          }
         ],
         "name": "2023"
        },
        {
         "data": [
          {
           "colorscale": [
            [
             0,
             "rgb(255,245,240)"
            ],
            [
             0.125,
             "rgb(254,224,210)"
            ],
            [
             0.25,
             "rgb(252,187,161)"
            ],
            [
             0.375,
             "rgb(252,146,114)"
            ],
            [
             0.5,
             "rgb(251,106,74)"
            ],
            [
             0.625,
             "rgb(239,59,44)"
            ],
            [
             0.75,
             "rgb(203,24,29)"
            ],
            [
             0.875,
             "rgb(165,15,21)"
            ],
            [
             1,
             "rgb(103,0,13)"
            ]
           ],
           "locationmode": "ISO-3",
           "locations": [
            "AFG",
            "AGO",
            "BFA",
            "BDI",
            "CMR",
            "CAF",
            "TCD",
            "CHL",
            "COL",
            "COD",
            "ETH",
            "GIN",
            "HTI",
            "IRQ",
            "JAM",
            "KEN",
            "LBN",
            "MLI",
            "MOZ",
            "MMR",
            "NER",
            "NGA",
            "PSE",
            "PAK",
            "POL",
            "SOM",
            "SSD",
            "SDN",
            "SYR",
            "UKR",
            "YEM"
           ],
           "showscale": true,
           "type": "choropleth",
           "z": {
            "bdata": "BAABAAwAAQAUAAkABAABAAIAFQAOAAEABAABAAEAAwApABEABQAQAAIALAAKAQEAAQATACwATwAaAB8AGAA=",
            "dtype": "i2"
           }
          },
          {
           "hoverinfo": "text",
           "lat": {
            "bdata": "/TIYIxJpP0B5lEp4Ql1CQAAAAAAAACRA/TIYIxJpP0D9MhgjEmk/QArXo3A9KkJAhhvw+WFMP0Am4q3zb48iQOq/GNu1pkBAHogs0sSDP0BPkNjuHmAAQDMzMzMzMy9Av4KPHETaKkC/fR04ZyQhQBy4Xi49xkBA3pGx2vxvE0BUcHhBRIxHQCA5dtll8DBANtyR+2dQQ0ATukvirKgmQA==",
            "dtype": "f8"
           },
           "lon": {
            "bdata": "aDef35wcQUBAMbJkjjdRQAAAAAAAACBAaDef35wcQUBoN5/fnBxBQEjhehSuJ1FAuRyvQPQeQUCT/8nfvcc9QCDg/318MEZAEvbtJCI6QUA8akyIuahGQAAAAAAAQEBA1n/nKFGoNkBt5/up8U5UQBJQ4QjSW1FACtejcD2SP0DhfVUuVMZCQA+XUJe83UVASxZBrTO0UUB1jBKR7RU5QA==",
            "dtype": "f8"
           },
           "marker": {
            "color": [
             "rgba(204, 0, 0, 0.8)",
             "rgba(0, 0, 0, 0.4)",
             "rgba(0, 0, 0, 0.4)",
             "rgba(204, 0, 0, 0.8)",
             "rgba(204, 0, 0, 0.8)",
             "rgba(102, 0, 0, 0.6000000000000001)",
             "rgba(255, 0, 0, 0.9)",
             "rgba(0, 0, 0, 0.4)",
             "rgba(0, 0, 0, 0.4)",
             "rgba(204, 0, 0, 0.8)",
             "rgba(0, 0, 0, 0.4)",
             "rgba(204, 0, 0, 0.8)",
             "rgba(0, 0, 0, 0.4)",
             "rgba(0, 0, 0, 0.4)",
             "rgba(0, 0, 0, 0.4)",
             "rgba(0, 0, 0, 0.4)",
             "rgba(153, 0, 0, 0.7)",
             "rgba(0, 0, 0, 0.4)",
             "rgba(0, 0, 0, 0.4)",
             "rgba(0, 0, 0, 0.4)"
            ],
            "line": {
             "color": "rgba(255, 255, 255, 0.5)",
             "width": 1
            },
            "size": {
             "bdata": "AAAAAAAARECs/IQ4Kz83QMtPiLPyEzZAy0+Is/ITNkBg75ga2DswQCRJkiRJkixAYO+YGtg7KkCclZ8QZ+UnQJyVnxBn5SdAsHdMDewdJ0DEWfkJcVYmQMRZ+QlxViZA2DumBvaOJUDYO6YG9o4lQOwdUwN7xyRA7B1TA3vHJEAAAAAAAAAkQAAAAAAAACRAAAAAAAAAJEAAAAAAAAAkQA==",
             "dtype": "f8"
            }
           },
           "mode": "markers",
           "name": "Attacks through 2024",
           "text": [
            "Date: 10.0/nan/2023<br>Country: Occupied Palestinian Territories<br>Location: Gaza<br>Total Affected: 92<br>Killed: 70<br>Wounded: 22<br>Kidnapped: 0<br>Years Ago: 1",
            "Date: 10.0/3.0/2015<br>Country: Afghanistan<br>Location: Unknown<br>Total Affected: 49<br>Killed: 14<br>Wounded: 35<br>Kidnapped: 0<br>Years Ago: 9",
            "Date: 8.0/26.0/2011<br>Country: Nigeria<br>Location: Abuja<br>Total Affected: 46<br>Killed: 9<br>Wounded: 37<br>Kidnapped: 0<br>Years Ago: 13",
            "Date: 11.0/30.0/2023<br>Country: Occupied Palestinian Territories<br>Location: Gaza<br>Total Affected: 46<br>Killed: 41<br>Wounded: 5<br>Kidnapped: 0<br>Years Ago: 1",
            "Date: 12.0/31.0/2023<br>Country: Occupied Palestinian Territories<br>Location: Gaza<br>Total Affected: 31<br>Killed: 31<br>Wounded: 0<br>Kidnapped: 0<br>Years Ago: 1",
            "Date: 6.0/8.0/2021<br>Country: Afghanistan<br>Location: Shikh Jalal<br>Total Affected: 26<br>Killed: 10<br>Wounded: 16<br>Kidnapped: 0<br>Years Ago: 3",
            "Date: 3.0/14.0/2024<br>Country: Occupied Palestinian Territories<br>Location: Rafah East Distribution Centre<br>Total Affected: 23<br>Killed: 1<br>Wounded: 22<br>Kidnapped: 0<br>Years Ago: 0",
            "Date: 11.0/13.0/2016<br>Country: South Sudan<br>Location: Unknown<br>Total Affected: 20<br>Killed: 0<br>Wounded: 0<br>Kidnapped: 20<br>Years Ago: 8",
            "Date: 8.0/19.0/2003<br>Country: Iraq<br>Location: Unknown<br>Total Affected: 20<br>Killed: 20<br>Wounded: 0<br>Kidnapped: 0<br>Years Ago: 21",
            "Date: 11.0/7.0/2023<br>Country: Occupied Palestinian Territories<br>Location: Unknown<br>Total Affected: 19<br>Killed: 0<br>Wounded: 19<br>Kidnapped: 0<br>Years Ago: 1",
            "Date: 10.0/14.0/2017<br>Country: Somalia<br>Location: Mogadishu<br>Total Affected: 18<br>Killed: 5<br>Wounded: 13<br>Kidnapped: 0<br>Years Ago: 7",
            "Date: 7.0/20.0/2023<br>Country: Sudan<br>Location: Khartoum<br>Total Affected: 18<br>Killed: 0<br>Wounded: 18<br>Kidnapped: 0<br>Years Ago: 1",
            "Date: 9.0/nan/2005<br>Country: Sudan<br>Location: Between Beida and Geneina<br>Total Affected: 17<br>Killed: 0<br>Wounded: 17<br>Kidnapped: 0<br>Years Ago: 19",
            "Date: 8.0/4.0/2006<br>Country: Sri Lanka<br>Location: Muttur<br>Total Affected: 17<br>Killed: 17<br>Wounded: 0<br>Kidnapped: 0<br>Years Ago: 18",
            "Date: 7.0/4.0/2009<br>Country: Afghanistan<br>Location: Unknown<br>Total Affected: 16<br>Killed: 0<br>Wounded: 0<br>Kidnapped: 16<br>Years Ago: 15",
            "Date: 7.0/11.0/2016<br>Country: South Sudan<br>Location: Juba<br>Total Affected: 16<br>Killed: 1<br>Wounded: 15<br>Kidnapped: 0<br>Years Ago: 8",
            "Date: 3.0/22.0/2022<br>Country: Ukraine<br>Location: Mariupol<br>Total Affected: 15<br>Killed: 0<br>Wounded: 0<br>Kidnapped: 15<br>Years Ago: 2",
            "Date: 8.0/13.0/2009<br>Country: Yemen<br>Location: Sa'dah<br>Total Affected: 15<br>Killed: 0<br>Wounded: 0<br>Kidnapped: 15<br>Years Ago: 15",
            "Date: 6.0/nan/2001<br>Country: Tajikistan<br>Location: Unknown<br>Total Affected: 15<br>Killed: 0<br>Wounded: 0<br>Kidnapped: 15<br>Years Ago: 23",
            "Date: 7.0/nan/2005<br>Country: Sudan<br>Location: Unknown<br>Total Affected: 15<br>Killed: 0<br>Wounded: 15<br>Kidnapped: 0<br>Years Ago: 19"
           ],
           "type": "scattergeo"
          }
         ],
         "name": "2024"
        },
        {
         "data": [
          {
           "colorscale": [
            [
             0,
             "rgb(255,245,240)"
            ],
            [
             0.125,
             "rgb(254,224,210)"
            ],
            [
             0.25,
             "rgb(252,187,161)"
            ],
            [
             0.375,
             "rgb(252,146,114)"
            ],
            [
             0.5,
             "rgb(251,106,74)"
            ],
            [
             0.625,
             "rgb(239,59,44)"
            ],
            [
             0.75,
             "rgb(203,24,29)"
            ],
            [
             0.875,
             "rgb(165,15,21)"
            ],
            [
             1,
             "rgb(103,0,13)"
            ]
           ],
           "locationmode": "ISO-3",
           "locations": [
            "AFG",
            "COD",
            "MLI",
            "MMR",
            "NGA",
            "PSE",
            "PAK",
            "SSD",
            "SDN",
            "SYR",
            "UKR",
            "YEM"
           ],
           "showscale": true,
           "type": "choropleth",
           "z": {
            "bdata": "AQcCAwUUAQcNBgIB",
            "dtype": "i1"
           }
          },
          {
           "hoverinfo": "text",
           "lat": {
            "bdata": "/TIYIxJpP0B5lEp4Ql1CQAAAAAAAACRA/TIYIxJpP0D9MhgjEmk/QArXo3A9KkJAhhvw+WFMP0Am4q3zb48iQOq/GNu1pkBAHogs0sSDP0BPkNjuHmAAQDMzMzMzMy9Av4KPHETaKkC/fR04ZyQhQBy4Xi49xkBA3pGx2vxvE0BUcHhBRIxHQCA5dtll8DBANtyR+2dQQ0ATukvirKgmQA==",
            "dtype": "f8"
           },
           "lon": {
            "bdata": "aDef35wcQUBAMbJkjjdRQAAAAAAAACBAaDef35wcQUBoN5/fnBxBQEjhehSuJ1FAuRyvQPQeQUCT/8nfvcc9QCDg/318MEZAEvbtJCI6QUA8akyIuahGQAAAAAAAQEBA1n/nKFGoNkBt5/up8U5UQBJQ4QjSW1FACtejcD2SP0DhfVUuVMZCQA+XUJe83UVASxZBrTO0UUB1jBKR7RU5QA==",
            "dtype": "f8"
           },
           "marker": {
            "color": [
             "rgba(153, 0, 0, 0.7)",
             "rgba(0, 0, 0, 0.4)",
             "rgba(0, 0, 0, 0.4)",
             "rgba(153, 0, 0, 0.7)",
             "rgba(153, 0, 0, 0.7)",
             "rgba(50, 0, 0, 0.5)",
             "rgba(204, 0, 0, 0.8)",
             "rgba(0, 0, 0, 0.4)",
             "rgba(0, 0, 0, 0.4)",
             "rgba(153, 0, 0, 0.7)",
             "rgba(0, 0, 0, 0.4)",
             "rgba(153, 0, 0, 0.7)",
             "rgba(0, 0, 0, 0.4)",
             "rgba(0, 0, 0, 0.4)",
             "rgba(0, 0, 0, 0.4)",
             "rgba(0, 0, 0, 0.4)",
             "rgba(102, 0, 0, 0.6000000000000001)",
             "rgba(0, 0, 0, 0.4)",
             "rgba(0, 0, 0, 0.4)",
             "rgba(0, 0, 0, 0.4)"
            ],
            "line": {
             "color": "rgba(255, 255, 255, 0.5)",
             "width": 1
            },
            "size": {
             "bdata": "AAAAAAAARECs/IQ4Kz83QMtPiLPyEzZAy0+Is/ITNkBg75ga2DswQCRJkiRJkixAYO+YGtg7KkCclZ8QZ+UnQJyVnxBn5SdAsHdMDewdJ0DEWfkJcVYmQMRZ+QlxViZA2DumBvaOJUDYO6YG9o4lQOwdUwN7xyRA7B1TA3vHJEAAAAAAAAAkQAAAAAAAACRAAAAAAAAAJEAAAAAAAAAkQA==",
             "dtype": "f8"
            }
           },
           "mode": "markers",
           "name": "Attacks through 2025",
           "text": [
            "Date: 10.0/nan/2023<br>Country: Occupied Palestinian Territories<br>Location: Gaza<br>Total Affected: 92<br>Killed: 70<br>Wounded: 22<br>Kidnapped: 0<br>Years Ago: 2",
            "Date: 10.0/3.0/2015<br>Country: Afghanistan<br>Location: Unknown<br>Total Affected: 49<br>Killed: 14<br>Wounded: 35<br>Kidnapped: 0<br>Years Ago: 10",
            "Date: 8.0/26.0/2011<br>Country: Nigeria<br>Location: Abuja<br>Total Affected: 46<br>Killed: 9<br>Wounded: 37<br>Kidnapped: 0<br>Years Ago: 14",
            "Date: 11.0/30.0/2023<br>Country: Occupied Palestinian Territories<br>Location: Gaza<br>Total Affected: 46<br>Killed: 41<br>Wounded: 5<br>Kidnapped: 0<br>Years Ago: 2",
            "Date: 12.0/31.0/2023<br>Country: Occupied Palestinian Territories<br>Location: Gaza<br>Total Affected: 31<br>Killed: 31<br>Wounded: 0<br>Kidnapped: 0<br>Years Ago: 2",
            "Date: 6.0/8.0/2021<br>Country: Afghanistan<br>Location: Shikh Jalal<br>Total Affected: 26<br>Killed: 10<br>Wounded: 16<br>Kidnapped: 0<br>Years Ago: 4",
            "Date: 3.0/14.0/2024<br>Country: Occupied Palestinian Territories<br>Location: Rafah East Distribution Centre<br>Total Affected: 23<br>Killed: 1<br>Wounded: 22<br>Kidnapped: 0<br>Years Ago: 1",
            "Date: 11.0/13.0/2016<br>Country: South Sudan<br>Location: Unknown<br>Total Affected: 20<br>Killed: 0<br>Wounded: 0<br>Kidnapped: 20<br>Years Ago: 9",
            "Date: 8.0/19.0/2003<br>Country: Iraq<br>Location: Unknown<br>Total Affected: 20<br>Killed: 20<br>Wounded: 0<br>Kidnapped: 0<br>Years Ago: 22",
            "Date: 11.0/7.0/2023<br>Country: Occupied Palestinian Territories<br>Location: Unknown<br>Total Affected: 19<br>Killed: 0<br>Wounded: 19<br>Kidnapped: 0<br>Years Ago: 2",
            "Date: 10.0/14.0/2017<br>Country: Somalia<br>Location: Mogadishu<br>Total Affected: 18<br>Killed: 5<br>Wounded: 13<br>Kidnapped: 0<br>Years Ago: 8",
            "Date: 7.0/20.0/2023<br>Country: Sudan<br>Location: Khartoum<br>Total Affected: 18<br>Killed: 0<br>Wounded: 18<br>Kidnapped: 0<br>Years Ago: 2",
            "Date: 9.0/nan/2005<br>Country: Sudan<br>Location: Between Beida and Geneina<br>Total Affected: 17<br>Killed: 0<br>Wounded: 17<br>Kidnapped: 0<br>Years Ago: 20",
            "Date: 8.0/4.0/2006<br>Country: Sri Lanka<br>Location: Muttur<br>Total Affected: 17<br>Killed: 17<br>Wounded: 0<br>Kidnapped: 0<br>Years Ago: 19",
            "Date: 7.0/4.0/2009<br>Country: Afghanistan<br>Location: Unknown<br>Total Affected: 16<br>Killed: 0<br>Wounded: 0<br>Kidnapped: 16<br>Years Ago: 16",
            "Date: 7.0/11.0/2016<br>Country: South Sudan<br>Location: Juba<br>Total Affected: 16<br>Killed: 1<br>Wounded: 15<br>Kidnapped: 0<br>Years Ago: 9",
            "Date: 3.0/22.0/2022<br>Country: Ukraine<br>Location: Mariupol<br>Total Affected: 15<br>Killed: 0<br>Wounded: 0<br>Kidnapped: 15<br>Years Ago: 3",
            "Date: 8.0/13.0/2009<br>Country: Yemen<br>Location: Sa'dah<br>Total Affected: 15<br>Killed: 0<br>Wounded: 0<br>Kidnapped: 15<br>Years Ago: 16",
            "Date: 6.0/nan/2001<br>Country: Tajikistan<br>Location: Unknown<br>Total Affected: 15<br>Killed: 0<br>Wounded: 0<br>Kidnapped: 15<br>Years Ago: 24",
            "Date: 7.0/nan/2005<br>Country: Sudan<br>Location: Unknown<br>Total Affected: 15<br>Killed: 0<br>Wounded: 15<br>Kidnapped: 0<br>Years Ago: 20"
           ],
           "type": "scattergeo"
          }
         ],
         "name": "2025"
        }
       ],
       "layout": {
        "annotations": [
         {
          "align": "left",
          "bgcolor": "rgba(255, 255, 255, 0.7)",
          "bordercolor": "black",
          "borderpad": 4,
          "borderwidth": 1,
          "font": {
           "size": 10
          },
          "showarrow": false,
          "text": "Circle size represents total affected people.<br>Newer attacks are bright red, older attacks fade to black.",
          "x": 0.01,
          "xref": "paper",
          "y": 0.01,
          "yref": "paper"
         }
        ],
        "coloraxis": {
         "colorbar": {
          "title": {
           "text": "total.affected"
          }
         },
         "colorscale": [
          [
           0,
           "rgb(255,245,240)"
          ],
          [
           0.125,
           "rgb(254,224,210)"
          ],
          [
           0.25,
           "rgb(252,187,161)"
          ],
          [
           0.375,
           "rgb(252,146,114)"
          ],
          [
           0.5,
           "rgb(251,106,74)"
          ],
          [
           0.625,
           "rgb(239,59,44)"
          ],
          [
           0.75,
           "rgb(203,24,29)"
          ],
          [
           0.875,
           "rgb(165,15,21)"
          ],
          [
           1,
           "rgb(103,0,13)"
          ]
         ]
        },
        "geo": {
         "center": {},
         "domain": {
          "x": [
           0,
           1
          ],
          "y": [
           0,
           1
          ]
         },
         "projection": {
          "type": "equirectangular"
         },
         "showcoastlines": true,
         "showframe": false
        },
        "legend": {
         "tracegroupgap": 0
        },
        "sliders": [
         {
          "active": 0,
          "currentvalue": {
           "prefix": "year="
          },
          "len": 0.9,
          "pad": {
           "b": 10,
           "t": 60
          },
          "steps": [
           {
            "args": [
             [
              "1997"
             ],
             {
              "frame": {
               "duration": 300,
               "redraw": true
              },
              "mode": "immediate",
              "transition": {
               "duration": 300
              }
             }
            ],
            "label": "1997",
            "method": "animate"
           },
           {
            "args": [
             [
              "1998"
             ],
             {
              "frame": {
               "duration": 300,
               "redraw": true
              },
              "mode": "immediate",
              "transition": {
               "duration": 300
              }
             }
            ],
            "label": "1998",
            "method": "animate"
           },
           {
            "args": [
             [
              "1999"
             ],
             {
              "frame": {
               "duration": 300,
               "redraw": true
              },
              "mode": "immediate",
              "transition": {
               "duration": 300
              }
             }
            ],
            "label": "1999",
            "method": "animate"
           },
           {
            "args": [
             [
              "2000"
             ],
             {
              "frame": {
               "duration": 300,
               "redraw": true
              },
              "mode": "immediate",
              "transition": {
               "duration": 300
              }
             }
            ],
            "label": "2000",
            "method": "animate"
           },
           {
            "args": [
             [
              "2001"
             ],
             {
              "frame": {
               "duration": 300,
               "redraw": true
              },
              "mode": "immediate",
              "transition": {
               "duration": 300
              }
             }
            ],
            "label": "2001",
            "method": "animate"
           },
           {
            "args": [
             [
              "2002"
             ],
             {
              "frame": {
               "duration": 300,
               "redraw": true
              },
              "mode": "immediate",
              "transition": {
               "duration": 300
              }
             }
            ],
            "label": "2002",
            "method": "animate"
           },
           {
            "args": [
             [
              "2003"
             ],
             {
              "frame": {
               "duration": 300,
               "redraw": true
              },
              "mode": "immediate",
              "transition": {
               "duration": 300
              }
             }
            ],
            "label": "2003",
            "method": "animate"
           },
           {
            "args": [
             [
              "2004"
             ],
             {
              "frame": {
               "duration": 300,
               "redraw": true
              },
              "mode": "immediate",
              "transition": {
               "duration": 300
              }
             }
            ],
            "label": "2004",
            "method": "animate"
           },
           {
            "args": [
             [
              "2005"
             ],
             {
              "frame": {
               "duration": 300,
               "redraw": true
              },
              "mode": "immediate",
              "transition": {
               "duration": 300
              }
             }
            ],
            "label": "2005",
            "method": "animate"
           },
           {
            "args": [
             [
              "2006"
             ],
             {
              "frame": {
               "duration": 300,
               "redraw": true
              },
              "mode": "immediate",
              "transition": {
               "duration": 300
              }
             }
            ],
            "label": "2006",
            "method": "animate"
           },
           {
            "args": [
             [
              "2007"
             ],
             {
              "frame": {
               "duration": 300,
               "redraw": true
              },
              "mode": "immediate",
              "transition": {
               "duration": 300
              }
             }
            ],
            "label": "2007",
            "method": "animate"
           },
           {
            "args": [
             [
              "2008"
             ],
             {
              "frame": {
               "duration": 300,
               "redraw": true
              },
              "mode": "immediate",
              "transition": {
               "duration": 300
              }
             }
            ],
            "label": "2008",
            "method": "animate"
           },
           {
            "args": [
             [
              "2009"
             ],
             {
              "frame": {
               "duration": 300,
               "redraw": true
              },
              "mode": "immediate",
              "transition": {
               "duration": 300
              }
             }
            ],
            "label": "2009",
            "method": "animate"
           },
           {
            "args": [
             [
              "2010"
             ],
             {
              "frame": {
               "duration": 300,
               "redraw": true
              },
              "mode": "immediate",
              "transition": {
               "duration": 300
              }
             }
            ],
            "label": "2010",
            "method": "animate"
           },
           {
            "args": [
             [
              "2011"
             ],
             {
              "frame": {
               "duration": 300,
               "redraw": true
              },
              "mode": "immediate",
              "transition": {
               "duration": 300
              }
             }
            ],
            "label": "2011",
            "method": "animate"
           },
           {
            "args": [
             [
              "2012"
             ],
             {
              "frame": {
               "duration": 300,
               "redraw": true
              },
              "mode": "immediate",
              "transition": {
               "duration": 300
              }
             }
            ],
            "label": "2012",
            "method": "animate"
           },
           {
            "args": [
             [
              "2013"
             ],
             {
              "frame": {
               "duration": 300,
               "redraw": true
              },
              "mode": "immediate",
              "transition": {
               "duration": 300
              }
             }
            ],
            "label": "2013",
            "method": "animate"
           },
           {
            "args": [
             [
              "2014"
             ],
             {
              "frame": {
               "duration": 300,
               "redraw": true
              },
              "mode": "immediate",
              "transition": {
               "duration": 300
              }
             }
            ],
            "label": "2014",
            "method": "animate"
           },
           {
            "args": [
             [
              "2015"
             ],
             {
              "frame": {
               "duration": 300,
               "redraw": true
              },
              "mode": "immediate",
              "transition": {
               "duration": 300
              }
             }
            ],
            "label": "2015",
            "method": "animate"
           },
           {
            "args": [
             [
              "2016"
             ],
             {
              "frame": {
               "duration": 300,
               "redraw": true
              },
              "mode": "immediate",
              "transition": {
               "duration": 300
              }
             }
            ],
            "label": "2016",
            "method": "animate"
           },
           {
            "args": [
             [
              "2017"
             ],
             {
              "frame": {
               "duration": 300,
               "redraw": true
              },
              "mode": "immediate",
              "transition": {
               "duration": 300
              }
             }
            ],
            "label": "2017",
            "method": "animate"
           },
           {
            "args": [
             [
              "2018"
             ],
             {
              "frame": {
               "duration": 300,
               "redraw": true
              },
              "mode": "immediate",
              "transition": {
               "duration": 300
              }
             }
            ],
            "label": "2018",
            "method": "animate"
           },
           {
            "args": [
             [
              "2019"
             ],
             {
              "frame": {
               "duration": 300,
               "redraw": true
              },
              "mode": "immediate",
              "transition": {
               "duration": 300
              }
             }
            ],
            "label": "2019",
            "method": "animate"
           },
           {
            "args": [
             [
              "2020"
             ],
             {
              "frame": {
               "duration": 300,
               "redraw": true
              },
              "mode": "immediate",
              "transition": {
               "duration": 300
              }
             }
            ],
            "label": "2020",
            "method": "animate"
           },
           {
            "args": [
             [
              "2021"
             ],
             {
              "frame": {
               "duration": 300,
               "redraw": true
              },
              "mode": "immediate",
              "transition": {
               "duration": 300
              }
             }
            ],
            "label": "2021",
            "method": "animate"
           },
           {
            "args": [
             [
              "2022"
             ],
             {
              "frame": {
               "duration": 300,
               "redraw": true
              },
              "mode": "immediate",
              "transition": {
               "duration": 300
              }
             }
            ],
            "label": "2022",
            "method": "animate"
           },
           {
            "args": [
             [
              "2023"
             ],
             {
              "frame": {
               "duration": 300,
               "redraw": true
              },
              "mode": "immediate",
              "transition": {
               "duration": 300
              }
             }
            ],
            "label": "2023",
            "method": "animate"
           },
           {
            "args": [
             [
              "2024"
             ],
             {
              "frame": {
               "duration": 300,
               "redraw": true
              },
              "mode": "immediate",
              "transition": {
               "duration": 300
              }
             }
            ],
            "label": "2024",
            "method": "animate"
           },
           {
            "args": [
             [
              "2025"
             ],
             {
              "frame": {
               "duration": 300,
               "redraw": true
              },
              "mode": "immediate",
              "transition": {
               "duration": 300
              }
             }
            ],
            "label": "2025",
            "method": "animate"
           }
          ],
          "transition": {
           "duration": 300
          },
          "x": 0.1,
          "xanchor": "left",
          "y": 0,
          "yanchor": "top"
         }
        ],
        "template": {
         "data": {
          "bar": [
           {
            "error_x": {
             "color": "#2a3f5f"
            },
            "error_y": {
             "color": "#2a3f5f"
            },
            "marker": {
             "line": {
              "color": "#E5ECF6",
              "width": 0.5
             },
             "pattern": {
              "fillmode": "overlay",
              "size": 10,
              "solidity": 0.2
             }
            },
            "type": "bar"
           }
          ],
          "barpolar": [
           {
            "marker": {
             "line": {
              "color": "#E5ECF6",
              "width": 0.5
             },
             "pattern": {
              "fillmode": "overlay",
              "size": 10,
              "solidity": 0.2
             }
            },
            "type": "barpolar"
           }
          ],
          "carpet": [
           {
            "aaxis": {
             "endlinecolor": "#2a3f5f",
             "gridcolor": "white",
             "linecolor": "white",
             "minorgridcolor": "white",
             "startlinecolor": "#2a3f5f"
            },
            "baxis": {
             "endlinecolor": "#2a3f5f",
             "gridcolor": "white",
             "linecolor": "white",
             "minorgridcolor": "white",
             "startlinecolor": "#2a3f5f"
            },
            "type": "carpet"
           }
          ],
          "choropleth": [
           {
            "colorbar": {
             "outlinewidth": 0,
             "ticks": ""
            },
            "type": "choropleth"
           }
          ],
          "contour": [
           {
            "colorbar": {
             "outlinewidth": 0,
             "ticks": ""
            },
            "colorscale": [
             [
              0,
              "#0d0887"
             ],
             [
              0.1111111111111111,
              "#46039f"
             ],
             [
              0.2222222222222222,
              "#7201a8"
             ],
             [
              0.3333333333333333,
              "#9c179e"
             ],
             [
              0.4444444444444444,
              "#bd3786"
             ],
             [
              0.5555555555555556,
              "#d8576b"
             ],
             [
              0.6666666666666666,
              "#ed7953"
             ],
             [
              0.7777777777777778,
              "#fb9f3a"
             ],
             [
              0.8888888888888888,
              "#fdca26"
             ],
             [
              1,
              "#f0f921"
             ]
            ],
            "type": "contour"
           }
          ],
          "contourcarpet": [
           {
            "colorbar": {
             "outlinewidth": 0,
             "ticks": ""
            },
            "type": "contourcarpet"
           }
          ],
          "heatmap": [
           {
            "colorbar": {
             "outlinewidth": 0,
             "ticks": ""
            },
            "colorscale": [
             [
              0,
              "#0d0887"
             ],
             [
              0.1111111111111111,
              "#46039f"
             ],
             [
              0.2222222222222222,
              "#7201a8"
             ],
             [
              0.3333333333333333,
              "#9c179e"
             ],
             [
              0.4444444444444444,
              "#bd3786"
             ],
             [
              0.5555555555555556,
              "#d8576b"
             ],
             [
              0.6666666666666666,
              "#ed7953"
             ],
             [
              0.7777777777777778,
              "#fb9f3a"
             ],
             [
              0.8888888888888888,
              "#fdca26"
             ],
             [
              1,
              "#f0f921"
             ]
            ],
            "type": "heatmap"
           }
          ],
          "histogram": [
           {
            "marker": {
             "pattern": {
              "fillmode": "overlay",
              "size": 10,
              "solidity": 0.2
             }
            },
            "type": "histogram"
           }
          ],
          "histogram2d": [
           {
            "colorbar": {
             "outlinewidth": 0,
             "ticks": ""
            },
            "colorscale": [
             [
              0,
              "#0d0887"
             ],
             [
              0.1111111111111111,
              "#46039f"
             ],
             [
              0.2222222222222222,
              "#7201a8"
             ],
             [
              0.3333333333333333,
              "#9c179e"
             ],
             [
              0.4444444444444444,
              "#bd3786"
             ],
             [
              0.5555555555555556,
              "#d8576b"
             ],
             [
              0.6666666666666666,
              "#ed7953"
             ],
             [
              0.7777777777777778,
              "#fb9f3a"
             ],
             [
              0.8888888888888888,
              "#fdca26"
             ],
             [
              1,
              "#f0f921"
             ]
            ],
            "type": "histogram2d"
           }
          ],
          "histogram2dcontour": [
           {
            "colorbar": {
             "outlinewidth": 0,
             "ticks": ""
            },
            "colorscale": [
             [
              0,
              "#0d0887"
             ],
             [
              0.1111111111111111,
              "#46039f"
             ],
             [
              0.2222222222222222,
              "#7201a8"
             ],
             [
              0.3333333333333333,
              "#9c179e"
             ],
             [
              0.4444444444444444,
              "#bd3786"
             ],
             [
              0.5555555555555556,
              "#d8576b"
             ],
             [
              0.6666666666666666,
              "#ed7953"
             ],
             [
              0.7777777777777778,
              "#fb9f3a"
             ],
             [
              0.8888888888888888,
              "#fdca26"
             ],
             [
              1,
              "#f0f921"
             ]
            ],
            "type": "histogram2dcontour"
           }
          ],
          "mesh3d": [
           {
            "colorbar": {
             "outlinewidth": 0,
             "ticks": ""
            },
            "type": "mesh3d"
           }
          ],
          "parcoords": [
           {
            "line": {
             "colorbar": {
              "outlinewidth": 0,
              "ticks": ""
             }
            },
            "type": "parcoords"
           }
          ],
          "pie": [
           {
            "automargin": true,
            "type": "pie"
           }
          ],
          "scatter": [
           {
            "fillpattern": {
             "fillmode": "overlay",
             "size": 10,
             "solidity": 0.2
            },
            "type": "scatter"
           }
          ],
          "scatter3d": [
           {
            "line": {
             "colorbar": {
              "outlinewidth": 0,
              "ticks": ""
             }
            },
            "marker": {
             "colorbar": {
              "outlinewidth": 0,
              "ticks": ""
             }
            },
            "type": "scatter3d"
           }
          ],
          "scattercarpet": [
           {
            "marker": {
             "colorbar": {
              "outlinewidth": 0,
              "ticks": ""
             }
            },
            "type": "scattercarpet"
           }
          ],
          "scattergeo": [
           {
            "marker": {
             "colorbar": {
              "outlinewidth": 0,
              "ticks": ""
             }
            },
            "type": "scattergeo"
           }
          ],
          "scattergl": [
           {
            "marker": {
             "colorbar": {
              "outlinewidth": 0,
              "ticks": ""
             }
            },
            "type": "scattergl"
           }
          ],
          "scattermap": [
           {
            "marker": {
             "colorbar": {
              "outlinewidth": 0,
              "ticks": ""
             }
            },
            "type": "scattermap"
           }
          ],
          "scattermapbox": [
           {
            "marker": {
             "colorbar": {
              "outlinewidth": 0,
              "ticks": ""
             }
            },
            "type": "scattermapbox"
           }
          ],
          "scatterpolar": [
           {
            "marker": {
             "colorbar": {
              "outlinewidth": 0,
              "ticks": ""
             }
            },
            "type": "scatterpolar"
           }
          ],
          "scatterpolargl": [
           {
            "marker": {
             "colorbar": {
              "outlinewidth": 0,
              "ticks": ""
             }
            },
            "type": "scatterpolargl"
           }
          ],
          "scatterternary": [
           {
            "marker": {
             "colorbar": {
              "outlinewidth": 0,
              "ticks": ""
             }
            },
            "type": "scatterternary"
           }
          ],
          "surface": [
           {
            "colorbar": {
             "outlinewidth": 0,
             "ticks": ""
            },
            "colorscale": [
             [
              0,
              "#0d0887"
             ],
             [
              0.1111111111111111,
              "#46039f"
             ],
             [
              0.2222222222222222,
              "#7201a8"
             ],
             [
              0.3333333333333333,
              "#9c179e"
             ],
             [
              0.4444444444444444,
              "#bd3786"
             ],
             [
              0.5555555555555556,
              "#d8576b"
             ],
             [
              0.6666666666666666,
              "#ed7953"
             ],
             [
              0.7777777777777778,
              "#fb9f3a"
             ],
             [
              0.8888888888888888,
              "#fdca26"
             ],
             [
              1,
              "#f0f921"
             ]
            ],
            "type": "surface"
           }
          ],
          "table": [
           {
            "cells": {
             "fill": {
              "color": "#EBF0F8"
             },
             "line": {
              "color": "white"
             }
            },
            "header": {
             "fill": {
              "color": "#C8D4E3"
             },
             "line": {
              "color": "white"
             }
            },
            "type": "table"
           }
          ]
         },
         "layout": {
          "annotationdefaults": {
           "arrowcolor": "#2a3f5f",
           "arrowhead": 0,
           "arrowwidth": 1
          },
          "autotypenumbers": "strict",
          "coloraxis": {
           "colorbar": {
            "outlinewidth": 0,
            "ticks": ""
           }
          },
          "colorscale": {
           "diverging": [
            [
             0,
             "#8e0152"
            ],
            [
             0.1,
             "#c51b7d"
            ],
            [
             0.2,
             "#de77ae"
            ],
            [
             0.3,
             "#f1b6da"
            ],
            [
             0.4,
             "#fde0ef"
            ],
            [
             0.5,
             "#f7f7f7"
            ],
            [
             0.6,
             "#e6f5d0"
            ],
            [
             0.7,
             "#b8e186"
            ],
            [
             0.8,
             "#7fbc41"
            ],
            [
             0.9,
             "#4d9221"
            ],
            [
             1,
             "#276419"
            ]
           ],
           "sequential": [
            [
             0,
             "#0d0887"
            ],
            [
             0.1111111111111111,
             "#46039f"
            ],
            [
             0.2222222222222222,
             "#7201a8"
            ],
            [
             0.3333333333333333,
             "#9c179e"
            ],
            [
             0.4444444444444444,
             "#bd3786"
            ],
            [
             0.5555555555555556,
             "#d8576b"
            ],
            [
             0.6666666666666666,
             "#ed7953"
            ],
            [
             0.7777777777777778,
             "#fb9f3a"
            ],
            [
             0.8888888888888888,
             "#fdca26"
            ],
            [
             1,
             "#f0f921"
            ]
           ],
           "sequentialminus": [
            [
             0,
             "#0d0887"
            ],
            [
             0.1111111111111111,
             "#46039f"
            ],
            [
             0.2222222222222222,
             "#7201a8"
            ],
            [
             0.3333333333333333,
             "#9c179e"
            ],
            [
             0.4444444444444444,
             "#bd3786"
            ],
            [
             0.5555555555555556,
             "#d8576b"
            ],
            [
             0.6666666666666666,
             "#ed7953"
            ],
            [
             0.7777777777777778,
             "#fb9f3a"
            ],
            [
             0.8888888888888888,
             "#fdca26"
            ],
            [
             1,
             "#f0f921"
            ]
           ]
          },
          "colorway": [
           "#636efa",
           "#EF553B",
           "#00cc96",
           "#ab63fa",
           "#FFA15A",
           "#19d3f3",
           "#FF6692",
           "#B6E880",
           "#FF97FF",
           "#FECB52"
          ],
          "font": {
           "color": "#2a3f5f"
          },
          "geo": {
           "bgcolor": "white",
           "lakecolor": "white",
           "landcolor": "#E5ECF6",
           "showlakes": true,
           "showland": true,
           "subunitcolor": "white"
          },
          "hoverlabel": {
           "align": "left"
          },
          "hovermode": "closest",
          "mapbox": {
           "style": "light"
          },
          "paper_bgcolor": "white",
          "plot_bgcolor": "#E5ECF6",
          "polar": {
           "angularaxis": {
            "gridcolor": "white",
            "linecolor": "white",
            "ticks": ""
           },
           "bgcolor": "#E5ECF6",
           "radialaxis": {
            "gridcolor": "white",
            "linecolor": "white",
            "ticks": ""
           }
          },
          "scene": {
           "xaxis": {
            "backgroundcolor": "#E5ECF6",
            "gridcolor": "white",
            "gridwidth": 2,
            "linecolor": "white",
            "showbackground": true,
            "ticks": "",
            "zerolinecolor": "white"
           },
           "yaxis": {
            "backgroundcolor": "#E5ECF6",
            "gridcolor": "white",
            "gridwidth": 2,
            "linecolor": "white",
            "showbackground": true,
            "ticks": "",
            "zerolinecolor": "white"
           },
           "zaxis": {
            "backgroundcolor": "#E5ECF6",
            "gridcolor": "white",
            "gridwidth": 2,
            "linecolor": "white",
            "showbackground": true,
            "ticks": "",
            "zerolinecolor": "white"
           }
          },
          "shapedefaults": {
           "line": {
            "color": "#2a3f5f"
           }
          },
          "ternary": {
           "aaxis": {
            "gridcolor": "white",
            "linecolor": "white",
            "ticks": ""
           },
           "baxis": {
            "gridcolor": "white",
            "linecolor": "white",
            "ticks": ""
           },
           "bgcolor": "#E5ECF6",
           "caxis": {
            "gridcolor": "white",
            "linecolor": "white",
            "ticks": ""
           }
          },
          "title": {
           "x": 0.05
          },
          "xaxis": {
           "automargin": true,
           "gridcolor": "white",
           "linecolor": "white",
           "ticks": "",
           "title": {
            "standoff": 15
           },
           "zerolinecolor": "white",
           "zerolinewidth": 2
          },
          "yaxis": {
           "automargin": true,
           "gridcolor": "white",
           "linecolor": "white",
           "ticks": "",
           "title": {
            "standoff": 15
           },
           "zerolinecolor": "white",
           "zerolinewidth": 2
          }
         }
        },
        "title": {
         "text": "Total Humanitarian Workers Affected by Country (1997–2025)",
         "x": 0.5
        },
        "updatemenus": [
         {
          "buttons": [
           {
            "args": [
             null,
             {
              "frame": {
               "duration": 800,
               "redraw": true
              },
              "fromcurrent": true,
              "transition": {
               "duration": 300,
               "easing": "quadratic-in-out"
              }
             }
            ],
            "label": "Play",
            "method": "animate"
           },
           {
            "args": [
             [
              null
             ],
             {
              "frame": {
               "duration": 0,
               "redraw": false
              },
              "mode": "immediate",
              "transition": {
               "duration": 0
              }
             }
            ],
            "label": "Pause",
            "method": "animate"
           }
          ],
          "direction": "left",
          "pad": {
           "r": 10,
           "t": 70
          },
          "showactive": false,
          "type": "buttons",
          "x": 0.1,
          "xanchor": "right",
          "y": 0,
          "yanchor": "top"
         }
        ]
       }
      }
     },
     "metadata": {},
     "output_type": "display_data"
    }
   ],
   "source": [
    "import plotly.express as px\n",
    "import plotly.graph_objects as go\n",
    "import pandas as pd\n",
    "import numpy as np\n",
    "\n",
    "# --- Step 1: Prepare your data ---\n",
    "# Assuming df is already loaded and contains your dataset\n",
    "\n",
    "# Create a datetime column for easier handling\n",
    "df['date'] = pd.to_datetime(df[['year', 'month', 'day']])\n",
    "\n",
    "# --- Step 2: Create the base choropleth map ---\n",
    "# Fix: Use 'total_affected' instead of 'total.killed' to match your dataframe columns\n",
    "fig = px.choropleth(\n",
    "    df_grouped,\n",
    "    locations='ISO',\n",
    "    locationmode='ISO-3',\n",
    "    color='total.affected',  # Changed from 'total.killed' to match your dataframe\n",
    "    hover_name='country',\n",
    "    animation_frame='year',\n",
    "    color_continuous_scale='Reds',\n",
    "    title='Total Humanitarian Workers Affected by Country (1997–2025)'\n",
    ")\n",
    "\n",
    "# --- Step 3: Get the top 20 attacks by total affected ---\n",
    "# Fix: Use 'total_affected' instead of 'total.affected' to match your dataframe columns\n",
    "top20 = df.sort_values(by='total.affected', ascending=False).head(20).copy()\n",
    "\n",
    "# --- Step 4: Normalize marker sizes based on total_affected ---\n",
    "max_affected = top20['total.affected'].max()\n",
    "min_affected = top20['total.affected'].min()\n",
    "size_range = (10, 40)  # min and max marker sizes\n",
    "\n",
    "top20['marker_size'] = size_range[0] + (\n",
    "    (top20['total.affected'] - min_affected) / \n",
    "    (max_affected - min_affected) * \n",
    "    (size_range[1] - size_range[0])\n",
    ")\n",
    "\n",
    "# --- Step 5: Process year frames with cumulative attacks ---\n",
    "years = sorted(df['year'].unique())\n",
    "frames = []\n",
    "\n",
    "for year in years:\n",
    "    # Create frame data for the choropleth\n",
    "    frame_data = df_grouped[df_grouped['year'] == year]\n",
    "    \n",
    "    # Create a choropleth frame for this year\n",
    "    choropleth = go.Choropleth(\n",
    "        locations=frame_data['ISO'],\n",
    "        z=frame_data['total.affected'],  # Changed to match your column name\n",
    "        locationmode='ISO-3',\n",
    "        colorscale='Reds',\n",
    "        showscale=True\n",
    "    )\n",
    "    \n",
    "    # Get attacks that happened up to this year\n",
    "    year_attacks = top20[top20['year'] <= year].copy()\n",
    "    \n",
    "    # For each attack, determine its color based on how old it is\n",
    "    color_data = []\n",
    "    for _, attack in year_attacks.iterrows():\n",
    "        years_ago = year - attack['year']\n",
    "        \n",
    "        # Attacks that just happened this year are bright red\n",
    "        if years_ago == 0:\n",
    "            color = 'rgba(255, 0, 0, 0.9)'  # Bright red\n",
    "        else:\n",
    "            # Older attacks fade from red to black over time\n",
    "            fade_factor = min(1.0, years_ago / 5)  # Full fade to black over 5 years\n",
    "            r = int(255 * (1 - fade_factor))  # Red component decreases with age\n",
    "            opacity = 0.9 - (0.5 * fade_factor)  # Opacity slightly decreases with age\n",
    "            color = f'rgba({r}, 0, 0, {opacity})'\n",
    "        \n",
    "        color_data.append(color)\n",
    "    \n",
    "    year_attacks['color'] = color_data\n",
    "    \n",
    "    # Create scatter trace for the attacks\n",
    "    scatter = go.Scattergeo(\n",
    "        lon=year_attacks['longitude'],\n",
    "        lat=year_attacks['latitude'],\n",
    "        mode='markers',\n",
    "        marker=dict(\n",
    "            size=year_attacks['marker_size'],\n",
    "            color=year_attacks['color'],\n",
    "            line=dict(width=1, color='rgba(255, 255, 255, 0.5)')\n",
    "        ),\n",
    "        text=[\n",
    "            f\"Date: {row['month']}/{row['day']}/{row['year']}<br>\"\n",
    "            f\"Country: {row['country']}<br>\"\n",
    "            f\"Location: {row['city'] if pd.notna(row['city']) else 'Unknown'}<br>\"\n",
    "            f\"Total Affected: {row['total.affected']}<br>\"\n",
    "            f\"Killed: {row['total.killed']}<br>\"\n",
    "            f\"Wounded: {row['total.wounded']}<br>\"\n",
    "            f\"Kidnapped: {row['total.kidnapped']}<br>\"\n",
    "            f\"Years Ago: {year - row['year']}\"\n",
    "            for _, row in year_attacks.iterrows()\n",
    "        ],\n",
    "        hoverinfo='text',\n",
    "        name=f'Attacks through {year}'\n",
    "    )\n",
    "    \n",
    "    # Create frame with both the choropleth and scatter plot\n",
    "    frame = go.Frame(\n",
    "        data=[choropleth, scatter],\n",
    "        name=str(year)\n",
    "    )\n",
    "    frames.append(frame)\n",
    "\n",
    "# --- Step 6: Update the initial figure with the first frame data ---\n",
    "# Add the scatter trace for the first year\n",
    "initial_year = min(years)\n",
    "initial_attacks = top20[top20['year'] <= initial_year].copy()\n",
    "\n",
    "if not initial_attacks.empty:\n",
    "    # All initial attacks are shown in bright red\n",
    "    fig.add_trace(go.Scattergeo(\n",
    "        lon=initial_attacks['longitude'],\n",
    "        lat=initial_attacks['latitude'],\n",
    "        mode='markers',\n",
    "        marker=dict(\n",
    "            size=initial_attacks['marker_size'],\n",
    "            color='rgba(255, 0, 0, 0.9)',  # Bright red\n",
    "            line=dict(width=1, color='rgba(255, 255, 255, 0.5)')\n",
    "        ),\n",
    "        text=[\n",
    "            f\"Date: {row['month']}/{row['day']}/{row['year']}<br>\"\n",
    "            f\"Country: {row['country']}<br>\"\n",
    "            f\"Location: {row['city'] if pd.notna(row['city']) else 'Unknown'}<br>\"\n",
    "            f\"Total Affected: {row['total_affected']}<br>\"\n",
    "            f\"Killed: {row['total.killed']}<br>\"\n",
    "            f\"Wounded: {row['total.wounded']}<br>\"\n",
    "            f\"Kidnapped: {row['total.kidnapped']}\"\n",
    "            for _, row in initial_attacks.iterrows()\n",
    "        ],\n",
    "        hoverinfo='text',\n",
    "        name=f'Attacks through {initial_year}'\n",
    "    ))\n",
    "\n",
    "# --- Step 7: Add animation controls ---\n",
    "fig.frames = frames\n",
    "\n",
    "# Update layout with improved animation controls\n",
    "fig.update_layout(\n",
    "    geo=dict(\n",
    "        showframe=False,\n",
    "        showcoastlines=True,\n",
    "        projection_type='equirectangular'\n",
    "    ),\n",
    "    title_x=0.5,\n",
    "    updatemenus=[{\n",
    "        'type': 'buttons',\n",
    "        'showactive': False,\n",
    "        'buttons': [{\n",
    "            'label': 'Play',\n",
    "            'method': 'animate',\n",
    "            'args': [None, {\n",
    "                'frame': {'duration': 800, 'redraw': True},\n",
    "                'fromcurrent': True,\n",
    "                'transition': {'duration': 300, 'easing': 'quadratic-in-out'}\n",
    "            }]\n",
    "        }, {\n",
    "            'label': 'Pause',\n",
    "            'method': 'animate',\n",
    "            'args': [[None], {\n",
    "                'frame': {'duration': 0, 'redraw': False},\n",
    "                'mode': 'immediate',\n",
    "                'transition': {'duration': 0}\n",
    "            }]\n",
    "        }]\n",
    "    }],\n",
    "    # Add a slider to select the year\n",
    "    sliders=[{\n",
    "        'active': 0,\n",
    "        'steps': [\n",
    "            {\n",
    "                'method': 'animate',\n",
    "                'label': str(year),\n",
    "                'args': [[str(year)], {\n",
    "                    'frame': {'duration': 300, 'redraw': True},\n",
    "                    'mode': 'immediate',\n",
    "                    'transition': {'duration': 300}\n",
    "                }]\n",
    "            } \n",
    "            for year in years\n",
    "        ],\n",
    "        'transition': {'duration': 300},\n",
    "        'x': 0.1,\n",
    "        'len': 0.9\n",
    "    }]\n",
    ")\n",
    "\n",
    "# Add an annotation to explain the visualization\n",
    "fig.add_annotation(\n",
    "    x=0.01,\n",
    "    y=0.01,\n",
    "    xref=\"paper\",\n",
    "    yref=\"paper\",\n",
    "    text=\"Circle size represents total affected people.<br>Newer attacks are bright red, older attacks fade to black.\",\n",
    "    showarrow=False,\n",
    "    font=dict(size=10),\n",
    "    align=\"left\",\n",
    "    bgcolor=\"rgba(255, 255, 255, 0.7)\",\n",
    "    bordercolor=\"black\",\n",
    "    borderwidth=1,\n",
    "    borderpad=4\n",
    ")\n",
    "\n",
    "# Show the figure\n",
    "fig.show()"
   ]
  },
  {
   "cell_type": "code",
   "execution_count": 45,
   "metadata": {},
   "outputs": [
    {
     "name": "stderr",
     "output_type": "stream",
     "text": [
      "/var/folders/vs/3j3cdp2s1nn0lr6x50_9ycj00000gn/T/ipykernel_96817/1742252758.py:14: SettingWithCopyWarning:\n",
      "\n",
      "\n",
      "A value is trying to be set on a copy of a slice from a DataFrame.\n",
      "Try using .loc[row_indexer,col_indexer] = value instead\n",
      "\n",
      "See the caveats in the documentation: https://pandas.pydata.org/pandas-docs/stable/user_guide/indexing.html#returning-a-view-versus-a-copy\n",
      "\n"
     ]
    },
    {
     "ename": "ImportError",
     "evalue": "The \"vegafusion\" data transformer and chart.transformed_data feature requires\nversion 1.5.0 or greater of the 'vegafusion-python-embed' and 'vegafusion' packages.\nThese can be installed with pip using:\n    pip install \"vegafusion[embed]>=1.5.0\"\nOr with conda using:\n    conda install -c conda-forge \"vegafusion-python-embed>=1.5.0\" \"vegafusion>=1.5.0\"\n\nImportError: No module named 'vegafusion'",
     "output_type": "error",
     "traceback": [
      "\u001b[0;31m---------------------------------------------------------------------------\u001b[0m",
      "\u001b[0;31mModuleNotFoundError\u001b[0m                       Traceback (most recent call last)",
      "File \u001b[0;32m/opt/anaconda3/envs/dataviz5200/lib/python3.13/site-packages/altair/utils/_importers.py:15\u001b[0m, in \u001b[0;36mimport_vegafusion\u001b[0;34m()\u001b[0m\n\u001b[1;32m     14\u001b[0m \u001b[38;5;28;01mtry\u001b[39;00m:\n\u001b[0;32m---> 15\u001b[0m     \u001b[38;5;28;01mimport\u001b[39;00m\u001b[38;5;250m \u001b[39m\u001b[38;5;21;01mvegafusion\u001b[39;00m\u001b[38;5;250m \u001b[39m\u001b[38;5;28;01mas\u001b[39;00m\u001b[38;5;250m \u001b[39m\u001b[38;5;21;01mvf\u001b[39;00m\n\u001b[1;32m     17\u001b[0m     version \u001b[38;5;241m=\u001b[39m importlib_version(\u001b[38;5;124m\"\u001b[39m\u001b[38;5;124mvegafusion\u001b[39m\u001b[38;5;124m\"\u001b[39m)\n",
      "\u001b[0;31mModuleNotFoundError\u001b[0m: No module named 'vegafusion'",
      "\nThe above exception was the direct cause of the following exception:\n",
      "\u001b[0;31mImportError\u001b[0m                               Traceback (most recent call last)",
      "File \u001b[0;32m/opt/anaconda3/envs/dataviz5200/lib/python3.13/site-packages/IPython/core/formatters.py:1036\u001b[0m, in \u001b[0;36mMimeBundleFormatter.__call__\u001b[0;34m(self, obj, include, exclude)\u001b[0m\n\u001b[1;32m   1033\u001b[0m     method \u001b[38;5;241m=\u001b[39m get_real_method(obj, \u001b[38;5;28mself\u001b[39m\u001b[38;5;241m.\u001b[39mprint_method)\n\u001b[1;32m   1035\u001b[0m     \u001b[38;5;28;01mif\u001b[39;00m method \u001b[38;5;129;01mis\u001b[39;00m \u001b[38;5;129;01mnot\u001b[39;00m \u001b[38;5;28;01mNone\u001b[39;00m:\n\u001b[0;32m-> 1036\u001b[0m         \u001b[38;5;28;01mreturn\u001b[39;00m \u001b[43mmethod\u001b[49m\u001b[43m(\u001b[49m\u001b[43minclude\u001b[49m\u001b[38;5;241;43m=\u001b[39;49m\u001b[43minclude\u001b[49m\u001b[43m,\u001b[49m\u001b[43m \u001b[49m\u001b[43mexclude\u001b[49m\u001b[38;5;241;43m=\u001b[39;49m\u001b[43mexclude\u001b[49m\u001b[43m)\u001b[49m\n\u001b[1;32m   1037\u001b[0m     \u001b[38;5;28;01mreturn\u001b[39;00m \u001b[38;5;28;01mNone\u001b[39;00m\n\u001b[1;32m   1038\u001b[0m \u001b[38;5;28;01melse\u001b[39;00m:\n",
      "File \u001b[0;32m/opt/anaconda3/envs/dataviz5200/lib/python3.13/site-packages/altair/vegalite/v5/api.py:3682\u001b[0m, in \u001b[0;36mTopLevelMixin._repr_mimebundle_\u001b[0;34m(self, *args, **kwds)\u001b[0m\n\u001b[1;32m   3680\u001b[0m \u001b[38;5;28;01melse\u001b[39;00m:\n\u001b[1;32m   3681\u001b[0m     \u001b[38;5;28;01mif\u001b[39;00m renderer \u001b[38;5;241m:=\u001b[39m renderers\u001b[38;5;241m.\u001b[39mget():\n\u001b[0;32m-> 3682\u001b[0m         \u001b[38;5;28;01mreturn\u001b[39;00m \u001b[43mrenderer\u001b[49m\u001b[43m(\u001b[49m\u001b[43mdct\u001b[49m\u001b[43m)\u001b[49m\n",
      "File \u001b[0;32m/opt/anaconda3/envs/dataviz5200/lib/python3.13/site-packages/altair/utils/display.py:232\u001b[0m, in \u001b[0;36mHTMLRenderer.__call__\u001b[0;34m(self, spec, **metadata)\u001b[0m\n\u001b[1;32m    230\u001b[0m kwargs \u001b[38;5;241m=\u001b[39m \u001b[38;5;28mself\u001b[39m\u001b[38;5;241m.\u001b[39mkwargs\u001b[38;5;241m.\u001b[39mcopy()\n\u001b[1;32m    231\u001b[0m kwargs\u001b[38;5;241m.\u001b[39mupdate(\u001b[38;5;241m*\u001b[39m\u001b[38;5;241m*\u001b[39mmetadata, output_div\u001b[38;5;241m=\u001b[39m\u001b[38;5;28mself\u001b[39m\u001b[38;5;241m.\u001b[39moutput_div)\n\u001b[0;32m--> 232\u001b[0m \u001b[38;5;28;01mreturn\u001b[39;00m \u001b[43mspec_to_mimebundle\u001b[49m\u001b[43m(\u001b[49m\u001b[43mspec\u001b[49m\u001b[43m,\u001b[49m\u001b[43m \u001b[49m\u001b[38;5;28;43mformat\u001b[39;49m\u001b[38;5;241;43m=\u001b[39;49m\u001b[38;5;124;43m\"\u001b[39;49m\u001b[38;5;124;43mhtml\u001b[39;49m\u001b[38;5;124;43m\"\u001b[39;49m\u001b[43m,\u001b[49m\u001b[43m \u001b[49m\u001b[38;5;241;43m*\u001b[39;49m\u001b[38;5;241;43m*\u001b[39;49m\u001b[43mkwargs\u001b[49m\u001b[43m)\u001b[49m\n",
      "File \u001b[0;32m/opt/anaconda3/envs/dataviz5200/lib/python3.13/site-packages/altair/utils/mimebundle.py:129\u001b[0m, in \u001b[0;36mspec_to_mimebundle\u001b[0;34m(spec, format, mode, vega_version, vegaembed_version, vegalite_version, embed_options, engine, **kwargs)\u001b[0m\n\u001b[1;32m    127\u001b[0m internal_mode: Literal[\u001b[38;5;124m\"\u001b[39m\u001b[38;5;124mvega-lite\u001b[39m\u001b[38;5;124m\"\u001b[39m, \u001b[38;5;124m\"\u001b[39m\u001b[38;5;124mvega\u001b[39m\u001b[38;5;124m\"\u001b[39m] \u001b[38;5;241m=\u001b[39m mode\n\u001b[1;32m    128\u001b[0m \u001b[38;5;28;01mif\u001b[39;00m using_vegafusion():\n\u001b[0;32m--> 129\u001b[0m     spec \u001b[38;5;241m=\u001b[39m \u001b[43mcompile_with_vegafusion\u001b[49m\u001b[43m(\u001b[49m\u001b[43mspec\u001b[49m\u001b[43m)\u001b[49m\n\u001b[1;32m    130\u001b[0m     internal_mode \u001b[38;5;241m=\u001b[39m \u001b[38;5;124m\"\u001b[39m\u001b[38;5;124mvega\u001b[39m\u001b[38;5;124m\"\u001b[39m\n\u001b[1;32m    132\u001b[0m \u001b[38;5;66;03m# Default to the embed options set by alt.renderers.set_embed_options\u001b[39;00m\n",
      "File \u001b[0;32m/opt/anaconda3/envs/dataviz5200/lib/python3.13/site-packages/altair/utils/_vegafusion_data.py:258\u001b[0m, in \u001b[0;36mcompile_with_vegafusion\u001b[0;34m(vegalite_spec)\u001b[0m\n\u001b[1;32m    255\u001b[0m \u001b[38;5;66;03m# Local import to avoid circular ImportError\u001b[39;00m\n\u001b[1;32m    256\u001b[0m \u001b[38;5;28;01mfrom\u001b[39;00m\u001b[38;5;250m \u001b[39m\u001b[38;5;21;01maltair\u001b[39;00m\u001b[38;5;250m \u001b[39m\u001b[38;5;28;01mimport\u001b[39;00m data_transformers, vegalite_compilers\n\u001b[0;32m--> 258\u001b[0m vf \u001b[38;5;241m=\u001b[39m \u001b[43mimport_vegafusion\u001b[49m\u001b[43m(\u001b[49m\u001b[43m)\u001b[49m\n\u001b[1;32m    260\u001b[0m \u001b[38;5;66;03m# Compile Vega-Lite spec to Vega\u001b[39;00m\n\u001b[1;32m    261\u001b[0m compiler \u001b[38;5;241m=\u001b[39m vegalite_compilers\u001b[38;5;241m.\u001b[39mget()\n",
      "File \u001b[0;32m/opt/anaconda3/envs/dataviz5200/lib/python3.13/site-packages/altair/utils/_importers.py:44\u001b[0m, in \u001b[0;36mimport_vegafusion\u001b[0;34m()\u001b[0m\n\u001b[1;32m     33\u001b[0m \u001b[38;5;28;01mexcept\u001b[39;00m \u001b[38;5;167;01mImportError\u001b[39;00m \u001b[38;5;28;01mas\u001b[39;00m err:\n\u001b[1;32m     34\u001b[0m     msg \u001b[38;5;241m=\u001b[39m (\n\u001b[1;32m     35\u001b[0m         \u001b[38;5;124m'\u001b[39m\u001b[38;5;124mThe \u001b[39m\u001b[38;5;124m\"\u001b[39m\u001b[38;5;124mvegafusion\u001b[39m\u001b[38;5;124m\"\u001b[39m\u001b[38;5;124m data transformer and chart.transformed_data feature requires\u001b[39m\u001b[38;5;130;01m\\n\u001b[39;00m\u001b[38;5;124m'\u001b[39m\n\u001b[1;32m     36\u001b[0m         \u001b[38;5;124mf\u001b[39m\u001b[38;5;124m\"\u001b[39m\u001b[38;5;124mversion \u001b[39m\u001b[38;5;132;01m{\u001b[39;00mmin_version\u001b[38;5;132;01m}\u001b[39;00m\u001b[38;5;124m or greater of the \u001b[39m\u001b[38;5;124m'\u001b[39m\u001b[38;5;124mvegafusion-python-embed\u001b[39m\u001b[38;5;124m'\u001b[39m\u001b[38;5;124m and \u001b[39m\u001b[38;5;124m'\u001b[39m\u001b[38;5;124mvegafusion\u001b[39m\u001b[38;5;124m'\u001b[39m\u001b[38;5;124m packages.\u001b[39m\u001b[38;5;130;01m\\n\u001b[39;00m\u001b[38;5;124m\"\u001b[39m\n\u001b[0;32m   (...)\u001b[0m\n\u001b[1;32m     42\u001b[0m         \u001b[38;5;124mf\u001b[39m\u001b[38;5;124m\"\u001b[39m\u001b[38;5;124mImportError: \u001b[39m\u001b[38;5;132;01m{\u001b[39;00merr\u001b[38;5;241m.\u001b[39margs[\u001b[38;5;241m0\u001b[39m]\u001b[38;5;132;01m}\u001b[39;00m\u001b[38;5;124m\"\u001b[39m\n\u001b[1;32m     43\u001b[0m     )\n\u001b[0;32m---> 44\u001b[0m     \u001b[38;5;28;01mraise\u001b[39;00m \u001b[38;5;167;01mImportError\u001b[39;00m(msg) \u001b[38;5;28;01mfrom\u001b[39;00m\u001b[38;5;250m \u001b[39m\u001b[38;5;21;01merr\u001b[39;00m\n",
      "\u001b[0;31mImportError\u001b[0m: The \"vegafusion\" data transformer and chart.transformed_data feature requires\nversion 1.5.0 or greater of the 'vegafusion-python-embed' and 'vegafusion' packages.\nThese can be installed with pip using:\n    pip install \"vegafusion[embed]>=1.5.0\"\nOr with conda using:\n    conda install -c conda-forge \"vegafusion-python-embed>=1.5.0\" \"vegafusion>=1.5.0\"\n\nImportError: No module named 'vegafusion'"
     ]
    },
    {
     "data": {
      "text/plain": [
       "alt.Chart(...)"
      ]
     },
     "execution_count": 45,
     "metadata": {},
     "output_type": "execute_result"
    }
   ],
   "source": [
    "df['Date'] = pd.to_datetime(df[['year', 'month']].assign(Day=1))\n",
    "\n",
    "import pandas as pd\n",
    "import altair as alt\n",
    "\n",
    "\n",
    "def create_viz2():\n",
    "    # Load your data\n",
    "    df = pd.read_csv('../data/security_incidents.csv')\n",
    "    df = df.clean_names()\n",
    "    df.columns = df.columns.str.replace('_', '.', regex=False)\n",
    "    \n",
    "    # Create full date column from Year and Month\n",
    "    df['Date'] = pd.to_datetime(df[['year', 'month']].assign(Day=1))\n",
    "\n",
    "    # Filter out invalid rows\n",
    "    df = df.dropna(subset=['Date'])\n",
    "\n",
    "    # Define selectable y-axis variable\n",
    "    y_dropdown = alt.binding_select(options=['total.affected', 'total.killed', 'total.wounded', 'total.kidnapped'],\n",
    "                                    name='Y-Axis:')\n",
    "    y_selection = alt.selection_point(fields=['yvar'], bind=y_dropdown, value='total.affected')\n",
    "\n",
    "    # Melt your dataframe into long format for flexible plotting\n",
    "    df_long = df.melt(id_vars=['Date', 'country'], value_vars=['total.affected', 'total.killed', 'total.wounded', 'total.kidnapped'], \n",
    "                      var_name='yvar', value_name='yval')\n",
    "\n",
    "    base = alt.Chart(df_long).transform_filter(\n",
    "        y_selection\n",
    "    ).mark_circle(opacity=0.6).encode(\n",
    "        x=alt.X('Date:T', title=\"Date\"),\n",
    "        y=alt.Y('yval:Q', title=''),\n",
    "        color=alt.Color('country:N', legend=None),\n",
    "        tooltip=['country', 'Date', 'yval', 'yvar']\n",
    "    ).add_params(\n",
    "        y_selection\n",
    "    ).properties(\n",
    "        width=800,\n",
    "        height=400,\n",
    "        title=\"Interactive Timeline of Humanitarian Impacts\"\n",
    "    ).interactive()\n",
    "\n",
    "    return base\n",
    "\n",
    "import altair as alt\n",
    "alt.data_transformers.disable_max_rows()\n",
    "\n",
    "chart = create_viz2()\n",
    "chart\n"
   ]
  }
 ],
 "metadata": {
  "kernelspec": {
   "display_name": "dataviz5200",
   "language": "python",
   "name": "python3"
  },
  "language_info": {
   "codemirror_mode": {
    "name": "ipython",
    "version": 3
   },
   "file_extension": ".py",
   "mimetype": "text/x-python",
   "name": "python",
   "nbconvert_exporter": "python",
   "pygments_lexer": "ipython3",
   "version": "3.13.2"
  }
 },
 "nbformat": 4,
 "nbformat_minor": 2
}
