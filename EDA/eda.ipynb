{
 "cells": [
  {
   "cell_type": "code",
   "execution_count": 21,
   "metadata": {},
   "outputs": [
    {
     "name": "stdout",
     "output_type": "stream",
     "text": [
      "Total number of ALL affected: 7,316\n",
      "Total number of Internationals affected: 766\n"
     ]
    }
   ],
   "source": [
    "import numpy as np\n",
    "import pandas as pd\n",
    "\n",
    "df = pd.read_csv('../data/cleaned_security_incidents.csv')\n",
    "\n",
    "# Calculate the sum of all values in the total_affected column\n",
    "total_sum = df['total_affected'].sum()\n",
    "total_sum_int = df['total_internationals'].sum()\n",
    "\n",
    "# Print the result\n",
    "print(f\"Total number of ALL affected: {total_sum:,}\")\n",
    "print(f\"Total number of Internationals affected: {total_sum_int:,}\")"
   ]
  },
  {
   "cell_type": "code",
   "execution_count": 14,
   "metadata": {},
   "outputs": [
    {
     "name": "stdout",
     "output_type": "stream",
     "text": [
      "                un         ingo         icrc  nrcs_and_ifrc         nngo  \\\n",
      "count  3957.000000  3957.000000  3948.000000    3948.000000  3948.000000   \n",
      "mean      0.374273     0.804145     0.044580       0.116768     0.485056   \n",
      "std       1.555568     1.639010     0.400833       0.781592     1.202156   \n",
      "min       0.000000     0.000000     0.000000       0.000000     0.000000   \n",
      "25%       0.000000     0.000000     0.000000       0.000000     0.000000   \n",
      "50%       0.000000     0.000000     0.000000       0.000000     0.000000   \n",
      "75%       0.000000     1.000000     0.000000       0.000000     1.000000   \n",
      "max      46.000000    49.000000     8.000000      19.000000    15.000000   \n",
      "\n",
      "             other  nationals_killed  nationals_wounded  nationals_kidnapped  \\\n",
      "count  3957.000000       3957.000000        3957.000000          3957.000000   \n",
      "mean      0.025524          0.606520           0.625979             0.422795   \n",
      "std       0.231724          1.375647           1.411749             1.264917   \n",
      "min       0.000000          0.000000           0.000000             0.000000   \n",
      "25%       0.000000          0.000000           0.000000             0.000000   \n",
      "50%       0.000000          0.000000           0.000000             0.000000   \n",
      "75%       0.000000          1.000000           1.000000             0.000000   \n",
      "max       5.000000         41.000000          37.000000            19.000000   \n",
      "\n",
      "       total_nationals  ...  internationals_kidnapped  total_internationals  \\\n",
      "count      3957.000000  ...               3957.000000           3957.000000   \n",
      "mean          1.655294  ...                  0.078089              0.193581   \n",
      "std           2.215274  ...                  0.485083              0.764763   \n",
      "min           0.000000  ...                  0.000000              0.000000   \n",
      "25%           1.000000  ...                  0.000000              0.000000   \n",
      "50%           1.000000  ...                  0.000000              0.000000   \n",
      "75%           2.000000  ...                  0.000000              0.000000   \n",
      "max          49.000000  ...                 12.000000             15.000000   \n",
      "\n",
      "       total_killed  total_wounded  total_kidnapped  total_affected  \\\n",
      "count   3957.000000    3957.000000      3957.000000     3957.000000   \n",
      "mean       0.657569       0.690422         0.500885        1.848875   \n",
      "std        1.438933       1.464767         1.369098        2.273380   \n",
      "min        0.000000       0.000000         0.000000        0.000000   \n",
      "25%        0.000000       0.000000         0.000000        1.000000   \n",
      "50%        0.000000       0.000000         0.000000        1.000000   \n",
      "75%        1.000000       1.000000         0.000000        2.000000   \n",
      "max       41.000000      37.000000        20.000000       49.000000   \n",
      "\n",
      "       gender_male  gender_female  gender_unknown  means_of_attack  \n",
      "count  3957.000000    3957.000000     3957.000000              0.0  \n",
      "mean      0.931261       0.144049        0.773313              NaN  \n",
      "std       1.238425       0.482739        2.060367              NaN  \n",
      "min       0.000000       0.000000        0.000000              NaN  \n",
      "25%       0.000000       0.000000        0.000000              NaN  \n",
      "50%       1.000000       0.000000        0.000000              NaN  \n",
      "75%       1.000000       0.000000        1.000000              NaN  \n",
      "max      17.000000       7.000000       46.000000              NaN  \n",
      "\n",
      "[8 rows x 22 columns]\n"
     ]
    }
   ],
   "source": [
    "print(df.iloc[:, 9:31].describe())"
   ]
  },
  {
   "cell_type": "code",
   "execution_count": 24,
   "metadata": {},
   "outputs": [
    {
     "name": "stdout",
     "output_type": "stream",
     "text": [
      "Index(['incident_id', 'year', 'month', 'day', 'country_code', 'country',\n",
      "       'region', 'district', 'city', 'un', 'ingo', 'icrc', 'nrcs_and_ifrc',\n",
      "       'nngo', 'other', 'nationals_killed', 'nationals_wounded',\n",
      "       'nationals_kidnapped', 'total_nationals', 'internationals_killed',\n",
      "       'internationals_wounded', 'internationals_kidnapped',\n",
      "       'total_internationals', 'total_killed', 'total_wounded',\n",
      "       'total_kidnapped', 'total_affected', 'gender_male', 'gender_female',\n",
      "       'gender_unknown', 'means_of_attack', 'attack_context', 'location',\n",
      "       'latitude', 'longitude', 'motive', 'actor_type', 'actor_name',\n",
      "       'details', 'verified', 'source'],\n",
      "      dtype='object')\n"
     ]
    }
   ],
   "source": [
    "print(df.columns)\n"
   ]
  },
  {
   "cell_type": "code",
   "execution_count": 23,
   "metadata": {},
   "outputs": [
    {
     "data": {
      "text/plain": [
       "means_of_attack\n",
       "Shooting                1168\n",
       "Kidnapping               818\n",
       "Bodily assault           789\n",
       "Unknown                  378\n",
       "Aerial bombardment       246\n",
       "Shelling                 153\n",
       "Kidnap-killing            99\n",
       "Vehicle-born IED          74\n",
       "Roadside IED              60\n",
       "Other Explosives          41\n",
       "Rape/sexual assault       40\n",
       "Complex attack            39\n",
       "Landmine                  35\n",
       "Body-borne IED            17\n",
       "Name: count, dtype: int64"
      ]
     },
     "execution_count": 23,
     "metadata": {},
     "output_type": "execute_result"
    }
   ],
   "source": [
    "# Get frequency counts of values in the means_of_attack column\n",
    "df['means_of_attack'].value_counts()\n"
   ]
  },
  {
   "cell_type": "code",
   "execution_count": 25,
   "metadata": {},
   "outputs": [
    {
     "data": {
      "text/plain": [
       "attack_context\n",
       "Ambush               1298\n",
       "Individual attack     821\n",
       "Combat/Crossfire      639\n",
       "Unknown               591\n",
       "Raid                  467\n",
       "Mob violence           84\n",
       "Detention              57\n",
       "Name: count, dtype: int64"
      ]
     },
     "execution_count": 25,
     "metadata": {},
     "output_type": "execute_result"
    }
   ],
   "source": [
    "df['attack_context'].value_counts()"
   ]
  },
  {
   "cell_type": "code",
   "execution_count": 26,
   "metadata": {},
   "outputs": [
    {
     "data": {
      "text/plain": [
       "motive\n",
       "Unknown       1721\n",
       "Political      764\n",
       "Incidental     734\n",
       "Economic       603\n",
       "Disputed       113\n",
       "Other           19\n",
       "Name: count, dtype: int64"
      ]
     },
     "execution_count": 26,
     "metadata": {},
     "output_type": "execute_result"
    }
   ],
   "source": [
    "df['motive'].value_counts()"
   ]
  },
  {
   "cell_type": "code",
   "execution_count": 27,
   "metadata": {},
   "outputs": [
    {
     "data": {
      "text/plain": [
       "actor_type\n",
       "Unknown                               1985\n",
       "Non-state armed group: Unknown         369\n",
       "Non-state armed group: National        336\n",
       "Unaffiliated                           211\n",
       "Foreign or coalition forces            199\n",
       "Host state                             188\n",
       "Non-state armed group: Regional        176\n",
       "Non-state armed group: Subnational     137\n",
       "Criminal                               122\n",
       "Police or paramilitary                  84\n",
       "Aid recipient                           58\n",
       "Staff member                            29\n",
       "Host State                              26\n",
       "Non-state armed group: Global           21\n",
       "Non-state armed group: Global           10\n",
       "State: unknown                           6\n",
       "Name: count, dtype: int64"
      ]
     },
     "execution_count": 27,
     "metadata": {},
     "output_type": "execute_result"
    }
   ],
   "source": [
    "df['actor_type'].value_counts()"
   ]
  }
 ],
 "metadata": {
  "kernelspec": {
   "display_name": "dataviz5200",
   "language": "python",
   "name": "python3"
  },
  "language_info": {
   "codemirror_mode": {
    "name": "ipython",
    "version": 3
   },
   "file_extension": ".py",
   "mimetype": "text/x-python",
   "name": "python",
   "nbconvert_exporter": "python",
   "pygments_lexer": "ipython3",
   "version": "3.13.2"
  }
 },
 "nbformat": 4,
 "nbformat_minor": 2
}
